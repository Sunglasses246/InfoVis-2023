{
 "cells": [
  {
   "cell_type": "code",
   "execution_count": 1,
   "id": "c939150a",
   "metadata": {},
   "outputs": [],
   "source": [
    "import plotly.graph_objs as go\n",
    "import plotly.express as px\n",
    "import pandas as pd"
   ]
  },
  {
   "cell_type": "markdown",
   "id": "addbd326",
   "metadata": {},
   "source": [
    "## Introduction\n",
    "\n",
    "Sociale media hebben een groot impact op de wereld achtergelaten, sinds het begin van de 21e eeuw is er een nieuwe manier van leven ontstaan: het digitale leven. Mensen van over de hele wereld kunnen nu in real time delen wat zij doen, en hoe hun leven eruitziet.\n",
    "Wat in eerste instantie een hele handige uitvinding bleek te zijn, brengt echter meerdere perspectieven met zich mee. Al snel bleek namelijk dat je niet per se alle kanten van je leven op sociale media hoeft te zetten. Het werd al snel een trend om voornamelijk de beste kanten te laten zien, en de mindere kanten van je leven privé te houden.\n",
    "\n",
    "In ons onderzoek gaan we kijken naar de impact van deze sociale media op de mentale gezondheid onder jong volwassenen. De illusies die sociale media met zich meebrengt zouden namelijk een negatief zelfbeeld kunnen veroorzaken bij jong volwassenen. Wij waren benieuwd of er een correlatie te vinden viel tussen de mentale gezondheid en de opkomst van sociale media. Ondanks dat we misschien in eerste instantie een negatief beeld schetsen, zou het echter ook zomaar de andere kant op kunnen gaan.\n",
    "\n",
    "Sociale media creeërde ook kansen op zowel sociaal- als werkgebied, nog nooit eerder konden jongeren zo snel met elkaar communiceren. Het zorgt voor kansen op zowel het gebied van liefde als vriendschap, en bracht een hele hoop nieuwe banen in de markt. Met behulp van slimme algoritmes kun je als creatieveling je werk aan miljoenen mensen laten zien, en dat helemaal gratis. Jong volwassenen kunnen ook veel gemakkelijker mensen vinden die dezelfde interesses delen, en hierdoor juist dat buitengesloten gevoel tegen gaan.\n",
    "\n",
    "Kortom gezegd, er zijn meerdere perspectieven die in eerste instantie erg logisch lijken te zijn. Hierom zijn wij benieuwd wat de data te zeggen heeft.\n"
   ]
  },
  {
   "cell_type": "markdown",
   "id": "65eca1fd",
   "metadata": {},
   "source": [
    "### Visualisaties\n",
    "\n",
    "##### Elke uitleg geldt voor de dataset die zich eronder bevindt\n",
    "\n",
    "**Uitleg:** Deze dataset (https://longreads.cbs.nl/jeugdmonitor-2022/welzijn-van-jongvolwassenen/) van het CBS (Centraal Bureau van Statistiek) gaat over het welzijn van jongeren, van 1997 tot 2021 is er onderzoek gedaan naar dit welzijn. Jongeren konden eerlijk aangeven of zij gelukkig of tevreden zijn met hun leven. De leeftijdsgroepen zijn opgesplitst in jongeren tussen 18-25, en mensen die boven de 18 zijn (algemene bevolking). De variabelen zijn: 'Category', 'Tevredenheid, 18 jaar of ouder', Tevredenheid, 18 tot 25 jaar', 'Geluk, 18 jaar of ouder', 'Geluk, 18 tot 25 jaar'. Category geeft het jaartal aan waarvan de data is opgenomen. De andere variabelen geven het percentage aan van de Nederlandse bevolking en jongvolwassenen dat zich zo voelt. De dataset is te downloaden op de webpagina van het CBS als de link is gevolgd. \n",
    "<br>\n",
    "<br>\n",
    "**Preprocessing:** Om deze dataset te gebruiken hoefde er niet enorm veel aan de dataset aangepast te worden. Het enige wat wel moest veranderen was dat de getallen er eerst als percentages instonden, waardoor python het niet herkende als een integer, maar als een string. Nadat dit was aangepast naar de getallen die equivalent zijn aan die percentages kon de dataset gebruikt worden voor een lijngrafiek die over tijd laat zien hoe de groepen zich voelen. "
   ]
  },
  {
   "cell_type": "code",
   "execution_count": 2,
   "id": "d9d2fd61",
   "metadata": {},
   "outputs": [
    {
     "data": {
      "text/html": [
       "<div>\n",
       "<style scoped>\n",
       "    .dataframe tbody tr th:only-of-type {\n",
       "        vertical-align: middle;\n",
       "    }\n",
       "\n",
       "    .dataframe tbody tr th {\n",
       "        vertical-align: top;\n",
       "    }\n",
       "\n",
       "    .dataframe thead th {\n",
       "        text-align: right;\n",
       "    }\n",
       "</style>\n",
       "<table border=\"1\" class=\"dataframe\">\n",
       "  <thead>\n",
       "    <tr style=\"text-align: right;\">\n",
       "      <th></th>\n",
       "      <th>Category</th>\n",
       "      <th>Tevredenheid, 18 jaar of ouder</th>\n",
       "      <th>Tevredenheid, 18 tot 25 jaar</th>\n",
       "      <th>Geluk, 18 jaar of ouder</th>\n",
       "      <th>Geluk, 18 tot 25 jaar</th>\n",
       "    </tr>\n",
       "  </thead>\n",
       "  <tbody>\n",
       "    <tr>\n",
       "      <th>0</th>\n",
       "      <td>1997</td>\n",
       "      <td>0.841</td>\n",
       "      <td>0.848</td>\n",
       "      <td>0.882</td>\n",
       "      <td>0.911</td>\n",
       "    </tr>\n",
       "    <tr>\n",
       "      <th>1</th>\n",
       "      <td>1998</td>\n",
       "      <td>0.854</td>\n",
       "      <td>0.849</td>\n",
       "      <td>0.890</td>\n",
       "      <td>0.909</td>\n",
       "    </tr>\n",
       "    <tr>\n",
       "      <th>2</th>\n",
       "      <td>1999</td>\n",
       "      <td>0.848</td>\n",
       "      <td>0.846</td>\n",
       "      <td>0.884</td>\n",
       "      <td>0.898</td>\n",
       "    </tr>\n",
       "    <tr>\n",
       "      <th>3</th>\n",
       "      <td>2000</td>\n",
       "      <td>0.858</td>\n",
       "      <td>0.855</td>\n",
       "      <td>0.891</td>\n",
       "      <td>0.908</td>\n",
       "    </tr>\n",
       "    <tr>\n",
       "      <th>4</th>\n",
       "      <td>2001</td>\n",
       "      <td>0.859</td>\n",
       "      <td>0.857</td>\n",
       "      <td>0.893</td>\n",
       "      <td>0.909</td>\n",
       "    </tr>\n",
       "    <tr>\n",
       "      <th>5</th>\n",
       "      <td>2002</td>\n",
       "      <td>0.844</td>\n",
       "      <td>0.814</td>\n",
       "      <td>0.880</td>\n",
       "      <td>0.887</td>\n",
       "    </tr>\n",
       "    <tr>\n",
       "      <th>6</th>\n",
       "      <td>2003</td>\n",
       "      <td>0.845</td>\n",
       "      <td>0.846</td>\n",
       "      <td>0.878</td>\n",
       "      <td>0.907</td>\n",
       "    </tr>\n",
       "    <tr>\n",
       "      <th>7</th>\n",
       "      <td>2004</td>\n",
       "      <td>0.843</td>\n",
       "      <td>0.841</td>\n",
       "      <td>0.878</td>\n",
       "      <td>0.906</td>\n",
       "    </tr>\n",
       "    <tr>\n",
       "      <th>8</th>\n",
       "      <td>2005</td>\n",
       "      <td>0.839</td>\n",
       "      <td>0.828</td>\n",
       "      <td>0.874</td>\n",
       "      <td>0.876</td>\n",
       "    </tr>\n",
       "    <tr>\n",
       "      <th>9</th>\n",
       "      <td>2006</td>\n",
       "      <td>0.844</td>\n",
       "      <td>0.850</td>\n",
       "      <td>0.888</td>\n",
       "      <td>0.905</td>\n",
       "    </tr>\n",
       "    <tr>\n",
       "      <th>10</th>\n",
       "      <td>2007</td>\n",
       "      <td>0.849</td>\n",
       "      <td>0.872</td>\n",
       "      <td>0.882</td>\n",
       "      <td>0.898</td>\n",
       "    </tr>\n",
       "    <tr>\n",
       "      <th>11</th>\n",
       "      <td>2008</td>\n",
       "      <td>0.858</td>\n",
       "      <td>0.865</td>\n",
       "      <td>0.887</td>\n",
       "      <td>0.914</td>\n",
       "    </tr>\n",
       "    <tr>\n",
       "      <th>12</th>\n",
       "      <td>2009</td>\n",
       "      <td>0.851</td>\n",
       "      <td>0.846</td>\n",
       "      <td>0.890</td>\n",
       "      <td>0.900</td>\n",
       "    </tr>\n",
       "    <tr>\n",
       "      <th>13</th>\n",
       "      <td>2010</td>\n",
       "      <td>0.838</td>\n",
       "      <td>0.847</td>\n",
       "      <td>0.877</td>\n",
       "      <td>0.888</td>\n",
       "    </tr>\n",
       "    <tr>\n",
       "      <th>14</th>\n",
       "      <td>2011</td>\n",
       "      <td>0.847</td>\n",
       "      <td>0.850</td>\n",
       "      <td>0.881</td>\n",
       "      <td>0.894</td>\n",
       "    </tr>\n",
       "    <tr>\n",
       "      <th>15</th>\n",
       "      <td>2012</td>\n",
       "      <td>0.851</td>\n",
       "      <td>0.858</td>\n",
       "      <td>0.890</td>\n",
       "      <td>0.904</td>\n",
       "    </tr>\n",
       "    <tr>\n",
       "      <th>16</th>\n",
       "      <td>2013</td>\n",
       "      <td>0.836</td>\n",
       "      <td>0.856</td>\n",
       "      <td>0.875</td>\n",
       "      <td>0.900</td>\n",
       "    </tr>\n",
       "    <tr>\n",
       "      <th>17</th>\n",
       "      <td>2014</td>\n",
       "      <td>0.846</td>\n",
       "      <td>0.826</td>\n",
       "      <td>0.879</td>\n",
       "      <td>0.896</td>\n",
       "    </tr>\n",
       "    <tr>\n",
       "      <th>18</th>\n",
       "      <td>2015</td>\n",
       "      <td>0.839</td>\n",
       "      <td>0.862</td>\n",
       "      <td>0.874</td>\n",
       "      <td>0.887</td>\n",
       "    </tr>\n",
       "    <tr>\n",
       "      <th>19</th>\n",
       "      <td>2016</td>\n",
       "      <td>0.852</td>\n",
       "      <td>0.855</td>\n",
       "      <td>0.883</td>\n",
       "      <td>0.885</td>\n",
       "    </tr>\n",
       "    <tr>\n",
       "      <th>20</th>\n",
       "      <td>2017</td>\n",
       "      <td>0.854</td>\n",
       "      <td>0.853</td>\n",
       "      <td>0.875</td>\n",
       "      <td>0.875</td>\n",
       "    </tr>\n",
       "    <tr>\n",
       "      <th>21</th>\n",
       "      <td>2018</td>\n",
       "      <td>0.857</td>\n",
       "      <td>0.838</td>\n",
       "      <td>0.877</td>\n",
       "      <td>0.858</td>\n",
       "    </tr>\n",
       "    <tr>\n",
       "      <th>22</th>\n",
       "      <td>2019</td>\n",
       "      <td>0.873</td>\n",
       "      <td>0.861</td>\n",
       "      <td>0.889</td>\n",
       "      <td>0.875</td>\n",
       "    </tr>\n",
       "    <tr>\n",
       "      <th>23</th>\n",
       "      <td>2020</td>\n",
       "      <td>0.848</td>\n",
       "      <td>0.814</td>\n",
       "      <td>0.868</td>\n",
       "      <td>0.838</td>\n",
       "    </tr>\n",
       "    <tr>\n",
       "      <th>24</th>\n",
       "      <td>2021</td>\n",
       "      <td>0.836</td>\n",
       "      <td>0.769</td>\n",
       "      <td>0.864</td>\n",
       "      <td>0.809</td>\n",
       "    </tr>\n",
       "  </tbody>\n",
       "</table>\n",
       "</div>"
      ],
      "text/plain": [
       "    Category  Tevredenheid, 18 jaar of ouder  Tevredenheid, 18 tot 25 jaar  \\\n",
       "0       1997                           0.841                         0.848   \n",
       "1       1998                           0.854                         0.849   \n",
       "2       1999                           0.848                         0.846   \n",
       "3       2000                           0.858                         0.855   \n",
       "4       2001                           0.859                         0.857   \n",
       "5       2002                           0.844                         0.814   \n",
       "6       2003                           0.845                         0.846   \n",
       "7       2004                           0.843                         0.841   \n",
       "8       2005                           0.839                         0.828   \n",
       "9       2006                           0.844                         0.850   \n",
       "10      2007                           0.849                         0.872   \n",
       "11      2008                           0.858                         0.865   \n",
       "12      2009                           0.851                         0.846   \n",
       "13      2010                           0.838                         0.847   \n",
       "14      2011                           0.847                         0.850   \n",
       "15      2012                           0.851                         0.858   \n",
       "16      2013                           0.836                         0.856   \n",
       "17      2014                           0.846                         0.826   \n",
       "18      2015                           0.839                         0.862   \n",
       "19      2016                           0.852                         0.855   \n",
       "20      2017                           0.854                         0.853   \n",
       "21      2018                           0.857                         0.838   \n",
       "22      2019                           0.873                         0.861   \n",
       "23      2020                           0.848                         0.814   \n",
       "24      2021                           0.836                         0.769   \n",
       "\n",
       "    Geluk, 18 jaar of ouder  Geluk, 18 tot 25 jaar  \n",
       "0                     0.882                  0.911  \n",
       "1                     0.890                  0.909  \n",
       "2                     0.884                  0.898  \n",
       "3                     0.891                  0.908  \n",
       "4                     0.893                  0.909  \n",
       "5                     0.880                  0.887  \n",
       "6                     0.878                  0.907  \n",
       "7                     0.878                  0.906  \n",
       "8                     0.874                  0.876  \n",
       "9                     0.888                  0.905  \n",
       "10                    0.882                  0.898  \n",
       "11                    0.887                  0.914  \n",
       "12                    0.890                  0.900  \n",
       "13                    0.877                  0.888  \n",
       "14                    0.881                  0.894  \n",
       "15                    0.890                  0.904  \n",
       "16                    0.875                  0.900  \n",
       "17                    0.879                  0.896  \n",
       "18                    0.874                  0.887  \n",
       "19                    0.883                  0.885  \n",
       "20                    0.875                  0.875  \n",
       "21                    0.877                  0.858  \n",
       "22                    0.889                  0.875  \n",
       "23                    0.868                  0.838  \n",
       "24                    0.864                  0.809  "
      ]
     },
     "execution_count": 2,
     "metadata": {},
     "output_type": "execute_result"
    }
   ],
   "source": [
    "gl = pd.read_csv('10-Copy1.1.1-geluk-en-tevredenheid.csv')\n",
    "\n",
    "gl\n"
   ]
  },
  {
   "cell_type": "code",
   "execution_count": 30,
   "id": "f3a3d246",
   "metadata": {
    "hideCode": false,
    "hidePrompt": false,
    "scrolled": false,
    "tags": [
     "\"hide_input\""
    ]
   },
   "outputs": [
    {
     "data": {
      "application/vnd.plotly.v1+json": {
       "config": {
        "plotlyServerURL": "https://plot.ly"
       },
       "data": [
        {
         "marker": {
          "color": "lightblue"
         },
         "mode": "lines+markers",
         "name": "Tevredenheid, 18 jaar of ouder",
         "type": "scatter",
         "x": [
          1997,
          1998,
          1999,
          2000,
          2001,
          2002,
          2003,
          2004,
          2005,
          2006,
          2007,
          2008,
          2009,
          2010,
          2011,
          2012,
          2013,
          2014,
          2015,
          2016,
          2017,
          2018,
          2019,
          2020,
          2021
         ],
         "y": [
          0.841,
          0.854,
          0.848,
          0.858,
          0.859,
          0.844,
          0.845,
          0.843,
          0.839,
          0.844,
          0.849,
          0.858,
          0.851,
          0.838,
          0.847,
          0.851,
          0.836,
          0.846,
          0.839,
          0.852,
          0.854,
          0.857,
          0.873,
          0.848,
          0.836
         ]
        },
        {
         "marker": {
          "color": "blue"
         },
         "mode": "lines+markers",
         "name": "Tevredenheid, 18 tot 25 jaar",
         "type": "scatter",
         "x": [
          1997,
          1998,
          1999,
          2000,
          2001,
          2002,
          2003,
          2004,
          2005,
          2006,
          2007,
          2008,
          2009,
          2010,
          2011,
          2012,
          2013,
          2014,
          2015,
          2016,
          2017,
          2018,
          2019,
          2020,
          2021
         ],
         "y": [
          0.848,
          0.849,
          0.846,
          0.855,
          0.857,
          0.814,
          0.846,
          0.841,
          0.828,
          0.85,
          0.872,
          0.865,
          0.846,
          0.847,
          0.85,
          0.858,
          0.856,
          0.826,
          0.862,
          0.855,
          0.853,
          0.838,
          0.861,
          0.814,
          0.769
         ]
        },
        {
         "marker": {
          "color": "lightgreen"
         },
         "mode": "lines+markers",
         "name": "Geluk, 18 jaar of ouder",
         "type": "scatter",
         "x": [
          1997,
          1998,
          1999,
          2000,
          2001,
          2002,
          2003,
          2004,
          2005,
          2006,
          2007,
          2008,
          2009,
          2010,
          2011,
          2012,
          2013,
          2014,
          2015,
          2016,
          2017,
          2018,
          2019,
          2020,
          2021
         ],
         "y": [
          0.882,
          0.89,
          0.884,
          0.891,
          0.893,
          0.88,
          0.878,
          0.878,
          0.874,
          0.888,
          0.882,
          0.887,
          0.89,
          0.877,
          0.881,
          0.89,
          0.875,
          0.879,
          0.874,
          0.883,
          0.875,
          0.877,
          0.889,
          0.868,
          0.864
         ]
        },
        {
         "marker": {
          "color": "green"
         },
         "mode": "lines+markers",
         "name": "Geluk, 18 tot 25 jaar",
         "type": "scatter",
         "x": [
          1997,
          1998,
          1999,
          2000,
          2001,
          2002,
          2003,
          2004,
          2005,
          2006,
          2007,
          2008,
          2009,
          2010,
          2011,
          2012,
          2013,
          2014,
          2015,
          2016,
          2017,
          2018,
          2019,
          2020,
          2021
         ],
         "y": [
          0.911,
          0.909,
          0.898,
          0.908,
          0.909,
          0.887,
          0.907,
          0.906,
          0.876,
          0.905,
          0.898,
          0.914,
          0.9,
          0.888,
          0.894,
          0.904,
          0.9,
          0.896,
          0.887,
          0.885,
          0.875,
          0.858,
          0.875,
          0.838,
          0.809
         ]
        }
       ],
       "layout": {
        "annotations": [
         {
          "showarrow": false,
          "text": "Op de x-axis is de tijd in jaren te zien. Op de y-axis is het percentage vanaf 70% te zien. <br> In deze lijngrafiek is te zien dat zowel het geluks- als tevredenheidsgevoel afnemen.",
          "x": 0.5,
          "xref": "paper",
          "y": -0.57,
          "yref": "paper"
         }
        ],
        "font": {
         "color": "Black",
         "family": "Georgia"
        },
        "paper_bgcolor": "white",
        "plot_bgcolor": "white",
        "template": {
         "data": {
          "bar": [
           {
            "error_x": {
             "color": "#2a3f5f"
            },
            "error_y": {
             "color": "#2a3f5f"
            },
            "marker": {
             "line": {
              "color": "#E5ECF6",
              "width": 0.5
             },
             "pattern": {
              "fillmode": "overlay",
              "size": 10,
              "solidity": 0.2
             }
            },
            "type": "bar"
           }
          ],
          "barpolar": [
           {
            "marker": {
             "line": {
              "color": "#E5ECF6",
              "width": 0.5
             },
             "pattern": {
              "fillmode": "overlay",
              "size": 10,
              "solidity": 0.2
             }
            },
            "type": "barpolar"
           }
          ],
          "carpet": [
           {
            "aaxis": {
             "endlinecolor": "#2a3f5f",
             "gridcolor": "white",
             "linecolor": "white",
             "minorgridcolor": "white",
             "startlinecolor": "#2a3f5f"
            },
            "baxis": {
             "endlinecolor": "#2a3f5f",
             "gridcolor": "white",
             "linecolor": "white",
             "minorgridcolor": "white",
             "startlinecolor": "#2a3f5f"
            },
            "type": "carpet"
           }
          ],
          "choropleth": [
           {
            "colorbar": {
             "outlinewidth": 0,
             "ticks": ""
            },
            "type": "choropleth"
           }
          ],
          "contour": [
           {
            "colorbar": {
             "outlinewidth": 0,
             "ticks": ""
            },
            "colorscale": [
             [
              0,
              "#0d0887"
             ],
             [
              0.1111111111111111,
              "#46039f"
             ],
             [
              0.2222222222222222,
              "#7201a8"
             ],
             [
              0.3333333333333333,
              "#9c179e"
             ],
             [
              0.4444444444444444,
              "#bd3786"
             ],
             [
              0.5555555555555556,
              "#d8576b"
             ],
             [
              0.6666666666666666,
              "#ed7953"
             ],
             [
              0.7777777777777778,
              "#fb9f3a"
             ],
             [
              0.8888888888888888,
              "#fdca26"
             ],
             [
              1,
              "#f0f921"
             ]
            ],
            "type": "contour"
           }
          ],
          "contourcarpet": [
           {
            "colorbar": {
             "outlinewidth": 0,
             "ticks": ""
            },
            "type": "contourcarpet"
           }
          ],
          "heatmap": [
           {
            "colorbar": {
             "outlinewidth": 0,
             "ticks": ""
            },
            "colorscale": [
             [
              0,
              "#0d0887"
             ],
             [
              0.1111111111111111,
              "#46039f"
             ],
             [
              0.2222222222222222,
              "#7201a8"
             ],
             [
              0.3333333333333333,
              "#9c179e"
             ],
             [
              0.4444444444444444,
              "#bd3786"
             ],
             [
              0.5555555555555556,
              "#d8576b"
             ],
             [
              0.6666666666666666,
              "#ed7953"
             ],
             [
              0.7777777777777778,
              "#fb9f3a"
             ],
             [
              0.8888888888888888,
              "#fdca26"
             ],
             [
              1,
              "#f0f921"
             ]
            ],
            "type": "heatmap"
           }
          ],
          "heatmapgl": [
           {
            "colorbar": {
             "outlinewidth": 0,
             "ticks": ""
            },
            "colorscale": [
             [
              0,
              "#0d0887"
             ],
             [
              0.1111111111111111,
              "#46039f"
             ],
             [
              0.2222222222222222,
              "#7201a8"
             ],
             [
              0.3333333333333333,
              "#9c179e"
             ],
             [
              0.4444444444444444,
              "#bd3786"
             ],
             [
              0.5555555555555556,
              "#d8576b"
             ],
             [
              0.6666666666666666,
              "#ed7953"
             ],
             [
              0.7777777777777778,
              "#fb9f3a"
             ],
             [
              0.8888888888888888,
              "#fdca26"
             ],
             [
              1,
              "#f0f921"
             ]
            ],
            "type": "heatmapgl"
           }
          ],
          "histogram": [
           {
            "marker": {
             "pattern": {
              "fillmode": "overlay",
              "size": 10,
              "solidity": 0.2
             }
            },
            "type": "histogram"
           }
          ],
          "histogram2d": [
           {
            "colorbar": {
             "outlinewidth": 0,
             "ticks": ""
            },
            "colorscale": [
             [
              0,
              "#0d0887"
             ],
             [
              0.1111111111111111,
              "#46039f"
             ],
             [
              0.2222222222222222,
              "#7201a8"
             ],
             [
              0.3333333333333333,
              "#9c179e"
             ],
             [
              0.4444444444444444,
              "#bd3786"
             ],
             [
              0.5555555555555556,
              "#d8576b"
             ],
             [
              0.6666666666666666,
              "#ed7953"
             ],
             [
              0.7777777777777778,
              "#fb9f3a"
             ],
             [
              0.8888888888888888,
              "#fdca26"
             ],
             [
              1,
              "#f0f921"
             ]
            ],
            "type": "histogram2d"
           }
          ],
          "histogram2dcontour": [
           {
            "colorbar": {
             "outlinewidth": 0,
             "ticks": ""
            },
            "colorscale": [
             [
              0,
              "#0d0887"
             ],
             [
              0.1111111111111111,
              "#46039f"
             ],
             [
              0.2222222222222222,
              "#7201a8"
             ],
             [
              0.3333333333333333,
              "#9c179e"
             ],
             [
              0.4444444444444444,
              "#bd3786"
             ],
             [
              0.5555555555555556,
              "#d8576b"
             ],
             [
              0.6666666666666666,
              "#ed7953"
             ],
             [
              0.7777777777777778,
              "#fb9f3a"
             ],
             [
              0.8888888888888888,
              "#fdca26"
             ],
             [
              1,
              "#f0f921"
             ]
            ],
            "type": "histogram2dcontour"
           }
          ],
          "mesh3d": [
           {
            "colorbar": {
             "outlinewidth": 0,
             "ticks": ""
            },
            "type": "mesh3d"
           }
          ],
          "parcoords": [
           {
            "line": {
             "colorbar": {
              "outlinewidth": 0,
              "ticks": ""
             }
            },
            "type": "parcoords"
           }
          ],
          "pie": [
           {
            "automargin": true,
            "type": "pie"
           }
          ],
          "scatter": [
           {
            "fillpattern": {
             "fillmode": "overlay",
             "size": 10,
             "solidity": 0.2
            },
            "type": "scatter"
           }
          ],
          "scatter3d": [
           {
            "line": {
             "colorbar": {
              "outlinewidth": 0,
              "ticks": ""
             }
            },
            "marker": {
             "colorbar": {
              "outlinewidth": 0,
              "ticks": ""
             }
            },
            "type": "scatter3d"
           }
          ],
          "scattercarpet": [
           {
            "marker": {
             "colorbar": {
              "outlinewidth": 0,
              "ticks": ""
             }
            },
            "type": "scattercarpet"
           }
          ],
          "scattergeo": [
           {
            "marker": {
             "colorbar": {
              "outlinewidth": 0,
              "ticks": ""
             }
            },
            "type": "scattergeo"
           }
          ],
          "scattergl": [
           {
            "marker": {
             "colorbar": {
              "outlinewidth": 0,
              "ticks": ""
             }
            },
            "type": "scattergl"
           }
          ],
          "scattermapbox": [
           {
            "marker": {
             "colorbar": {
              "outlinewidth": 0,
              "ticks": ""
             }
            },
            "type": "scattermapbox"
           }
          ],
          "scatterpolar": [
           {
            "marker": {
             "colorbar": {
              "outlinewidth": 0,
              "ticks": ""
             }
            },
            "type": "scatterpolar"
           }
          ],
          "scatterpolargl": [
           {
            "marker": {
             "colorbar": {
              "outlinewidth": 0,
              "ticks": ""
             }
            },
            "type": "scatterpolargl"
           }
          ],
          "scatterternary": [
           {
            "marker": {
             "colorbar": {
              "outlinewidth": 0,
              "ticks": ""
             }
            },
            "type": "scatterternary"
           }
          ],
          "surface": [
           {
            "colorbar": {
             "outlinewidth": 0,
             "ticks": ""
            },
            "colorscale": [
             [
              0,
              "#0d0887"
             ],
             [
              0.1111111111111111,
              "#46039f"
             ],
             [
              0.2222222222222222,
              "#7201a8"
             ],
             [
              0.3333333333333333,
              "#9c179e"
             ],
             [
              0.4444444444444444,
              "#bd3786"
             ],
             [
              0.5555555555555556,
              "#d8576b"
             ],
             [
              0.6666666666666666,
              "#ed7953"
             ],
             [
              0.7777777777777778,
              "#fb9f3a"
             ],
             [
              0.8888888888888888,
              "#fdca26"
             ],
             [
              1,
              "#f0f921"
             ]
            ],
            "type": "surface"
           }
          ],
          "table": [
           {
            "cells": {
             "fill": {
              "color": "#EBF0F8"
             },
             "line": {
              "color": "white"
             }
            },
            "header": {
             "fill": {
              "color": "#C8D4E3"
             },
             "line": {
              "color": "white"
             }
            },
            "type": "table"
           }
          ]
         },
         "layout": {
          "annotationdefaults": {
           "arrowcolor": "#2a3f5f",
           "arrowhead": 0,
           "arrowwidth": 1
          },
          "autotypenumbers": "strict",
          "coloraxis": {
           "colorbar": {
            "outlinewidth": 0,
            "ticks": ""
           }
          },
          "colorscale": {
           "diverging": [
            [
             0,
             "#8e0152"
            ],
            [
             0.1,
             "#c51b7d"
            ],
            [
             0.2,
             "#de77ae"
            ],
            [
             0.3,
             "#f1b6da"
            ],
            [
             0.4,
             "#fde0ef"
            ],
            [
             0.5,
             "#f7f7f7"
            ],
            [
             0.6,
             "#e6f5d0"
            ],
            [
             0.7,
             "#b8e186"
            ],
            [
             0.8,
             "#7fbc41"
            ],
            [
             0.9,
             "#4d9221"
            ],
            [
             1,
             "#276419"
            ]
           ],
           "sequential": [
            [
             0,
             "#0d0887"
            ],
            [
             0.1111111111111111,
             "#46039f"
            ],
            [
             0.2222222222222222,
             "#7201a8"
            ],
            [
             0.3333333333333333,
             "#9c179e"
            ],
            [
             0.4444444444444444,
             "#bd3786"
            ],
            [
             0.5555555555555556,
             "#d8576b"
            ],
            [
             0.6666666666666666,
             "#ed7953"
            ],
            [
             0.7777777777777778,
             "#fb9f3a"
            ],
            [
             0.8888888888888888,
             "#fdca26"
            ],
            [
             1,
             "#f0f921"
            ]
           ],
           "sequentialminus": [
            [
             0,
             "#0d0887"
            ],
            [
             0.1111111111111111,
             "#46039f"
            ],
            [
             0.2222222222222222,
             "#7201a8"
            ],
            [
             0.3333333333333333,
             "#9c179e"
            ],
            [
             0.4444444444444444,
             "#bd3786"
            ],
            [
             0.5555555555555556,
             "#d8576b"
            ],
            [
             0.6666666666666666,
             "#ed7953"
            ],
            [
             0.7777777777777778,
             "#fb9f3a"
            ],
            [
             0.8888888888888888,
             "#fdca26"
            ],
            [
             1,
             "#f0f921"
            ]
           ]
          },
          "colorway": [
           "#636efa",
           "#EF553B",
           "#00cc96",
           "#ab63fa",
           "#FFA15A",
           "#19d3f3",
           "#FF6692",
           "#B6E880",
           "#FF97FF",
           "#FECB52"
          ],
          "font": {
           "color": "#2a3f5f"
          },
          "geo": {
           "bgcolor": "white",
           "lakecolor": "white",
           "landcolor": "#E5ECF6",
           "showlakes": true,
           "showland": true,
           "subunitcolor": "white"
          },
          "hoverlabel": {
           "align": "left"
          },
          "hovermode": "closest",
          "mapbox": {
           "style": "light"
          },
          "paper_bgcolor": "white",
          "plot_bgcolor": "#E5ECF6",
          "polar": {
           "angularaxis": {
            "gridcolor": "white",
            "linecolor": "white",
            "ticks": ""
           },
           "bgcolor": "#E5ECF6",
           "radialaxis": {
            "gridcolor": "white",
            "linecolor": "white",
            "ticks": ""
           }
          },
          "scene": {
           "xaxis": {
            "backgroundcolor": "#E5ECF6",
            "gridcolor": "white",
            "gridwidth": 2,
            "linecolor": "white",
            "showbackground": true,
            "ticks": "",
            "zerolinecolor": "white"
           },
           "yaxis": {
            "backgroundcolor": "#E5ECF6",
            "gridcolor": "white",
            "gridwidth": 2,
            "linecolor": "white",
            "showbackground": true,
            "ticks": "",
            "zerolinecolor": "white"
           },
           "zaxis": {
            "backgroundcolor": "#E5ECF6",
            "gridcolor": "white",
            "gridwidth": 2,
            "linecolor": "white",
            "showbackground": true,
            "ticks": "",
            "zerolinecolor": "white"
           }
          },
          "shapedefaults": {
           "line": {
            "color": "#2a3f5f"
           }
          },
          "ternary": {
           "aaxis": {
            "gridcolor": "white",
            "linecolor": "white",
            "ticks": ""
           },
           "baxis": {
            "gridcolor": "white",
            "linecolor": "white",
            "ticks": ""
           },
           "bgcolor": "#E5ECF6",
           "caxis": {
            "gridcolor": "white",
            "linecolor": "white",
            "ticks": ""
           }
          },
          "title": {
           "x": 0.05
          },
          "xaxis": {
           "automargin": true,
           "gridcolor": "white",
           "linecolor": "white",
           "ticks": "",
           "title": {
            "standoff": 15
           },
           "zerolinecolor": "white",
           "zerolinewidth": 2
          },
          "yaxis": {
           "automargin": true,
           "gridcolor": "white",
           "linecolor": "white",
           "ticks": "",
           "title": {
            "standoff": 15
           },
           "zerolinecolor": "white",
           "zerolinewidth": 2
          }
         }
        },
        "title": {
         "text": "Tevredenheid en geluk"
        },
        "xaxis": {
         "gridcolor": "lightgrey",
         "rangeselector": {
          "buttons": [
           {
            "count": 1,
            "label": "1y",
            "step": "year",
            "stepmode": "backward"
           },
           {
            "count": 5,
            "label": "5y",
            "step": "year",
            "stepmode": "backward"
           },
           {
            "step": "all"
           }
          ]
         },
         "rangeslider": {
          "visible": true
         },
         "title": {
          "text": "Jaren"
         },
         "type": "date"
        },
        "yaxis": {
         "gridcolor": "lightgrey",
         "range": [
          0.7,
          1
         ],
         "tickformat": ",.0%",
         "title": {
          "text": "Percentage mensen dat zich zo voelt"
         }
        }
       }
      },
      "text/html": [
       "<div>                            <div id=\"186eb281-efec-4a3d-bdbe-9b96d78451f8\" class=\"plotly-graph-div\" style=\"height:525px; width:100%;\"></div>            <script type=\"text/javascript\">                require([\"plotly\"], function(Plotly) {                    window.PLOTLYENV=window.PLOTLYENV || {};                                    if (document.getElementById(\"186eb281-efec-4a3d-bdbe-9b96d78451f8\")) {                    Plotly.newPlot(                        \"186eb281-efec-4a3d-bdbe-9b96d78451f8\",                        [{\"marker\":{\"color\":\"lightblue\"},\"mode\":\"lines+markers\",\"name\":\"Tevredenheid, 18 jaar of ouder\",\"x\":[1997,1998,1999,2000,2001,2002,2003,2004,2005,2006,2007,2008,2009,2010,2011,2012,2013,2014,2015,2016,2017,2018,2019,2020,2021],\"y\":[0.841,0.854,0.848,0.858,0.859,0.844,0.845,0.843,0.839,0.844,0.849,0.858,0.851,0.838,0.847,0.851,0.836,0.846,0.839,0.852,0.854,0.857,0.873,0.848,0.836],\"type\":\"scatter\"},{\"marker\":{\"color\":\"blue\"},\"mode\":\"lines+markers\",\"name\":\"Tevredenheid, 18 tot 25 jaar\",\"x\":[1997,1998,1999,2000,2001,2002,2003,2004,2005,2006,2007,2008,2009,2010,2011,2012,2013,2014,2015,2016,2017,2018,2019,2020,2021],\"y\":[0.848,0.849,0.846,0.855,0.857,0.814,0.846,0.841,0.828,0.85,0.872,0.865,0.846,0.847,0.85,0.858,0.856,0.826,0.862,0.855,0.853,0.838,0.861,0.814,0.769],\"type\":\"scatter\"},{\"marker\":{\"color\":\"lightgreen\"},\"mode\":\"lines+markers\",\"name\":\"Geluk, 18 jaar of ouder\",\"x\":[1997,1998,1999,2000,2001,2002,2003,2004,2005,2006,2007,2008,2009,2010,2011,2012,2013,2014,2015,2016,2017,2018,2019,2020,2021],\"y\":[0.882,0.89,0.884,0.891,0.893,0.88,0.878,0.878,0.874,0.888,0.882,0.887,0.89,0.877,0.881,0.89,0.875,0.879,0.874,0.883,0.875,0.877,0.889,0.868,0.864],\"type\":\"scatter\"},{\"marker\":{\"color\":\"green\"},\"mode\":\"lines+markers\",\"name\":\"Geluk, 18 tot 25 jaar\",\"x\":[1997,1998,1999,2000,2001,2002,2003,2004,2005,2006,2007,2008,2009,2010,2011,2012,2013,2014,2015,2016,2017,2018,2019,2020,2021],\"y\":[0.911,0.909,0.898,0.908,0.909,0.887,0.907,0.906,0.876,0.905,0.898,0.914,0.9,0.888,0.894,0.904,0.9,0.896,0.887,0.885,0.875,0.858,0.875,0.838,0.809],\"type\":\"scatter\"}],                        {\"font\":{\"color\":\"Black\",\"family\":\"Georgia\"},\"paper_bgcolor\":\"white\",\"plot_bgcolor\":\"white\",\"title\":{\"text\":\"Tevredenheid en geluk\"},\"xaxis\":{\"gridcolor\":\"lightgrey\",\"title\":{\"text\":\"Jaren\"},\"rangeslider\":{\"visible\":true},\"rangeselector\":{\"buttons\":[{\"count\":1,\"label\":\"1y\",\"step\":\"year\",\"stepmode\":\"backward\"},{\"count\":5,\"label\":\"5y\",\"step\":\"year\",\"stepmode\":\"backward\"},{\"step\":\"all\"}]},\"type\":\"date\"},\"yaxis\":{\"gridcolor\":\"lightgrey\",\"range\":[0.7,1],\"tickformat\":\",.0%\",\"title\":{\"text\":\"Percentage mensen dat zich zo voelt\"}},\"template\":{\"data\":{\"histogram2dcontour\":[{\"type\":\"histogram2dcontour\",\"colorbar\":{\"outlinewidth\":0,\"ticks\":\"\"},\"colorscale\":[[0.0,\"#0d0887\"],[0.1111111111111111,\"#46039f\"],[0.2222222222222222,\"#7201a8\"],[0.3333333333333333,\"#9c179e\"],[0.4444444444444444,\"#bd3786\"],[0.5555555555555556,\"#d8576b\"],[0.6666666666666666,\"#ed7953\"],[0.7777777777777778,\"#fb9f3a\"],[0.8888888888888888,\"#fdca26\"],[1.0,\"#f0f921\"]]}],\"choropleth\":[{\"type\":\"choropleth\",\"colorbar\":{\"outlinewidth\":0,\"ticks\":\"\"}}],\"histogram2d\":[{\"type\":\"histogram2d\",\"colorbar\":{\"outlinewidth\":0,\"ticks\":\"\"},\"colorscale\":[[0.0,\"#0d0887\"],[0.1111111111111111,\"#46039f\"],[0.2222222222222222,\"#7201a8\"],[0.3333333333333333,\"#9c179e\"],[0.4444444444444444,\"#bd3786\"],[0.5555555555555556,\"#d8576b\"],[0.6666666666666666,\"#ed7953\"],[0.7777777777777778,\"#fb9f3a\"],[0.8888888888888888,\"#fdca26\"],[1.0,\"#f0f921\"]]}],\"heatmap\":[{\"type\":\"heatmap\",\"colorbar\":{\"outlinewidth\":0,\"ticks\":\"\"},\"colorscale\":[[0.0,\"#0d0887\"],[0.1111111111111111,\"#46039f\"],[0.2222222222222222,\"#7201a8\"],[0.3333333333333333,\"#9c179e\"],[0.4444444444444444,\"#bd3786\"],[0.5555555555555556,\"#d8576b\"],[0.6666666666666666,\"#ed7953\"],[0.7777777777777778,\"#fb9f3a\"],[0.8888888888888888,\"#fdca26\"],[1.0,\"#f0f921\"]]}],\"heatmapgl\":[{\"type\":\"heatmapgl\",\"colorbar\":{\"outlinewidth\":0,\"ticks\":\"\"},\"colorscale\":[[0.0,\"#0d0887\"],[0.1111111111111111,\"#46039f\"],[0.2222222222222222,\"#7201a8\"],[0.3333333333333333,\"#9c179e\"],[0.4444444444444444,\"#bd3786\"],[0.5555555555555556,\"#d8576b\"],[0.6666666666666666,\"#ed7953\"],[0.7777777777777778,\"#fb9f3a\"],[0.8888888888888888,\"#fdca26\"],[1.0,\"#f0f921\"]]}],\"contourcarpet\":[{\"type\":\"contourcarpet\",\"colorbar\":{\"outlinewidth\":0,\"ticks\":\"\"}}],\"contour\":[{\"type\":\"contour\",\"colorbar\":{\"outlinewidth\":0,\"ticks\":\"\"},\"colorscale\":[[0.0,\"#0d0887\"],[0.1111111111111111,\"#46039f\"],[0.2222222222222222,\"#7201a8\"],[0.3333333333333333,\"#9c179e\"],[0.4444444444444444,\"#bd3786\"],[0.5555555555555556,\"#d8576b\"],[0.6666666666666666,\"#ed7953\"],[0.7777777777777778,\"#fb9f3a\"],[0.8888888888888888,\"#fdca26\"],[1.0,\"#f0f921\"]]}],\"surface\":[{\"type\":\"surface\",\"colorbar\":{\"outlinewidth\":0,\"ticks\":\"\"},\"colorscale\":[[0.0,\"#0d0887\"],[0.1111111111111111,\"#46039f\"],[0.2222222222222222,\"#7201a8\"],[0.3333333333333333,\"#9c179e\"],[0.4444444444444444,\"#bd3786\"],[0.5555555555555556,\"#d8576b\"],[0.6666666666666666,\"#ed7953\"],[0.7777777777777778,\"#fb9f3a\"],[0.8888888888888888,\"#fdca26\"],[1.0,\"#f0f921\"]]}],\"mesh3d\":[{\"type\":\"mesh3d\",\"colorbar\":{\"outlinewidth\":0,\"ticks\":\"\"}}],\"scatter\":[{\"fillpattern\":{\"fillmode\":\"overlay\",\"size\":10,\"solidity\":0.2},\"type\":\"scatter\"}],\"parcoords\":[{\"type\":\"parcoords\",\"line\":{\"colorbar\":{\"outlinewidth\":0,\"ticks\":\"\"}}}],\"scatterpolargl\":[{\"type\":\"scatterpolargl\",\"marker\":{\"colorbar\":{\"outlinewidth\":0,\"ticks\":\"\"}}}],\"bar\":[{\"error_x\":{\"color\":\"#2a3f5f\"},\"error_y\":{\"color\":\"#2a3f5f\"},\"marker\":{\"line\":{\"color\":\"#E5ECF6\",\"width\":0.5},\"pattern\":{\"fillmode\":\"overlay\",\"size\":10,\"solidity\":0.2}},\"type\":\"bar\"}],\"scattergeo\":[{\"type\":\"scattergeo\",\"marker\":{\"colorbar\":{\"outlinewidth\":0,\"ticks\":\"\"}}}],\"scatterpolar\":[{\"type\":\"scatterpolar\",\"marker\":{\"colorbar\":{\"outlinewidth\":0,\"ticks\":\"\"}}}],\"histogram\":[{\"marker\":{\"pattern\":{\"fillmode\":\"overlay\",\"size\":10,\"solidity\":0.2}},\"type\":\"histogram\"}],\"scattergl\":[{\"type\":\"scattergl\",\"marker\":{\"colorbar\":{\"outlinewidth\":0,\"ticks\":\"\"}}}],\"scatter3d\":[{\"type\":\"scatter3d\",\"line\":{\"colorbar\":{\"outlinewidth\":0,\"ticks\":\"\"}},\"marker\":{\"colorbar\":{\"outlinewidth\":0,\"ticks\":\"\"}}}],\"scattermapbox\":[{\"type\":\"scattermapbox\",\"marker\":{\"colorbar\":{\"outlinewidth\":0,\"ticks\":\"\"}}}],\"scatterternary\":[{\"type\":\"scatterternary\",\"marker\":{\"colorbar\":{\"outlinewidth\":0,\"ticks\":\"\"}}}],\"scattercarpet\":[{\"type\":\"scattercarpet\",\"marker\":{\"colorbar\":{\"outlinewidth\":0,\"ticks\":\"\"}}}],\"carpet\":[{\"aaxis\":{\"endlinecolor\":\"#2a3f5f\",\"gridcolor\":\"white\",\"linecolor\":\"white\",\"minorgridcolor\":\"white\",\"startlinecolor\":\"#2a3f5f\"},\"baxis\":{\"endlinecolor\":\"#2a3f5f\",\"gridcolor\":\"white\",\"linecolor\":\"white\",\"minorgridcolor\":\"white\",\"startlinecolor\":\"#2a3f5f\"},\"type\":\"carpet\"}],\"table\":[{\"cells\":{\"fill\":{\"color\":\"#EBF0F8\"},\"line\":{\"color\":\"white\"}},\"header\":{\"fill\":{\"color\":\"#C8D4E3\"},\"line\":{\"color\":\"white\"}},\"type\":\"table\"}],\"barpolar\":[{\"marker\":{\"line\":{\"color\":\"#E5ECF6\",\"width\":0.5},\"pattern\":{\"fillmode\":\"overlay\",\"size\":10,\"solidity\":0.2}},\"type\":\"barpolar\"}],\"pie\":[{\"automargin\":true,\"type\":\"pie\"}]},\"layout\":{\"autotypenumbers\":\"strict\",\"colorway\":[\"#636efa\",\"#EF553B\",\"#00cc96\",\"#ab63fa\",\"#FFA15A\",\"#19d3f3\",\"#FF6692\",\"#B6E880\",\"#FF97FF\",\"#FECB52\"],\"font\":{\"color\":\"#2a3f5f\"},\"hovermode\":\"closest\",\"hoverlabel\":{\"align\":\"left\"},\"paper_bgcolor\":\"white\",\"plot_bgcolor\":\"#E5ECF6\",\"polar\":{\"bgcolor\":\"#E5ECF6\",\"angularaxis\":{\"gridcolor\":\"white\",\"linecolor\":\"white\",\"ticks\":\"\"},\"radialaxis\":{\"gridcolor\":\"white\",\"linecolor\":\"white\",\"ticks\":\"\"}},\"ternary\":{\"bgcolor\":\"#E5ECF6\",\"aaxis\":{\"gridcolor\":\"white\",\"linecolor\":\"white\",\"ticks\":\"\"},\"baxis\":{\"gridcolor\":\"white\",\"linecolor\":\"white\",\"ticks\":\"\"},\"caxis\":{\"gridcolor\":\"white\",\"linecolor\":\"white\",\"ticks\":\"\"}},\"coloraxis\":{\"colorbar\":{\"outlinewidth\":0,\"ticks\":\"\"}},\"colorscale\":{\"sequential\":[[0.0,\"#0d0887\"],[0.1111111111111111,\"#46039f\"],[0.2222222222222222,\"#7201a8\"],[0.3333333333333333,\"#9c179e\"],[0.4444444444444444,\"#bd3786\"],[0.5555555555555556,\"#d8576b\"],[0.6666666666666666,\"#ed7953\"],[0.7777777777777778,\"#fb9f3a\"],[0.8888888888888888,\"#fdca26\"],[1.0,\"#f0f921\"]],\"sequentialminus\":[[0.0,\"#0d0887\"],[0.1111111111111111,\"#46039f\"],[0.2222222222222222,\"#7201a8\"],[0.3333333333333333,\"#9c179e\"],[0.4444444444444444,\"#bd3786\"],[0.5555555555555556,\"#d8576b\"],[0.6666666666666666,\"#ed7953\"],[0.7777777777777778,\"#fb9f3a\"],[0.8888888888888888,\"#fdca26\"],[1.0,\"#f0f921\"]],\"diverging\":[[0,\"#8e0152\"],[0.1,\"#c51b7d\"],[0.2,\"#de77ae\"],[0.3,\"#f1b6da\"],[0.4,\"#fde0ef\"],[0.5,\"#f7f7f7\"],[0.6,\"#e6f5d0\"],[0.7,\"#b8e186\"],[0.8,\"#7fbc41\"],[0.9,\"#4d9221\"],[1,\"#276419\"]]},\"xaxis\":{\"gridcolor\":\"white\",\"linecolor\":\"white\",\"ticks\":\"\",\"title\":{\"standoff\":15},\"zerolinecolor\":\"white\",\"automargin\":true,\"zerolinewidth\":2},\"yaxis\":{\"gridcolor\":\"white\",\"linecolor\":\"white\",\"ticks\":\"\",\"title\":{\"standoff\":15},\"zerolinecolor\":\"white\",\"automargin\":true,\"zerolinewidth\":2},\"scene\":{\"xaxis\":{\"backgroundcolor\":\"#E5ECF6\",\"gridcolor\":\"white\",\"linecolor\":\"white\",\"showbackground\":true,\"ticks\":\"\",\"zerolinecolor\":\"white\",\"gridwidth\":2},\"yaxis\":{\"backgroundcolor\":\"#E5ECF6\",\"gridcolor\":\"white\",\"linecolor\":\"white\",\"showbackground\":true,\"ticks\":\"\",\"zerolinecolor\":\"white\",\"gridwidth\":2},\"zaxis\":{\"backgroundcolor\":\"#E5ECF6\",\"gridcolor\":\"white\",\"linecolor\":\"white\",\"showbackground\":true,\"ticks\":\"\",\"zerolinecolor\":\"white\",\"gridwidth\":2}},\"shapedefaults\":{\"line\":{\"color\":\"#2a3f5f\"}},\"annotationdefaults\":{\"arrowcolor\":\"#2a3f5f\",\"arrowhead\":0,\"arrowwidth\":1},\"geo\":{\"bgcolor\":\"white\",\"landcolor\":\"#E5ECF6\",\"subunitcolor\":\"white\",\"showland\":true,\"showlakes\":true,\"lakecolor\":\"white\"},\"title\":{\"x\":0.05},\"mapbox\":{\"style\":\"light\"}}},\"annotations\":[{\"showarrow\":false,\"text\":\"Op de x-axis is de tijd in jaren te zien. Op de y-axis is het percentage vanaf 70% te zien. \\u003cbr\\u003e In deze lijngrafiek is te zien dat zowel het geluks- als tevredenheidsgevoel afnemen.\",\"x\":0.5,\"xref\":\"paper\",\"y\":-0.57,\"yref\":\"paper\"}]},                        {\"responsive\": true}                    ).then(function(){\n",
       "                            \n",
       "var gd = document.getElementById('186eb281-efec-4a3d-bdbe-9b96d78451f8');\n",
       "var x = new MutationObserver(function (mutations, observer) {{\n",
       "        var display = window.getComputedStyle(gd).display;\n",
       "        if (!display || display === 'none') {{\n",
       "            console.log([gd, 'removed!']);\n",
       "            Plotly.purge(gd);\n",
       "            observer.disconnect();\n",
       "        }}\n",
       "}});\n",
       "\n",
       "// Listen for the removal of the full notebook cells\n",
       "var notebookContainer = gd.closest('#notebook-container');\n",
       "if (notebookContainer) {{\n",
       "    x.observe(notebookContainer, {childList: true});\n",
       "}}\n",
       "\n",
       "// Listen for the clearing of the current output cell\n",
       "var outputEl = gd.closest('.output');\n",
       "if (outputEl) {{\n",
       "    x.observe(outputEl, {childList: true});\n",
       "}}\n",
       "\n",
       "                        })                };                });            </script>        </div>"
      ]
     },
     "metadata": {},
     "output_type": "display_data"
    }
   ],
   "source": [
    "\n",
    "trace1 = go.Scatter(x = gl['Category'], \n",
    "                    y = gl['Tevredenheid, 18 jaar of ouder'], \n",
    "                    mode = 'lines + markers', \n",
    "                    name = 'Tevredenheid, 18 jaar of ouder', \n",
    "                    marker = dict(color = 'lightblue'))\n",
    "trace2 = go.Scatter(x = gl['Category'], \n",
    "                    y = gl['Tevredenheid, 18 tot 25 jaar'], \n",
    "                    mode = 'lines + markers', \n",
    "                    name = 'Tevredenheid, 18 tot 25 jaar',\n",
    "                   marker = dict(color = 'blue'))\n",
    "trace3 = go.Scatter(x = gl['Category'], \n",
    "                    y = gl['Geluk, 18 tot 25 jaar'], \n",
    "                    mode = 'lines + markers', \n",
    "                    name = 'Geluk, 18 tot 25 jaar',\n",
    "                   marker = dict(color = 'green'))\n",
    "trace4 = go.Scatter(x = gl['Category'], \n",
    "                    y = gl['Geluk, 18 jaar of ouder'], \n",
    "                    mode = 'lines + markers', \n",
    "                    name = 'Geluk, 18 jaar of ouder',\n",
    "                   marker = dict(color = 'lightgreen'))\n",
    "\n",
    "Layout = go.Layout(title = 'Tevredenheid en geluk',\n",
    "                  xaxis = dict(title = 'Jaren', gridcolor = 'lightgrey'),\n",
    "                  yaxis = dict(title = 'Percentage mensen dat zich zo voelt', tickformat = ',.0%', range = [0.7, 1], gridcolor = 'lightgrey'),\n",
    "                   font = dict(family = 'Georgia', color = 'Black'),\n",
    "                   plot_bgcolor = 'white',\n",
    "                   paper_bgcolor = 'white',\n",
    "    )\n",
    "                  \n",
    "\n",
    "fig = go.Figure(data = [trace1, trace2, trace4, trace3], layout = Layout)\n",
    "fig.update_layout(\n",
    "    xaxis=dict(\n",
    "        rangeselector=dict(\n",
    "            buttons=list([\n",
    "                dict(count=1,\n",
    "                     label=\"1y\",\n",
    "                     step=\"year\",\n",
    "                     stepmode=\"backward\"),\n",
    "                dict(count=5,\n",
    "                     label=\"5y\",\n",
    "                     step=\"year\",\n",
    "                     stepmode=\"backward\"),\n",
    "                dict(step=\"all\")\n",
    "            ])\n",
    "        ),\n",
    "        rangeslider=dict(\n",
    "            visible=True\n",
    "        ),\n",
    "        type=\"date\"\n",
    "    )\n",
    ")\n",
    "\n",
    "fig.add_annotation(\n",
    "    xref=\"paper\", yref=\"paper\",\n",
    "    x=0.5, y=-0.57,\n",
    "    text=\"Op de x-axis is de tijd in jaren te zien. Op de y-axis is het percentage vanaf 70% te zien. <br> In deze lijngrafiek is te zien dat zowel het geluks- als tevredenheidsgevoel afnemen.\",\n",
    "    showarrow=False,\n",
    ")\n",
    "    \n",
    "fig.show()"
   ]
  },
  {
   "cell_type": "markdown",
   "id": "4d17a531",
   "metadata": {},
   "source": [
    "**Uitleg:** De dataset (https://www.pewresearch.org/internet/fact-sheet/social-media/?tabId=tab-81867c91-92ad-45b8-a964-a2a894f873ef) van Pewresearch die voor de visualizatie hieronder is gebruikt, laat per een aantal maanden het percentage van de bevolking van de Verenigde Staten zien die verschillende sociale media hebben gebruikt. Dit wordt aangegeven in percentages. De variabelen zijn: 'Year', 'Facebook', Pinterest', 'Instagram', 'LinkDin', 'Twitter', 'Snapchat', 'YouTube', 'WhatsApp', 'Reddit', 'TikTok', 'Nextdoor'. Het variabele 'Year' geeft de datum aan waarvan de data is opgenomen. De andere varibalen geven aan hoeveel procent van de social media gebruikers dat specifieke platform gebruikt. De dataset is te downloaden op de site die via de link is vermeld.\n",
    "<br>\n",
    "<br>\n",
    "**Preprocessing:** Voordat de dataset gebruikt kon worden moest er enorm veel worden opgeschoond. Er stond namelijk tekst in de csv file waardoor de file in eerste instantie niet gelezen kon worden en de komma's stonden op de verkeerde plek. Ook stonden er enorm veel nrgbs waardes in. Deze moesten aangepast worden naar NaN's zodat deze gebruikt konden worden. Verder moest ook het kolom 'Year' worden aangepast naar een format waardoor ik het naar een daadwerkelijke datum om kon zetten en op die manier makkelijker te gebruiken was voor de x-as. "
   ]
  },
  {
   "cell_type": "code",
   "execution_count": 4,
   "id": "0d5e1dbd",
   "metadata": {
    "hideCode": false,
    "tags": [
     "hide-input",
     "\"hide_input\""
    ]
   },
   "outputs": [
    {
     "data": {
      "text/html": [
       "<div>\n",
       "<style scoped>\n",
       "    .dataframe tbody tr th:only-of-type {\n",
       "        vertical-align: middle;\n",
       "    }\n",
       "\n",
       "    .dataframe tbody tr th {\n",
       "        vertical-align: top;\n",
       "    }\n",
       "\n",
       "    .dataframe thead th {\n",
       "        text-align: right;\n",
       "    }\n",
       "</style>\n",
       "<table border=\"1\" class=\"dataframe\">\n",
       "  <thead>\n",
       "    <tr style=\"text-align: right;\">\n",
       "      <th></th>\n",
       "      <th>Year</th>\n",
       "      <th>Facebook</th>\n",
       "      <th>Pinterest</th>\n",
       "      <th>Instagram</th>\n",
       "      <th>LinkedIn</th>\n",
       "      <th>Twitter</th>\n",
       "      <th>Snapchat</th>\n",
       "      <th>YouTube</th>\n",
       "      <th>WhatsApp</th>\n",
       "      <th>Reddit</th>\n",
       "      <th>TikTok</th>\n",
       "      <th>Nextdoor</th>\n",
       "    </tr>\n",
       "  </thead>\n",
       "  <tbody>\n",
       "    <tr>\n",
       "      <th>0</th>\n",
       "      <td>2012-08-05</td>\n",
       "      <td>0.54</td>\n",
       "      <td>0.10</td>\n",
       "      <td>0.09</td>\n",
       "      <td>0.16</td>\n",
       "      <td>0.13</td>\n",
       "      <td>NaN</td>\n",
       "      <td>NaN</td>\n",
       "      <td>NaN</td>\n",
       "      <td>NaN</td>\n",
       "      <td>NaN</td>\n",
       "      <td>NaN</td>\n",
       "    </tr>\n",
       "    <tr>\n",
       "      <th>1</th>\n",
       "      <td>2012-08-07</td>\n",
       "      <td>NaN</td>\n",
       "      <td>NaN</td>\n",
       "      <td>NaN</td>\n",
       "      <td>0.14</td>\n",
       "      <td>NaN</td>\n",
       "      <td>NaN</td>\n",
       "      <td>NaN</td>\n",
       "      <td>NaN</td>\n",
       "      <td>NaN</td>\n",
       "      <td>NaN</td>\n",
       "      <td>NaN</td>\n",
       "    </tr>\n",
       "    <tr>\n",
       "      <th>2</th>\n",
       "      <td>2012-12-09</td>\n",
       "      <td>NaN</td>\n",
       "      <td>0.13</td>\n",
       "      <td>0.11</td>\n",
       "      <td>0.13</td>\n",
       "      <td>NaN</td>\n",
       "      <td>NaN</td>\n",
       "      <td>NaN</td>\n",
       "      <td>NaN</td>\n",
       "      <td>NaN</td>\n",
       "      <td>NaN</td>\n",
       "      <td>NaN</td>\n",
       "    </tr>\n",
       "    <tr>\n",
       "      <th>3</th>\n",
       "      <td>2012-12-16</td>\n",
       "      <td>0.57</td>\n",
       "      <td>NaN</td>\n",
       "      <td>NaN</td>\n",
       "      <td>NaN</td>\n",
       "      <td>NaN</td>\n",
       "      <td>NaN</td>\n",
       "      <td>NaN</td>\n",
       "      <td>NaN</td>\n",
       "      <td>NaN</td>\n",
       "      <td>NaN</td>\n",
       "      <td>NaN</td>\n",
       "    </tr>\n",
       "    <tr>\n",
       "      <th>4</th>\n",
       "      <td>2013-05-19</td>\n",
       "      <td>NaN</td>\n",
       "      <td>NaN</td>\n",
       "      <td>NaN</td>\n",
       "      <td>0.15</td>\n",
       "      <td>NaN</td>\n",
       "      <td>NaN</td>\n",
       "      <td>NaN</td>\n",
       "      <td>NaN</td>\n",
       "      <td>NaN</td>\n",
       "      <td>NaN</td>\n",
       "      <td>NaN</td>\n",
       "    </tr>\n",
       "    <tr>\n",
       "      <th>5</th>\n",
       "      <td>2013-07-14</td>\n",
       "      <td>NaN</td>\n",
       "      <td>NaN</td>\n",
       "      <td>NaN</td>\n",
       "      <td>0.16</td>\n",
       "      <td>NaN</td>\n",
       "      <td>NaN</td>\n",
       "      <td>NaN</td>\n",
       "      <td>NaN</td>\n",
       "      <td>NaN</td>\n",
       "      <td>NaN</td>\n",
       "      <td>NaN</td>\n",
       "    </tr>\n",
       "    <tr>\n",
       "      <th>6</th>\n",
       "      <td>2013-09-16</td>\n",
       "      <td>0.57</td>\n",
       "      <td>0.17</td>\n",
       "      <td>0.14</td>\n",
       "      <td>0.17</td>\n",
       "      <td>0.14</td>\n",
       "      <td>NaN</td>\n",
       "      <td>NaN</td>\n",
       "      <td>NaN</td>\n",
       "      <td>NaN</td>\n",
       "      <td>NaN</td>\n",
       "      <td>NaN</td>\n",
       "    </tr>\n",
       "    <tr>\n",
       "      <th>7</th>\n",
       "      <td>2013-09-30</td>\n",
       "      <td>NaN</td>\n",
       "      <td>NaN</td>\n",
       "      <td>NaN</td>\n",
       "      <td>0.16</td>\n",
       "      <td>NaN</td>\n",
       "      <td>NaN</td>\n",
       "      <td>NaN</td>\n",
       "      <td>NaN</td>\n",
       "      <td>NaN</td>\n",
       "      <td>NaN</td>\n",
       "      <td>NaN</td>\n",
       "    </tr>\n",
       "    <tr>\n",
       "      <th>8</th>\n",
       "      <td>2014-01-26</td>\n",
       "      <td>NaN</td>\n",
       "      <td>NaN</td>\n",
       "      <td>NaN</td>\n",
       "      <td>0.16</td>\n",
       "      <td>NaN</td>\n",
       "      <td>NaN</td>\n",
       "      <td>NaN</td>\n",
       "      <td>NaN</td>\n",
       "      <td>NaN</td>\n",
       "      <td>NaN</td>\n",
       "      <td>NaN</td>\n",
       "    </tr>\n",
       "    <tr>\n",
       "      <th>9</th>\n",
       "      <td>2014-09-21</td>\n",
       "      <td>0.58</td>\n",
       "      <td>0.22</td>\n",
       "      <td>0.21</td>\n",
       "      <td>0.23</td>\n",
       "      <td>0.19</td>\n",
       "      <td>NaN</td>\n",
       "      <td>NaN</td>\n",
       "      <td>NaN</td>\n",
       "      <td>NaN</td>\n",
       "      <td>NaN</td>\n",
       "      <td>NaN</td>\n",
       "    </tr>\n",
       "    <tr>\n",
       "      <th>10</th>\n",
       "      <td>2015-04-12</td>\n",
       "      <td>0.62</td>\n",
       "      <td>0.26</td>\n",
       "      <td>0.24</td>\n",
       "      <td>0.22</td>\n",
       "      <td>0.20</td>\n",
       "      <td>NaN</td>\n",
       "      <td>NaN</td>\n",
       "      <td>NaN</td>\n",
       "      <td>NaN</td>\n",
       "      <td>NaN</td>\n",
       "      <td>NaN</td>\n",
       "    </tr>\n",
       "    <tr>\n",
       "      <th>11</th>\n",
       "      <td>2016-04-04</td>\n",
       "      <td>0.68</td>\n",
       "      <td>0.26</td>\n",
       "      <td>0.28</td>\n",
       "      <td>0.25</td>\n",
       "      <td>0.21</td>\n",
       "      <td>NaN</td>\n",
       "      <td>NaN</td>\n",
       "      <td>NaN</td>\n",
       "      <td>NaN</td>\n",
       "      <td>NaN</td>\n",
       "      <td>NaN</td>\n",
       "    </tr>\n",
       "    <tr>\n",
       "      <th>12</th>\n",
       "      <td>2018-01-10</td>\n",
       "      <td>0.68</td>\n",
       "      <td>0.29</td>\n",
       "      <td>0.35</td>\n",
       "      <td>0.25</td>\n",
       "      <td>0.24</td>\n",
       "      <td>0.27</td>\n",
       "      <td>0.73</td>\n",
       "      <td>0.22</td>\n",
       "      <td>NaN</td>\n",
       "      <td>NaN</td>\n",
       "      <td>NaN</td>\n",
       "    </tr>\n",
       "    <tr>\n",
       "      <th>13</th>\n",
       "      <td>2019-02-07</td>\n",
       "      <td>0.69</td>\n",
       "      <td>0.28</td>\n",
       "      <td>0.37</td>\n",
       "      <td>0.27</td>\n",
       "      <td>0.22</td>\n",
       "      <td>0.24</td>\n",
       "      <td>0.73</td>\n",
       "      <td>0.20</td>\n",
       "      <td>0.11</td>\n",
       "      <td>NaN</td>\n",
       "      <td>NaN</td>\n",
       "    </tr>\n",
       "    <tr>\n",
       "      <th>14</th>\n",
       "      <td>2021-02-08</td>\n",
       "      <td>0.69</td>\n",
       "      <td>0.31</td>\n",
       "      <td>0.40</td>\n",
       "      <td>0.28</td>\n",
       "      <td>0.23</td>\n",
       "      <td>0.25</td>\n",
       "      <td>0.81</td>\n",
       "      <td>0.23</td>\n",
       "      <td>0.18</td>\n",
       "      <td>0.21</td>\n",
       "      <td>0.13</td>\n",
       "    </tr>\n",
       "  </tbody>\n",
       "</table>\n",
       "</div>"
      ],
      "text/plain": [
       "         Year  Facebook  Pinterest  Instagram  LinkedIn  Twitter  Snapchat  \\\n",
       "0  2012-08-05      0.54       0.10       0.09      0.16     0.13       NaN   \n",
       "1  2012-08-07       NaN        NaN        NaN      0.14      NaN       NaN   \n",
       "2  2012-12-09       NaN       0.13       0.11      0.13      NaN       NaN   \n",
       "3  2012-12-16      0.57        NaN        NaN       NaN      NaN       NaN   \n",
       "4  2013-05-19       NaN        NaN        NaN      0.15      NaN       NaN   \n",
       "5  2013-07-14       NaN        NaN        NaN      0.16      NaN       NaN   \n",
       "6  2013-09-16      0.57       0.17       0.14      0.17     0.14       NaN   \n",
       "7  2013-09-30       NaN        NaN        NaN      0.16      NaN       NaN   \n",
       "8  2014-01-26       NaN        NaN        NaN      0.16      NaN       NaN   \n",
       "9  2014-09-21      0.58       0.22       0.21      0.23     0.19       NaN   \n",
       "10 2015-04-12      0.62       0.26       0.24      0.22     0.20       NaN   \n",
       "11 2016-04-04      0.68       0.26       0.28      0.25     0.21       NaN   \n",
       "12 2018-01-10      0.68       0.29       0.35      0.25     0.24      0.27   \n",
       "13 2019-02-07      0.69       0.28       0.37      0.27     0.22      0.24   \n",
       "14 2021-02-08      0.69       0.31       0.40      0.28     0.23      0.25   \n",
       "\n",
       "    YouTube  WhatsApp  Reddit  TikTok  Nextdoor  \n",
       "0       NaN       NaN     NaN     NaN       NaN  \n",
       "1       NaN       NaN     NaN     NaN       NaN  \n",
       "2       NaN       NaN     NaN     NaN       NaN  \n",
       "3       NaN       NaN     NaN     NaN       NaN  \n",
       "4       NaN       NaN     NaN     NaN       NaN  \n",
       "5       NaN       NaN     NaN     NaN       NaN  \n",
       "6       NaN       NaN     NaN     NaN       NaN  \n",
       "7       NaN       NaN     NaN     NaN       NaN  \n",
       "8       NaN       NaN     NaN     NaN       NaN  \n",
       "9       NaN       NaN     NaN     NaN       NaN  \n",
       "10      NaN       NaN     NaN     NaN       NaN  \n",
       "11      NaN       NaN     NaN     NaN       NaN  \n",
       "12     0.73      0.22     NaN     NaN       NaN  \n",
       "13     0.73      0.20    0.11     NaN       NaN  \n",
       "14     0.81      0.23    0.18    0.21      0.13  "
      ]
     },
     "execution_count": 4,
     "metadata": {},
     "output_type": "execute_result"
    }
   ],
   "source": [
    "df = pd.read_csv('test-Copy1.csv')\n",
    "df[df.columns[1:]] = df[df.columns[1:]].replace('%', '', regex=True).astype(float) / 100\n",
    "df['Year'] = pd.to_datetime(df['Year'])\n",
    "df_filtered = df.dropna()\n",
    "df_filtered = df_filtered.sort_values(by='Year', ascending=False)\n",
    "df"
   ]
  },
  {
   "cell_type": "code",
   "execution_count": 36,
   "id": "c1c9df8e",
   "metadata": {
    "hideCode": false,
    "tags": [
     "\"hide_input\""
    ]
   },
   "outputs": [
    {
     "data": {
      "application/vnd.plotly.v1+json": {
       "config": {
        "plotlyServerURL": "https://plot.ly"
       },
       "data": [
        {
         "connectgaps": true,
         "marker": {
          "color": "blue"
         },
         "mode": "lines+markers",
         "name": "Facebook",
         "type": "scatter",
         "x": [
          "2012-08-05T00:00:00",
          "2012-08-07T00:00:00",
          "2012-12-09T00:00:00",
          "2012-12-16T00:00:00",
          "2013-05-19T00:00:00",
          "2013-07-14T00:00:00",
          "2013-09-16T00:00:00",
          "2013-09-30T00:00:00",
          "2014-01-26T00:00:00",
          "2014-09-21T00:00:00",
          "2015-04-12T00:00:00",
          "2016-04-04T00:00:00",
          "2018-01-10T00:00:00",
          "2019-02-07T00:00:00",
          "2021-02-08T00:00:00"
         ],
         "y": [
          0.54,
          null,
          null,
          0.57,
          null,
          null,
          0.57,
          null,
          null,
          0.58,
          0.62,
          0.68,
          0.68,
          0.69,
          0.69
         ]
        },
        {
         "connectgaps": true,
         "marker": {
          "color": "#FF6F6F"
         },
         "mode": "lines+markers",
         "name": "Pinterest",
         "type": "scatter",
         "x": [
          "2012-08-05T00:00:00",
          "2012-08-07T00:00:00",
          "2012-12-09T00:00:00",
          "2012-12-16T00:00:00",
          "2013-05-19T00:00:00",
          "2013-07-14T00:00:00",
          "2013-09-16T00:00:00",
          "2013-09-30T00:00:00",
          "2014-01-26T00:00:00",
          "2014-09-21T00:00:00",
          "2015-04-12T00:00:00",
          "2016-04-04T00:00:00",
          "2018-01-10T00:00:00",
          "2019-02-07T00:00:00",
          "2021-02-08T00:00:00"
         ],
         "y": [
          0.1,
          null,
          0.13,
          null,
          null,
          null,
          0.17,
          null,
          null,
          0.22,
          0.26,
          0.26,
          0.29,
          0.28,
          0.31
         ]
        },
        {
         "connectgaps": true,
         "marker": {
          "color": "pink"
         },
         "mode": "lines+markers",
         "name": "Instagram",
         "type": "scatter",
         "x": [
          "2012-08-05T00:00:00",
          "2012-08-07T00:00:00",
          "2012-12-09T00:00:00",
          "2012-12-16T00:00:00",
          "2013-05-19T00:00:00",
          "2013-07-14T00:00:00",
          "2013-09-16T00:00:00",
          "2013-09-30T00:00:00",
          "2014-01-26T00:00:00",
          "2014-09-21T00:00:00",
          "2015-04-12T00:00:00",
          "2016-04-04T00:00:00",
          "2018-01-10T00:00:00",
          "2019-02-07T00:00:00",
          "2021-02-08T00:00:00"
         ],
         "y": [
          0.09,
          null,
          0.11,
          null,
          null,
          null,
          0.14,
          null,
          null,
          0.21,
          0.24,
          0.28,
          0.35,
          0.37,
          0.4
         ]
        },
        {
         "connectgaps": true,
         "marker": {
          "color": "darkblue"
         },
         "mode": "lines+markers",
         "name": "LinkedIn",
         "type": "scatter",
         "x": [
          "2012-08-05T00:00:00",
          "2012-08-07T00:00:00",
          "2012-12-09T00:00:00",
          "2012-12-16T00:00:00",
          "2013-05-19T00:00:00",
          "2013-07-14T00:00:00",
          "2013-09-16T00:00:00",
          "2013-09-30T00:00:00",
          "2014-01-26T00:00:00",
          "2014-09-21T00:00:00",
          "2015-04-12T00:00:00",
          "2016-04-04T00:00:00",
          "2018-01-10T00:00:00",
          "2019-02-07T00:00:00",
          "2021-02-08T00:00:00"
         ],
         "y": [
          0.16,
          0.14,
          0.13,
          null,
          0.15,
          0.16,
          0.17,
          0.16,
          0.16,
          0.23,
          0.22,
          0.25,
          0.25,
          0.27,
          0.28
         ]
        },
        {
         "connectgaps": true,
         "marker": {
          "color": "lightblue"
         },
         "mode": "lines+markers",
         "name": "Twitter",
         "type": "scatter",
         "x": [
          "2012-08-05T00:00:00",
          "2012-08-07T00:00:00",
          "2012-12-09T00:00:00",
          "2012-12-16T00:00:00",
          "2013-05-19T00:00:00",
          "2013-07-14T00:00:00",
          "2013-09-16T00:00:00",
          "2013-09-30T00:00:00",
          "2014-01-26T00:00:00",
          "2014-09-21T00:00:00",
          "2015-04-12T00:00:00",
          "2016-04-04T00:00:00",
          "2018-01-10T00:00:00",
          "2019-02-07T00:00:00",
          "2021-02-08T00:00:00"
         ],
         "y": [
          0.13,
          null,
          null,
          null,
          null,
          null,
          0.14,
          null,
          null,
          0.19,
          0.2,
          0.21,
          0.24,
          0.22,
          0.23
         ]
        },
        {
         "connectgaps": true,
         "marker": {
          "color": "yellow"
         },
         "mode": "lines+markers",
         "name": "Snapchat",
         "type": "scatter",
         "x": [
          "2012-08-05T00:00:00",
          "2012-08-07T00:00:00",
          "2012-12-09T00:00:00",
          "2012-12-16T00:00:00",
          "2013-05-19T00:00:00",
          "2013-07-14T00:00:00",
          "2013-09-16T00:00:00",
          "2013-09-30T00:00:00",
          "2014-01-26T00:00:00",
          "2014-09-21T00:00:00",
          "2015-04-12T00:00:00",
          "2016-04-04T00:00:00",
          "2018-01-10T00:00:00",
          "2019-02-07T00:00:00",
          "2021-02-08T00:00:00"
         ],
         "y": [
          null,
          null,
          null,
          null,
          null,
          null,
          null,
          null,
          null,
          null,
          null,
          null,
          0.27,
          0.24,
          0.25
         ]
        },
        {
         "connectgaps": true,
         "marker": {
          "color": "red"
         },
         "mode": "lines+markers",
         "name": "YouTube",
         "type": "scatter",
         "x": [
          "2012-08-05T00:00:00",
          "2012-08-07T00:00:00",
          "2012-12-09T00:00:00",
          "2012-12-16T00:00:00",
          "2013-05-19T00:00:00",
          "2013-07-14T00:00:00",
          "2013-09-16T00:00:00",
          "2013-09-30T00:00:00",
          "2014-01-26T00:00:00",
          "2014-09-21T00:00:00",
          "2015-04-12T00:00:00",
          "2016-04-04T00:00:00",
          "2018-01-10T00:00:00",
          "2019-02-07T00:00:00",
          "2021-02-08T00:00:00"
         ],
         "y": [
          null,
          null,
          null,
          null,
          null,
          null,
          null,
          null,
          null,
          null,
          null,
          null,
          0.73,
          0.73,
          0.81
         ]
        },
        {
         "connectgaps": true,
         "marker": {
          "color": "green"
         },
         "mode": "lines+markers",
         "name": "WhatsApp",
         "type": "scatter",
         "x": [
          "2012-08-05T00:00:00",
          "2012-08-07T00:00:00",
          "2012-12-09T00:00:00",
          "2012-12-16T00:00:00",
          "2013-05-19T00:00:00",
          "2013-07-14T00:00:00",
          "2013-09-16T00:00:00",
          "2013-09-30T00:00:00",
          "2014-01-26T00:00:00",
          "2014-09-21T00:00:00",
          "2015-04-12T00:00:00",
          "2016-04-04T00:00:00",
          "2018-01-10T00:00:00",
          "2019-02-07T00:00:00",
          "2021-02-08T00:00:00"
         ],
         "y": [
          null,
          null,
          null,
          null,
          null,
          null,
          null,
          null,
          null,
          null,
          null,
          null,
          0.22,
          0.2,
          0.23
         ]
        },
        {
         "connectgaps": true,
         "marker": {
          "color": "orange"
         },
         "mode": "lines+markers",
         "name": "Reddit",
         "type": "scatter",
         "x": [
          "2012-08-05T00:00:00",
          "2012-08-07T00:00:00",
          "2012-12-09T00:00:00",
          "2012-12-16T00:00:00",
          "2013-05-19T00:00:00",
          "2013-07-14T00:00:00",
          "2013-09-16T00:00:00",
          "2013-09-30T00:00:00",
          "2014-01-26T00:00:00",
          "2014-09-21T00:00:00",
          "2015-04-12T00:00:00",
          "2016-04-04T00:00:00",
          "2018-01-10T00:00:00",
          "2019-02-07T00:00:00",
          "2021-02-08T00:00:00"
         ],
         "y": [
          null,
          null,
          null,
          null,
          null,
          null,
          null,
          null,
          null,
          null,
          null,
          null,
          null,
          0.11,
          0.18
         ]
        },
        {
         "connectgaps": true,
         "marker": {
          "color": "black"
         },
         "mode": "lines+markers",
         "name": "TikTok",
         "type": "scatter",
         "x": [
          "2012-08-05T00:00:00",
          "2012-08-07T00:00:00",
          "2012-12-09T00:00:00",
          "2012-12-16T00:00:00",
          "2013-05-19T00:00:00",
          "2013-07-14T00:00:00",
          "2013-09-16T00:00:00",
          "2013-09-30T00:00:00",
          "2014-01-26T00:00:00",
          "2014-09-21T00:00:00",
          "2015-04-12T00:00:00",
          "2016-04-04T00:00:00",
          "2018-01-10T00:00:00",
          "2019-02-07T00:00:00",
          "2021-02-08T00:00:00"
         ],
         "y": [
          null,
          null,
          null,
          null,
          null,
          null,
          null,
          null,
          null,
          null,
          null,
          null,
          null,
          null,
          0.21
         ]
        },
        {
         "connectgaps": true,
         "marker": {
          "color": "lightgreen"
         },
         "mode": "lines+markers",
         "name": "Nextdoor",
         "type": "scatter",
         "x": [
          "2012-08-05T00:00:00",
          "2012-08-07T00:00:00",
          "2012-12-09T00:00:00",
          "2012-12-16T00:00:00",
          "2013-05-19T00:00:00",
          "2013-07-14T00:00:00",
          "2013-09-16T00:00:00",
          "2013-09-30T00:00:00",
          "2014-01-26T00:00:00",
          "2014-09-21T00:00:00",
          "2015-04-12T00:00:00",
          "2016-04-04T00:00:00",
          "2018-01-10T00:00:00",
          "2019-02-07T00:00:00",
          "2021-02-08T00:00:00"
         ],
         "y": [
          null,
          null,
          null,
          null,
          null,
          null,
          null,
          null,
          null,
          null,
          null,
          null,
          null,
          null,
          0.13
         ]
        }
       ],
       "layout": {
        "annotations": [
         {
          "showarrow": false,
          "text": "Op de x-axis is de tijd in jaren te zien. <br> Op de y-axis is het percentage van het aantal sociale media gebruikers dat een bepaald platform gebruikt. Hieruit is af te lezen dat het gebruik in totaal stijgt.",
          "x": 0.5,
          "xref": "paper",
          "y": -0.22,
          "yref": "paper"
         }
        ],
        "font": {
         "color": "Black",
         "family": "Georgia"
        },
        "paper_bgcolor": "white",
        "plot_bgcolor": "white",
        "template": {
         "data": {
          "bar": [
           {
            "error_x": {
             "color": "#2a3f5f"
            },
            "error_y": {
             "color": "#2a3f5f"
            },
            "marker": {
             "line": {
              "color": "#E5ECF6",
              "width": 0.5
             },
             "pattern": {
              "fillmode": "overlay",
              "size": 10,
              "solidity": 0.2
             }
            },
            "type": "bar"
           }
          ],
          "barpolar": [
           {
            "marker": {
             "line": {
              "color": "#E5ECF6",
              "width": 0.5
             },
             "pattern": {
              "fillmode": "overlay",
              "size": 10,
              "solidity": 0.2
             }
            },
            "type": "barpolar"
           }
          ],
          "carpet": [
           {
            "aaxis": {
             "endlinecolor": "#2a3f5f",
             "gridcolor": "white",
             "linecolor": "white",
             "minorgridcolor": "white",
             "startlinecolor": "#2a3f5f"
            },
            "baxis": {
             "endlinecolor": "#2a3f5f",
             "gridcolor": "white",
             "linecolor": "white",
             "minorgridcolor": "white",
             "startlinecolor": "#2a3f5f"
            },
            "type": "carpet"
           }
          ],
          "choropleth": [
           {
            "colorbar": {
             "outlinewidth": 0,
             "ticks": ""
            },
            "type": "choropleth"
           }
          ],
          "contour": [
           {
            "colorbar": {
             "outlinewidth": 0,
             "ticks": ""
            },
            "colorscale": [
             [
              0,
              "#0d0887"
             ],
             [
              0.1111111111111111,
              "#46039f"
             ],
             [
              0.2222222222222222,
              "#7201a8"
             ],
             [
              0.3333333333333333,
              "#9c179e"
             ],
             [
              0.4444444444444444,
              "#bd3786"
             ],
             [
              0.5555555555555556,
              "#d8576b"
             ],
             [
              0.6666666666666666,
              "#ed7953"
             ],
             [
              0.7777777777777778,
              "#fb9f3a"
             ],
             [
              0.8888888888888888,
              "#fdca26"
             ],
             [
              1,
              "#f0f921"
             ]
            ],
            "type": "contour"
           }
          ],
          "contourcarpet": [
           {
            "colorbar": {
             "outlinewidth": 0,
             "ticks": ""
            },
            "type": "contourcarpet"
           }
          ],
          "heatmap": [
           {
            "colorbar": {
             "outlinewidth": 0,
             "ticks": ""
            },
            "colorscale": [
             [
              0,
              "#0d0887"
             ],
             [
              0.1111111111111111,
              "#46039f"
             ],
             [
              0.2222222222222222,
              "#7201a8"
             ],
             [
              0.3333333333333333,
              "#9c179e"
             ],
             [
              0.4444444444444444,
              "#bd3786"
             ],
             [
              0.5555555555555556,
              "#d8576b"
             ],
             [
              0.6666666666666666,
              "#ed7953"
             ],
             [
              0.7777777777777778,
              "#fb9f3a"
             ],
             [
              0.8888888888888888,
              "#fdca26"
             ],
             [
              1,
              "#f0f921"
             ]
            ],
            "type": "heatmap"
           }
          ],
          "heatmapgl": [
           {
            "colorbar": {
             "outlinewidth": 0,
             "ticks": ""
            },
            "colorscale": [
             [
              0,
              "#0d0887"
             ],
             [
              0.1111111111111111,
              "#46039f"
             ],
             [
              0.2222222222222222,
              "#7201a8"
             ],
             [
              0.3333333333333333,
              "#9c179e"
             ],
             [
              0.4444444444444444,
              "#bd3786"
             ],
             [
              0.5555555555555556,
              "#d8576b"
             ],
             [
              0.6666666666666666,
              "#ed7953"
             ],
             [
              0.7777777777777778,
              "#fb9f3a"
             ],
             [
              0.8888888888888888,
              "#fdca26"
             ],
             [
              1,
              "#f0f921"
             ]
            ],
            "type": "heatmapgl"
           }
          ],
          "histogram": [
           {
            "marker": {
             "pattern": {
              "fillmode": "overlay",
              "size": 10,
              "solidity": 0.2
             }
            },
            "type": "histogram"
           }
          ],
          "histogram2d": [
           {
            "colorbar": {
             "outlinewidth": 0,
             "ticks": ""
            },
            "colorscale": [
             [
              0,
              "#0d0887"
             ],
             [
              0.1111111111111111,
              "#46039f"
             ],
             [
              0.2222222222222222,
              "#7201a8"
             ],
             [
              0.3333333333333333,
              "#9c179e"
             ],
             [
              0.4444444444444444,
              "#bd3786"
             ],
             [
              0.5555555555555556,
              "#d8576b"
             ],
             [
              0.6666666666666666,
              "#ed7953"
             ],
             [
              0.7777777777777778,
              "#fb9f3a"
             ],
             [
              0.8888888888888888,
              "#fdca26"
             ],
             [
              1,
              "#f0f921"
             ]
            ],
            "type": "histogram2d"
           }
          ],
          "histogram2dcontour": [
           {
            "colorbar": {
             "outlinewidth": 0,
             "ticks": ""
            },
            "colorscale": [
             [
              0,
              "#0d0887"
             ],
             [
              0.1111111111111111,
              "#46039f"
             ],
             [
              0.2222222222222222,
              "#7201a8"
             ],
             [
              0.3333333333333333,
              "#9c179e"
             ],
             [
              0.4444444444444444,
              "#bd3786"
             ],
             [
              0.5555555555555556,
              "#d8576b"
             ],
             [
              0.6666666666666666,
              "#ed7953"
             ],
             [
              0.7777777777777778,
              "#fb9f3a"
             ],
             [
              0.8888888888888888,
              "#fdca26"
             ],
             [
              1,
              "#f0f921"
             ]
            ],
            "type": "histogram2dcontour"
           }
          ],
          "mesh3d": [
           {
            "colorbar": {
             "outlinewidth": 0,
             "ticks": ""
            },
            "type": "mesh3d"
           }
          ],
          "parcoords": [
           {
            "line": {
             "colorbar": {
              "outlinewidth": 0,
              "ticks": ""
             }
            },
            "type": "parcoords"
           }
          ],
          "pie": [
           {
            "automargin": true,
            "type": "pie"
           }
          ],
          "scatter": [
           {
            "fillpattern": {
             "fillmode": "overlay",
             "size": 10,
             "solidity": 0.2
            },
            "type": "scatter"
           }
          ],
          "scatter3d": [
           {
            "line": {
             "colorbar": {
              "outlinewidth": 0,
              "ticks": ""
             }
            },
            "marker": {
             "colorbar": {
              "outlinewidth": 0,
              "ticks": ""
             }
            },
            "type": "scatter3d"
           }
          ],
          "scattercarpet": [
           {
            "marker": {
             "colorbar": {
              "outlinewidth": 0,
              "ticks": ""
             }
            },
            "type": "scattercarpet"
           }
          ],
          "scattergeo": [
           {
            "marker": {
             "colorbar": {
              "outlinewidth": 0,
              "ticks": ""
             }
            },
            "type": "scattergeo"
           }
          ],
          "scattergl": [
           {
            "marker": {
             "colorbar": {
              "outlinewidth": 0,
              "ticks": ""
             }
            },
            "type": "scattergl"
           }
          ],
          "scattermapbox": [
           {
            "marker": {
             "colorbar": {
              "outlinewidth": 0,
              "ticks": ""
             }
            },
            "type": "scattermapbox"
           }
          ],
          "scatterpolar": [
           {
            "marker": {
             "colorbar": {
              "outlinewidth": 0,
              "ticks": ""
             }
            },
            "type": "scatterpolar"
           }
          ],
          "scatterpolargl": [
           {
            "marker": {
             "colorbar": {
              "outlinewidth": 0,
              "ticks": ""
             }
            },
            "type": "scatterpolargl"
           }
          ],
          "scatterternary": [
           {
            "marker": {
             "colorbar": {
              "outlinewidth": 0,
              "ticks": ""
             }
            },
            "type": "scatterternary"
           }
          ],
          "surface": [
           {
            "colorbar": {
             "outlinewidth": 0,
             "ticks": ""
            },
            "colorscale": [
             [
              0,
              "#0d0887"
             ],
             [
              0.1111111111111111,
              "#46039f"
             ],
             [
              0.2222222222222222,
              "#7201a8"
             ],
             [
              0.3333333333333333,
              "#9c179e"
             ],
             [
              0.4444444444444444,
              "#bd3786"
             ],
             [
              0.5555555555555556,
              "#d8576b"
             ],
             [
              0.6666666666666666,
              "#ed7953"
             ],
             [
              0.7777777777777778,
              "#fb9f3a"
             ],
             [
              0.8888888888888888,
              "#fdca26"
             ],
             [
              1,
              "#f0f921"
             ]
            ],
            "type": "surface"
           }
          ],
          "table": [
           {
            "cells": {
             "fill": {
              "color": "#EBF0F8"
             },
             "line": {
              "color": "white"
             }
            },
            "header": {
             "fill": {
              "color": "#C8D4E3"
             },
             "line": {
              "color": "white"
             }
            },
            "type": "table"
           }
          ]
         },
         "layout": {
          "annotationdefaults": {
           "arrowcolor": "#2a3f5f",
           "arrowhead": 0,
           "arrowwidth": 1
          },
          "autotypenumbers": "strict",
          "coloraxis": {
           "colorbar": {
            "outlinewidth": 0,
            "ticks": ""
           }
          },
          "colorscale": {
           "diverging": [
            [
             0,
             "#8e0152"
            ],
            [
             0.1,
             "#c51b7d"
            ],
            [
             0.2,
             "#de77ae"
            ],
            [
             0.3,
             "#f1b6da"
            ],
            [
             0.4,
             "#fde0ef"
            ],
            [
             0.5,
             "#f7f7f7"
            ],
            [
             0.6,
             "#e6f5d0"
            ],
            [
             0.7,
             "#b8e186"
            ],
            [
             0.8,
             "#7fbc41"
            ],
            [
             0.9,
             "#4d9221"
            ],
            [
             1,
             "#276419"
            ]
           ],
           "sequential": [
            [
             0,
             "#0d0887"
            ],
            [
             0.1111111111111111,
             "#46039f"
            ],
            [
             0.2222222222222222,
             "#7201a8"
            ],
            [
             0.3333333333333333,
             "#9c179e"
            ],
            [
             0.4444444444444444,
             "#bd3786"
            ],
            [
             0.5555555555555556,
             "#d8576b"
            ],
            [
             0.6666666666666666,
             "#ed7953"
            ],
            [
             0.7777777777777778,
             "#fb9f3a"
            ],
            [
             0.8888888888888888,
             "#fdca26"
            ],
            [
             1,
             "#f0f921"
            ]
           ],
           "sequentialminus": [
            [
             0,
             "#0d0887"
            ],
            [
             0.1111111111111111,
             "#46039f"
            ],
            [
             0.2222222222222222,
             "#7201a8"
            ],
            [
             0.3333333333333333,
             "#9c179e"
            ],
            [
             0.4444444444444444,
             "#bd3786"
            ],
            [
             0.5555555555555556,
             "#d8576b"
            ],
            [
             0.6666666666666666,
             "#ed7953"
            ],
            [
             0.7777777777777778,
             "#fb9f3a"
            ],
            [
             0.8888888888888888,
             "#fdca26"
            ],
            [
             1,
             "#f0f921"
            ]
           ]
          },
          "colorway": [
           "#636efa",
           "#EF553B",
           "#00cc96",
           "#ab63fa",
           "#FFA15A",
           "#19d3f3",
           "#FF6692",
           "#B6E880",
           "#FF97FF",
           "#FECB52"
          ],
          "font": {
           "color": "#2a3f5f"
          },
          "geo": {
           "bgcolor": "white",
           "lakecolor": "white",
           "landcolor": "#E5ECF6",
           "showlakes": true,
           "showland": true,
           "subunitcolor": "white"
          },
          "hoverlabel": {
           "align": "left"
          },
          "hovermode": "closest",
          "mapbox": {
           "style": "light"
          },
          "paper_bgcolor": "white",
          "plot_bgcolor": "#E5ECF6",
          "polar": {
           "angularaxis": {
            "gridcolor": "white",
            "linecolor": "white",
            "ticks": ""
           },
           "bgcolor": "#E5ECF6",
           "radialaxis": {
            "gridcolor": "white",
            "linecolor": "white",
            "ticks": ""
           }
          },
          "scene": {
           "xaxis": {
            "backgroundcolor": "#E5ECF6",
            "gridcolor": "white",
            "gridwidth": 2,
            "linecolor": "white",
            "showbackground": true,
            "ticks": "",
            "zerolinecolor": "white"
           },
           "yaxis": {
            "backgroundcolor": "#E5ECF6",
            "gridcolor": "white",
            "gridwidth": 2,
            "linecolor": "white",
            "showbackground": true,
            "ticks": "",
            "zerolinecolor": "white"
           },
           "zaxis": {
            "backgroundcolor": "#E5ECF6",
            "gridcolor": "white",
            "gridwidth": 2,
            "linecolor": "white",
            "showbackground": true,
            "ticks": "",
            "zerolinecolor": "white"
           }
          },
          "shapedefaults": {
           "line": {
            "color": "#2a3f5f"
           }
          },
          "ternary": {
           "aaxis": {
            "gridcolor": "white",
            "linecolor": "white",
            "ticks": ""
           },
           "baxis": {
            "gridcolor": "white",
            "linecolor": "white",
            "ticks": ""
           },
           "bgcolor": "#E5ECF6",
           "caxis": {
            "gridcolor": "white",
            "linecolor": "white",
            "ticks": ""
           }
          },
          "title": {
           "x": 0.05
          },
          "xaxis": {
           "automargin": true,
           "gridcolor": "white",
           "linecolor": "white",
           "ticks": "",
           "title": {
            "standoff": 15
           },
           "zerolinecolor": "white",
           "zerolinewidth": 2
          },
          "yaxis": {
           "automargin": true,
           "gridcolor": "white",
           "linecolor": "white",
           "ticks": "",
           "title": {
            "standoff": 15
           },
           "zerolinecolor": "white",
           "zerolinewidth": 2
          }
         }
        },
        "title": {
         "text": "Totaal gebruik verschillende sociale media door bevolking Verenigde Staten"
        },
        "xaxis": {
         "dtick": "M12",
         "gridcolor": "lightgray",
         "tickmode": "linear",
         "title": {
          "text": "Jaartallen"
         }
        },
        "yaxis": {
         "gridcolor": "lightgray",
         "range": [
          0,
          1
         ],
         "tickformat": ",.0%",
         "title": {
          "text": "Percentage gebruik sociale media"
         }
        }
       }
      },
      "text/html": [
       "<div>                            <div id=\"941eeffe-d7bd-477a-9014-f22f0c641c37\" class=\"plotly-graph-div\" style=\"height:525px; width:100%;\"></div>            <script type=\"text/javascript\">                require([\"plotly\"], function(Plotly) {                    window.PLOTLYENV=window.PLOTLYENV || {};                                    if (document.getElementById(\"941eeffe-d7bd-477a-9014-f22f0c641c37\")) {                    Plotly.newPlot(                        \"941eeffe-d7bd-477a-9014-f22f0c641c37\",                        [{\"connectgaps\":true,\"marker\":{\"color\":\"blue\"},\"mode\":\"lines+markers\",\"name\":\"Facebook\",\"x\":[\"2012-08-05T00:00:00\",\"2012-08-07T00:00:00\",\"2012-12-09T00:00:00\",\"2012-12-16T00:00:00\",\"2013-05-19T00:00:00\",\"2013-07-14T00:00:00\",\"2013-09-16T00:00:00\",\"2013-09-30T00:00:00\",\"2014-01-26T00:00:00\",\"2014-09-21T00:00:00\",\"2015-04-12T00:00:00\",\"2016-04-04T00:00:00\",\"2018-01-10T00:00:00\",\"2019-02-07T00:00:00\",\"2021-02-08T00:00:00\"],\"y\":[0.54,null,null,0.57,null,null,0.57,null,null,0.58,0.62,0.68,0.68,0.69,0.69],\"type\":\"scatter\"},{\"connectgaps\":true,\"marker\":{\"color\":\"#FF6F6F\"},\"mode\":\"lines+markers\",\"name\":\"Pinterest\",\"x\":[\"2012-08-05T00:00:00\",\"2012-08-07T00:00:00\",\"2012-12-09T00:00:00\",\"2012-12-16T00:00:00\",\"2013-05-19T00:00:00\",\"2013-07-14T00:00:00\",\"2013-09-16T00:00:00\",\"2013-09-30T00:00:00\",\"2014-01-26T00:00:00\",\"2014-09-21T00:00:00\",\"2015-04-12T00:00:00\",\"2016-04-04T00:00:00\",\"2018-01-10T00:00:00\",\"2019-02-07T00:00:00\",\"2021-02-08T00:00:00\"],\"y\":[0.1,null,0.13,null,null,null,0.17,null,null,0.22,0.26,0.26,0.29,0.28,0.31],\"type\":\"scatter\"},{\"connectgaps\":true,\"marker\":{\"color\":\"pink\"},\"mode\":\"lines+markers\",\"name\":\"Instagram\",\"x\":[\"2012-08-05T00:00:00\",\"2012-08-07T00:00:00\",\"2012-12-09T00:00:00\",\"2012-12-16T00:00:00\",\"2013-05-19T00:00:00\",\"2013-07-14T00:00:00\",\"2013-09-16T00:00:00\",\"2013-09-30T00:00:00\",\"2014-01-26T00:00:00\",\"2014-09-21T00:00:00\",\"2015-04-12T00:00:00\",\"2016-04-04T00:00:00\",\"2018-01-10T00:00:00\",\"2019-02-07T00:00:00\",\"2021-02-08T00:00:00\"],\"y\":[0.09,null,0.11,null,null,null,0.14,null,null,0.21,0.24,0.28,0.35,0.37,0.4],\"type\":\"scatter\"},{\"connectgaps\":true,\"marker\":{\"color\":\"darkblue\"},\"mode\":\"lines+markers\",\"name\":\"LinkedIn\",\"x\":[\"2012-08-05T00:00:00\",\"2012-08-07T00:00:00\",\"2012-12-09T00:00:00\",\"2012-12-16T00:00:00\",\"2013-05-19T00:00:00\",\"2013-07-14T00:00:00\",\"2013-09-16T00:00:00\",\"2013-09-30T00:00:00\",\"2014-01-26T00:00:00\",\"2014-09-21T00:00:00\",\"2015-04-12T00:00:00\",\"2016-04-04T00:00:00\",\"2018-01-10T00:00:00\",\"2019-02-07T00:00:00\",\"2021-02-08T00:00:00\"],\"y\":[0.16,0.14,0.13,null,0.15,0.16,0.17,0.16,0.16,0.23,0.22,0.25,0.25,0.27,0.28],\"type\":\"scatter\"},{\"connectgaps\":true,\"marker\":{\"color\":\"lightblue\"},\"mode\":\"lines+markers\",\"name\":\"Twitter\",\"x\":[\"2012-08-05T00:00:00\",\"2012-08-07T00:00:00\",\"2012-12-09T00:00:00\",\"2012-12-16T00:00:00\",\"2013-05-19T00:00:00\",\"2013-07-14T00:00:00\",\"2013-09-16T00:00:00\",\"2013-09-30T00:00:00\",\"2014-01-26T00:00:00\",\"2014-09-21T00:00:00\",\"2015-04-12T00:00:00\",\"2016-04-04T00:00:00\",\"2018-01-10T00:00:00\",\"2019-02-07T00:00:00\",\"2021-02-08T00:00:00\"],\"y\":[0.13,null,null,null,null,null,0.14,null,null,0.19,0.2,0.21,0.24,0.22,0.23],\"type\":\"scatter\"},{\"connectgaps\":true,\"marker\":{\"color\":\"yellow\"},\"mode\":\"lines+markers\",\"name\":\"Snapchat\",\"x\":[\"2012-08-05T00:00:00\",\"2012-08-07T00:00:00\",\"2012-12-09T00:00:00\",\"2012-12-16T00:00:00\",\"2013-05-19T00:00:00\",\"2013-07-14T00:00:00\",\"2013-09-16T00:00:00\",\"2013-09-30T00:00:00\",\"2014-01-26T00:00:00\",\"2014-09-21T00:00:00\",\"2015-04-12T00:00:00\",\"2016-04-04T00:00:00\",\"2018-01-10T00:00:00\",\"2019-02-07T00:00:00\",\"2021-02-08T00:00:00\"],\"y\":[null,null,null,null,null,null,null,null,null,null,null,null,0.27,0.24,0.25],\"type\":\"scatter\"},{\"connectgaps\":true,\"marker\":{\"color\":\"red\"},\"mode\":\"lines+markers\",\"name\":\"YouTube\",\"x\":[\"2012-08-05T00:00:00\",\"2012-08-07T00:00:00\",\"2012-12-09T00:00:00\",\"2012-12-16T00:00:00\",\"2013-05-19T00:00:00\",\"2013-07-14T00:00:00\",\"2013-09-16T00:00:00\",\"2013-09-30T00:00:00\",\"2014-01-26T00:00:00\",\"2014-09-21T00:00:00\",\"2015-04-12T00:00:00\",\"2016-04-04T00:00:00\",\"2018-01-10T00:00:00\",\"2019-02-07T00:00:00\",\"2021-02-08T00:00:00\"],\"y\":[null,null,null,null,null,null,null,null,null,null,null,null,0.73,0.73,0.81],\"type\":\"scatter\"},{\"connectgaps\":true,\"marker\":{\"color\":\"green\"},\"mode\":\"lines+markers\",\"name\":\"WhatsApp\",\"x\":[\"2012-08-05T00:00:00\",\"2012-08-07T00:00:00\",\"2012-12-09T00:00:00\",\"2012-12-16T00:00:00\",\"2013-05-19T00:00:00\",\"2013-07-14T00:00:00\",\"2013-09-16T00:00:00\",\"2013-09-30T00:00:00\",\"2014-01-26T00:00:00\",\"2014-09-21T00:00:00\",\"2015-04-12T00:00:00\",\"2016-04-04T00:00:00\",\"2018-01-10T00:00:00\",\"2019-02-07T00:00:00\",\"2021-02-08T00:00:00\"],\"y\":[null,null,null,null,null,null,null,null,null,null,null,null,0.22,0.2,0.23],\"type\":\"scatter\"},{\"connectgaps\":true,\"marker\":{\"color\":\"orange\"},\"mode\":\"lines+markers\",\"name\":\"Reddit\",\"x\":[\"2012-08-05T00:00:00\",\"2012-08-07T00:00:00\",\"2012-12-09T00:00:00\",\"2012-12-16T00:00:00\",\"2013-05-19T00:00:00\",\"2013-07-14T00:00:00\",\"2013-09-16T00:00:00\",\"2013-09-30T00:00:00\",\"2014-01-26T00:00:00\",\"2014-09-21T00:00:00\",\"2015-04-12T00:00:00\",\"2016-04-04T00:00:00\",\"2018-01-10T00:00:00\",\"2019-02-07T00:00:00\",\"2021-02-08T00:00:00\"],\"y\":[null,null,null,null,null,null,null,null,null,null,null,null,null,0.11,0.18],\"type\":\"scatter\"},{\"connectgaps\":true,\"marker\":{\"color\":\"black\"},\"mode\":\"lines+markers\",\"name\":\"TikTok\",\"x\":[\"2012-08-05T00:00:00\",\"2012-08-07T00:00:00\",\"2012-12-09T00:00:00\",\"2012-12-16T00:00:00\",\"2013-05-19T00:00:00\",\"2013-07-14T00:00:00\",\"2013-09-16T00:00:00\",\"2013-09-30T00:00:00\",\"2014-01-26T00:00:00\",\"2014-09-21T00:00:00\",\"2015-04-12T00:00:00\",\"2016-04-04T00:00:00\",\"2018-01-10T00:00:00\",\"2019-02-07T00:00:00\",\"2021-02-08T00:00:00\"],\"y\":[null,null,null,null,null,null,null,null,null,null,null,null,null,null,0.21],\"type\":\"scatter\"},{\"connectgaps\":true,\"marker\":{\"color\":\"lightgreen\"},\"mode\":\"lines+markers\",\"name\":\"Nextdoor\",\"x\":[\"2012-08-05T00:00:00\",\"2012-08-07T00:00:00\",\"2012-12-09T00:00:00\",\"2012-12-16T00:00:00\",\"2013-05-19T00:00:00\",\"2013-07-14T00:00:00\",\"2013-09-16T00:00:00\",\"2013-09-30T00:00:00\",\"2014-01-26T00:00:00\",\"2014-09-21T00:00:00\",\"2015-04-12T00:00:00\",\"2016-04-04T00:00:00\",\"2018-01-10T00:00:00\",\"2019-02-07T00:00:00\",\"2021-02-08T00:00:00\"],\"y\":[null,null,null,null,null,null,null,null,null,null,null,null,null,null,0.13],\"type\":\"scatter\"}],                        {\"font\":{\"color\":\"Black\",\"family\":\"Georgia\"},\"paper_bgcolor\":\"white\",\"plot_bgcolor\":\"white\",\"title\":{\"text\":\"Totaal gebruik verschillende sociale media door bevolking Verenigde Staten\"},\"xaxis\":{\"dtick\":\"M12\",\"gridcolor\":\"lightgray\",\"tickmode\":\"linear\",\"title\":{\"text\":\"Jaartallen\"}},\"yaxis\":{\"gridcolor\":\"lightgray\",\"range\":[0,1],\"tickformat\":\",.0%\",\"title\":{\"text\":\"Percentage gebruik sociale media\"}},\"template\":{\"data\":{\"histogram2dcontour\":[{\"type\":\"histogram2dcontour\",\"colorbar\":{\"outlinewidth\":0,\"ticks\":\"\"},\"colorscale\":[[0.0,\"#0d0887\"],[0.1111111111111111,\"#46039f\"],[0.2222222222222222,\"#7201a8\"],[0.3333333333333333,\"#9c179e\"],[0.4444444444444444,\"#bd3786\"],[0.5555555555555556,\"#d8576b\"],[0.6666666666666666,\"#ed7953\"],[0.7777777777777778,\"#fb9f3a\"],[0.8888888888888888,\"#fdca26\"],[1.0,\"#f0f921\"]]}],\"choropleth\":[{\"type\":\"choropleth\",\"colorbar\":{\"outlinewidth\":0,\"ticks\":\"\"}}],\"histogram2d\":[{\"type\":\"histogram2d\",\"colorbar\":{\"outlinewidth\":0,\"ticks\":\"\"},\"colorscale\":[[0.0,\"#0d0887\"],[0.1111111111111111,\"#46039f\"],[0.2222222222222222,\"#7201a8\"],[0.3333333333333333,\"#9c179e\"],[0.4444444444444444,\"#bd3786\"],[0.5555555555555556,\"#d8576b\"],[0.6666666666666666,\"#ed7953\"],[0.7777777777777778,\"#fb9f3a\"],[0.8888888888888888,\"#fdca26\"],[1.0,\"#f0f921\"]]}],\"heatmap\":[{\"type\":\"heatmap\",\"colorbar\":{\"outlinewidth\":0,\"ticks\":\"\"},\"colorscale\":[[0.0,\"#0d0887\"],[0.1111111111111111,\"#46039f\"],[0.2222222222222222,\"#7201a8\"],[0.3333333333333333,\"#9c179e\"],[0.4444444444444444,\"#bd3786\"],[0.5555555555555556,\"#d8576b\"],[0.6666666666666666,\"#ed7953\"],[0.7777777777777778,\"#fb9f3a\"],[0.8888888888888888,\"#fdca26\"],[1.0,\"#f0f921\"]]}],\"heatmapgl\":[{\"type\":\"heatmapgl\",\"colorbar\":{\"outlinewidth\":0,\"ticks\":\"\"},\"colorscale\":[[0.0,\"#0d0887\"],[0.1111111111111111,\"#46039f\"],[0.2222222222222222,\"#7201a8\"],[0.3333333333333333,\"#9c179e\"],[0.4444444444444444,\"#bd3786\"],[0.5555555555555556,\"#d8576b\"],[0.6666666666666666,\"#ed7953\"],[0.7777777777777778,\"#fb9f3a\"],[0.8888888888888888,\"#fdca26\"],[1.0,\"#f0f921\"]]}],\"contourcarpet\":[{\"type\":\"contourcarpet\",\"colorbar\":{\"outlinewidth\":0,\"ticks\":\"\"}}],\"contour\":[{\"type\":\"contour\",\"colorbar\":{\"outlinewidth\":0,\"ticks\":\"\"},\"colorscale\":[[0.0,\"#0d0887\"],[0.1111111111111111,\"#46039f\"],[0.2222222222222222,\"#7201a8\"],[0.3333333333333333,\"#9c179e\"],[0.4444444444444444,\"#bd3786\"],[0.5555555555555556,\"#d8576b\"],[0.6666666666666666,\"#ed7953\"],[0.7777777777777778,\"#fb9f3a\"],[0.8888888888888888,\"#fdca26\"],[1.0,\"#f0f921\"]]}],\"surface\":[{\"type\":\"surface\",\"colorbar\":{\"outlinewidth\":0,\"ticks\":\"\"},\"colorscale\":[[0.0,\"#0d0887\"],[0.1111111111111111,\"#46039f\"],[0.2222222222222222,\"#7201a8\"],[0.3333333333333333,\"#9c179e\"],[0.4444444444444444,\"#bd3786\"],[0.5555555555555556,\"#d8576b\"],[0.6666666666666666,\"#ed7953\"],[0.7777777777777778,\"#fb9f3a\"],[0.8888888888888888,\"#fdca26\"],[1.0,\"#f0f921\"]]}],\"mesh3d\":[{\"type\":\"mesh3d\",\"colorbar\":{\"outlinewidth\":0,\"ticks\":\"\"}}],\"scatter\":[{\"fillpattern\":{\"fillmode\":\"overlay\",\"size\":10,\"solidity\":0.2},\"type\":\"scatter\"}],\"parcoords\":[{\"type\":\"parcoords\",\"line\":{\"colorbar\":{\"outlinewidth\":0,\"ticks\":\"\"}}}],\"scatterpolargl\":[{\"type\":\"scatterpolargl\",\"marker\":{\"colorbar\":{\"outlinewidth\":0,\"ticks\":\"\"}}}],\"bar\":[{\"error_x\":{\"color\":\"#2a3f5f\"},\"error_y\":{\"color\":\"#2a3f5f\"},\"marker\":{\"line\":{\"color\":\"#E5ECF6\",\"width\":0.5},\"pattern\":{\"fillmode\":\"overlay\",\"size\":10,\"solidity\":0.2}},\"type\":\"bar\"}],\"scattergeo\":[{\"type\":\"scattergeo\",\"marker\":{\"colorbar\":{\"outlinewidth\":0,\"ticks\":\"\"}}}],\"scatterpolar\":[{\"type\":\"scatterpolar\",\"marker\":{\"colorbar\":{\"outlinewidth\":0,\"ticks\":\"\"}}}],\"histogram\":[{\"marker\":{\"pattern\":{\"fillmode\":\"overlay\",\"size\":10,\"solidity\":0.2}},\"type\":\"histogram\"}],\"scattergl\":[{\"type\":\"scattergl\",\"marker\":{\"colorbar\":{\"outlinewidth\":0,\"ticks\":\"\"}}}],\"scatter3d\":[{\"type\":\"scatter3d\",\"line\":{\"colorbar\":{\"outlinewidth\":0,\"ticks\":\"\"}},\"marker\":{\"colorbar\":{\"outlinewidth\":0,\"ticks\":\"\"}}}],\"scattermapbox\":[{\"type\":\"scattermapbox\",\"marker\":{\"colorbar\":{\"outlinewidth\":0,\"ticks\":\"\"}}}],\"scatterternary\":[{\"type\":\"scatterternary\",\"marker\":{\"colorbar\":{\"outlinewidth\":0,\"ticks\":\"\"}}}],\"scattercarpet\":[{\"type\":\"scattercarpet\",\"marker\":{\"colorbar\":{\"outlinewidth\":0,\"ticks\":\"\"}}}],\"carpet\":[{\"aaxis\":{\"endlinecolor\":\"#2a3f5f\",\"gridcolor\":\"white\",\"linecolor\":\"white\",\"minorgridcolor\":\"white\",\"startlinecolor\":\"#2a3f5f\"},\"baxis\":{\"endlinecolor\":\"#2a3f5f\",\"gridcolor\":\"white\",\"linecolor\":\"white\",\"minorgridcolor\":\"white\",\"startlinecolor\":\"#2a3f5f\"},\"type\":\"carpet\"}],\"table\":[{\"cells\":{\"fill\":{\"color\":\"#EBF0F8\"},\"line\":{\"color\":\"white\"}},\"header\":{\"fill\":{\"color\":\"#C8D4E3\"},\"line\":{\"color\":\"white\"}},\"type\":\"table\"}],\"barpolar\":[{\"marker\":{\"line\":{\"color\":\"#E5ECF6\",\"width\":0.5},\"pattern\":{\"fillmode\":\"overlay\",\"size\":10,\"solidity\":0.2}},\"type\":\"barpolar\"}],\"pie\":[{\"automargin\":true,\"type\":\"pie\"}]},\"layout\":{\"autotypenumbers\":\"strict\",\"colorway\":[\"#636efa\",\"#EF553B\",\"#00cc96\",\"#ab63fa\",\"#FFA15A\",\"#19d3f3\",\"#FF6692\",\"#B6E880\",\"#FF97FF\",\"#FECB52\"],\"font\":{\"color\":\"#2a3f5f\"},\"hovermode\":\"closest\",\"hoverlabel\":{\"align\":\"left\"},\"paper_bgcolor\":\"white\",\"plot_bgcolor\":\"#E5ECF6\",\"polar\":{\"bgcolor\":\"#E5ECF6\",\"angularaxis\":{\"gridcolor\":\"white\",\"linecolor\":\"white\",\"ticks\":\"\"},\"radialaxis\":{\"gridcolor\":\"white\",\"linecolor\":\"white\",\"ticks\":\"\"}},\"ternary\":{\"bgcolor\":\"#E5ECF6\",\"aaxis\":{\"gridcolor\":\"white\",\"linecolor\":\"white\",\"ticks\":\"\"},\"baxis\":{\"gridcolor\":\"white\",\"linecolor\":\"white\",\"ticks\":\"\"},\"caxis\":{\"gridcolor\":\"white\",\"linecolor\":\"white\",\"ticks\":\"\"}},\"coloraxis\":{\"colorbar\":{\"outlinewidth\":0,\"ticks\":\"\"}},\"colorscale\":{\"sequential\":[[0.0,\"#0d0887\"],[0.1111111111111111,\"#46039f\"],[0.2222222222222222,\"#7201a8\"],[0.3333333333333333,\"#9c179e\"],[0.4444444444444444,\"#bd3786\"],[0.5555555555555556,\"#d8576b\"],[0.6666666666666666,\"#ed7953\"],[0.7777777777777778,\"#fb9f3a\"],[0.8888888888888888,\"#fdca26\"],[1.0,\"#f0f921\"]],\"sequentialminus\":[[0.0,\"#0d0887\"],[0.1111111111111111,\"#46039f\"],[0.2222222222222222,\"#7201a8\"],[0.3333333333333333,\"#9c179e\"],[0.4444444444444444,\"#bd3786\"],[0.5555555555555556,\"#d8576b\"],[0.6666666666666666,\"#ed7953\"],[0.7777777777777778,\"#fb9f3a\"],[0.8888888888888888,\"#fdca26\"],[1.0,\"#f0f921\"]],\"diverging\":[[0,\"#8e0152\"],[0.1,\"#c51b7d\"],[0.2,\"#de77ae\"],[0.3,\"#f1b6da\"],[0.4,\"#fde0ef\"],[0.5,\"#f7f7f7\"],[0.6,\"#e6f5d0\"],[0.7,\"#b8e186\"],[0.8,\"#7fbc41\"],[0.9,\"#4d9221\"],[1,\"#276419\"]]},\"xaxis\":{\"gridcolor\":\"white\",\"linecolor\":\"white\",\"ticks\":\"\",\"title\":{\"standoff\":15},\"zerolinecolor\":\"white\",\"automargin\":true,\"zerolinewidth\":2},\"yaxis\":{\"gridcolor\":\"white\",\"linecolor\":\"white\",\"ticks\":\"\",\"title\":{\"standoff\":15},\"zerolinecolor\":\"white\",\"automargin\":true,\"zerolinewidth\":2},\"scene\":{\"xaxis\":{\"backgroundcolor\":\"#E5ECF6\",\"gridcolor\":\"white\",\"linecolor\":\"white\",\"showbackground\":true,\"ticks\":\"\",\"zerolinecolor\":\"white\",\"gridwidth\":2},\"yaxis\":{\"backgroundcolor\":\"#E5ECF6\",\"gridcolor\":\"white\",\"linecolor\":\"white\",\"showbackground\":true,\"ticks\":\"\",\"zerolinecolor\":\"white\",\"gridwidth\":2},\"zaxis\":{\"backgroundcolor\":\"#E5ECF6\",\"gridcolor\":\"white\",\"linecolor\":\"white\",\"showbackground\":true,\"ticks\":\"\",\"zerolinecolor\":\"white\",\"gridwidth\":2}},\"shapedefaults\":{\"line\":{\"color\":\"#2a3f5f\"}},\"annotationdefaults\":{\"arrowcolor\":\"#2a3f5f\",\"arrowhead\":0,\"arrowwidth\":1},\"geo\":{\"bgcolor\":\"white\",\"landcolor\":\"#E5ECF6\",\"subunitcolor\":\"white\",\"showland\":true,\"showlakes\":true,\"lakecolor\":\"white\"},\"title\":{\"x\":0.05},\"mapbox\":{\"style\":\"light\"}}},\"annotations\":[{\"showarrow\":false,\"text\":\"Op de x-axis is de tijd in jaren te zien. \\u003cbr\\u003e Op de y-axis is het percentage van het aantal sociale media gebruikers dat een bepaald platform gebruikt. Hieruit is af te lezen dat het gebruik in totaal stijgt.\",\"x\":0.5,\"xref\":\"paper\",\"y\":-0.22,\"yref\":\"paper\"}]},                        {\"responsive\": true}                    ).then(function(){\n",
       "                            \n",
       "var gd = document.getElementById('941eeffe-d7bd-477a-9014-f22f0c641c37');\n",
       "var x = new MutationObserver(function (mutations, observer) {{\n",
       "        var display = window.getComputedStyle(gd).display;\n",
       "        if (!display || display === 'none') {{\n",
       "            console.log([gd, 'removed!']);\n",
       "            Plotly.purge(gd);\n",
       "            observer.disconnect();\n",
       "        }}\n",
       "}});\n",
       "\n",
       "// Listen for the removal of the full notebook cells\n",
       "var notebookContainer = gd.closest('#notebook-container');\n",
       "if (notebookContainer) {{\n",
       "    x.observe(notebookContainer, {childList: true});\n",
       "}}\n",
       "\n",
       "// Listen for the clearing of the current output cell\n",
       "var outputEl = gd.closest('.output');\n",
       "if (outputEl) {{\n",
       "    x.observe(outputEl, {childList: true});\n",
       "}}\n",
       "\n",
       "                        })                };                });            </script>        </div>"
      ]
     },
     "metadata": {},
     "output_type": "display_data"
    }
   ],
   "source": [
    "trace1 = go.Scatter(x = df['Year'], \n",
    "                    y = df['Facebook'], \n",
    "                    mode = 'lines + markers', \n",
    "                    name = 'Facebook', \n",
    "                    marker = dict(color = 'blue'),\n",
    "                   connectgaps=True)\n",
    "trace2 = go.Scatter(x = df['Year'], \n",
    "                    y = df['Pinterest'], \n",
    "                    mode = 'lines + markers', \n",
    "                    name = 'Pinterest', \n",
    "                    marker = dict(color = '#FF6F6F'),\n",
    "                   connectgaps=True)\n",
    "trace3 = go.Scatter(x = df['Year'], \n",
    "                    y = df['Instagram'], \n",
    "                    mode = 'lines + markers', \n",
    "                    name = 'Instagram', \n",
    "                    marker = dict(color = 'pink'),\n",
    "                   connectgaps=True)\n",
    "trace4 = go.Scatter(x = df['Year'], \n",
    "                    y = df['LinkedIn'], \n",
    "                    mode = 'lines + markers', \n",
    "                    name = 'LinkedIn', \n",
    "                    marker = dict(color = 'darkblue'),\n",
    "                   connectgaps=True)\n",
    "trace5 = go.Scatter(x = df['Year'], \n",
    "                    y = df['Twitter'], \n",
    "                    mode = 'lines + markers', \n",
    "                    name = 'Twitter', \n",
    "                    marker = dict(color = 'lightblue'),\n",
    "                   connectgaps=True)\n",
    "trace6 = go.Scatter(x = df['Year'], \n",
    "                    y = df['Snapchat'], \n",
    "                    mode = 'lines + markers', \n",
    "                    name = 'Snapchat', \n",
    "                    marker = dict(color = 'yellow'),\n",
    "                   connectgaps=True)\n",
    "trace7 = go.Scatter(x = df['Year'], \n",
    "                    y = df['YouTube'], \n",
    "                    mode = 'lines + markers', \n",
    "                    name = 'YouTube', \n",
    "                    marker = dict(color = 'red'),\n",
    "                   connectgaps=True)\n",
    "trace8 = go.Scatter(x = df['Year'], \n",
    "                    y = df['WhatsApp'], \n",
    "                    mode = 'lines + markers', \n",
    "                    name = 'WhatsApp', \n",
    "                    marker = dict(color = 'green'),\n",
    "                   connectgaps=True)\n",
    "trace9 = go.Scatter(x = df['Year'], \n",
    "                    y = df['Reddit'], \n",
    "                    mode = 'lines + markers', \n",
    "                    name = 'Reddit', \n",
    "                    marker = dict(color = 'orange'),\n",
    "                   connectgaps=True)\n",
    "trace10 = go.Scatter(x = df['Year'], \n",
    "                    y = df['TikTok'], \n",
    "                    mode = 'lines + markers', \n",
    "                    name = 'TikTok', \n",
    "                    marker = dict(color = 'black'),\n",
    "                    connectgaps=True)\n",
    "trace11 = go.Scatter(x = df['Year'], \n",
    "                    y = df['Nextdoor'], \n",
    "                    mode = 'lines + markers', \n",
    "                    name = 'Nextdoor', \n",
    "                    marker = dict(color = 'lightgreen'),\n",
    "                    connectgaps=True)\n",
    "\n",
    "new_Layout = go.Layout(title = 'Totaal gebruik verschillende sociale media door bevolking Verenigde Staten',\n",
    "                      xaxis = dict(title = 'Jaartallen', tickmode='linear', dtick = 'M12', gridcolor = 'lightgray'),\n",
    "                      yaxis = dict(title = 'Percentage gebruik sociale media', tickformat = ',.0%', range = [0, 1], gridcolor = 'lightgray'),\n",
    "                      font = dict(family = 'Georgia', color = 'Black'),\n",
    "                      plot_bgcolor = 'white',\n",
    "                      paper_bgcolor = 'white')\n",
    "new_fig = go.Figure(data = [trace1, trace2, trace3, trace4, trace5, trace6, trace7, trace8, trace9, trace10, trace11], \n",
    "                    layout = new_Layout)\n",
    "    \n",
    "new_fig.add_annotation(\n",
    "    xref=\"paper\", yref=\"paper\",\n",
    "    x=0.5, y=-0.22,\n",
    "    text=\"Op de x-axis is de tijd in jaren te zien. <br> Op de y-axis is het percentage van het aantal sociale media gebruikers dat een bepaald platform gebruikt. Hieruit is af te lezen dat het gebruik in totaal stijgt.\",\n",
    "    showarrow=False,\n",
    ")\n",
    "    \n",
    "new_fig.show()"
   ]
  },
  {
   "cell_type": "markdown",
   "id": "365ff4a6",
   "metadata": {},
   "source": [
    "**Uitleg:** Deze dataset (https://www.pewresearch.org/internet/fact-sheet/social-media/?tabId=tab-81867c91-92ad-45b8-a964-a2a894f873ef) van Pewresearch geeft weer hoeveel procent van de bevolking van de Verenigde Staten sociale media gebruikt. Dit geven ze aan in verschillende leeftijdsgroepen, namelijk: 18-29, 30-49, 50-64, 65+. De data is om een bepaald aantal maanden/jaren opgenomen en dit wordt in de variabele 'Year' laten zien. De leeftijdsgroepen zijn de andere variabelen en deze laten zien hoeveel van een bepaalde leeftijdsgroep sociale media gebruikt. Dit wordt aangegeven in percentages. De datasets zijn te downloaden op de site die bij dit stuk is vermeld.\n",
    "<br>\n",
    "<br>\n",
    "**Preprocessing:** Voor deze dataset hoefde alleen de percentage tekens achter de getallen weggehaald worden en dan de percentages equivalent zetten aan hun numerieke waarden. Daarna kon de dataset worden gebruikt."
   ]
  },
  {
   "cell_type": "code",
   "execution_count": 6,
   "id": "697d85e1",
   "metadata": {
    "hideCode": false,
    "tags": [
     "\"hide_input\""
    ]
   },
   "outputs": [
    {
     "data": {
      "text/html": [
       "<div>\n",
       "<style scoped>\n",
       "    .dataframe tbody tr th:only-of-type {\n",
       "        vertical-align: middle;\n",
       "    }\n",
       "\n",
       "    .dataframe tbody tr th {\n",
       "        vertical-align: top;\n",
       "    }\n",
       "\n",
       "    .dataframe thead th {\n",
       "        text-align: right;\n",
       "    }\n",
       "</style>\n",
       "<table border=\"1\" class=\"dataframe\">\n",
       "  <thead>\n",
       "    <tr style=\"text-align: right;\">\n",
       "      <th></th>\n",
       "      <th>Year</th>\n",
       "      <th>18-29</th>\n",
       "      <th>30-49</th>\n",
       "      <th>50-64</th>\n",
       "      <th>65+</th>\n",
       "    </tr>\n",
       "  </thead>\n",
       "  <tbody>\n",
       "    <tr>\n",
       "      <th>0</th>\n",
       "      <td>2005-03-21</td>\n",
       "      <td>0.07</td>\n",
       "      <td>0.06</td>\n",
       "      <td>0.04</td>\n",
       "      <td>0.03</td>\n",
       "    </tr>\n",
       "    <tr>\n",
       "      <th>1</th>\n",
       "      <td>2005-12-08</td>\n",
       "      <td>0.16</td>\n",
       "      <td>0.09</td>\n",
       "      <td>0.05</td>\n",
       "      <td>0.02</td>\n",
       "    </tr>\n",
       "    <tr>\n",
       "      <th>2</th>\n",
       "      <td>2006-08-31</td>\n",
       "      <td>0.41</td>\n",
       "      <td>0.06</td>\n",
       "      <td>0.03</td>\n",
       "      <td>0.00</td>\n",
       "    </tr>\n",
       "    <tr>\n",
       "      <th>3</th>\n",
       "      <td>2008-05-11</td>\n",
       "      <td>0.60</td>\n",
       "      <td>0.21</td>\n",
       "      <td>0.07</td>\n",
       "      <td>0.02</td>\n",
       "    </tr>\n",
       "    <tr>\n",
       "      <th>4</th>\n",
       "      <td>2008-08-10</td>\n",
       "      <td>0.65</td>\n",
       "      <td>0.27</td>\n",
       "      <td>0.10</td>\n",
       "      <td>0.03</td>\n",
       "    </tr>\n",
       "    <tr>\n",
       "      <th>5</th>\n",
       "      <td>2008-08-31</td>\n",
       "      <td>0.68</td>\n",
       "      <td>0.27</td>\n",
       "      <td>0.09</td>\n",
       "      <td>0.02</td>\n",
       "    </tr>\n",
       "    <tr>\n",
       "      <th>6</th>\n",
       "      <td>2008-12-04</td>\n",
       "      <td>0.67</td>\n",
       "      <td>0.30</td>\n",
       "      <td>0.12</td>\n",
       "      <td>0.02</td>\n",
       "    </tr>\n",
       "    <tr>\n",
       "      <th>7</th>\n",
       "      <td>2008-12-20</td>\n",
       "      <td>0.59</td>\n",
       "      <td>0.28</td>\n",
       "      <td>0.08</td>\n",
       "      <td>0.03</td>\n",
       "    </tr>\n",
       "    <tr>\n",
       "      <th>8</th>\n",
       "      <td>2009-04-19</td>\n",
       "      <td>0.70</td>\n",
       "      <td>0.42</td>\n",
       "      <td>0.20</td>\n",
       "      <td>0.05</td>\n",
       "    </tr>\n",
       "    <tr>\n",
       "      <th>9</th>\n",
       "      <td>2009-09-14</td>\n",
       "      <td>0.67</td>\n",
       "      <td>0.44</td>\n",
       "      <td>0.21</td>\n",
       "      <td>0.06</td>\n",
       "    </tr>\n",
       "    <tr>\n",
       "      <th>10</th>\n",
       "      <td>2009-12-27</td>\n",
       "      <td>0.78</td>\n",
       "      <td>0.47</td>\n",
       "      <td>0.25</td>\n",
       "      <td>0.08</td>\n",
       "    </tr>\n",
       "    <tr>\n",
       "      <th>11</th>\n",
       "      <td>2010-01-19</td>\n",
       "      <td>0.76</td>\n",
       "      <td>0.51</td>\n",
       "      <td>0.26</td>\n",
       "      <td>0.07</td>\n",
       "    </tr>\n",
       "    <tr>\n",
       "      <th>12</th>\n",
       "      <td>2010-05-30</td>\n",
       "      <td>0.82</td>\n",
       "      <td>0.53</td>\n",
       "      <td>0.37</td>\n",
       "      <td>0.11</td>\n",
       "    </tr>\n",
       "    <tr>\n",
       "      <th>13</th>\n",
       "      <td>2010-09-13</td>\n",
       "      <td>0.80</td>\n",
       "      <td>0.52</td>\n",
       "      <td>0.31</td>\n",
       "      <td>0.09</td>\n",
       "    </tr>\n",
       "    <tr>\n",
       "      <th>14</th>\n",
       "      <td>2010-11-24</td>\n",
       "      <td>0.74</td>\n",
       "      <td>0.54</td>\n",
       "      <td>0.33</td>\n",
       "      <td>0.11</td>\n",
       "    </tr>\n",
       "    <tr>\n",
       "      <th>15</th>\n",
       "      <td>2010-11-28</td>\n",
       "      <td>0.78</td>\n",
       "      <td>0.54</td>\n",
       "      <td>0.33</td>\n",
       "      <td>0.14</td>\n",
       "    </tr>\n",
       "    <tr>\n",
       "      <th>16</th>\n",
       "      <td>2010-12-21</td>\n",
       "      <td>0.76</td>\n",
       "      <td>0.55</td>\n",
       "      <td>0.36</td>\n",
       "      <td>0.12</td>\n",
       "    </tr>\n",
       "    <tr>\n",
       "      <th>17</th>\n",
       "      <td>2011-05-22</td>\n",
       "      <td>0.79</td>\n",
       "      <td>0.61</td>\n",
       "      <td>0.38</td>\n",
       "      <td>0.14</td>\n",
       "    </tr>\n",
       "    <tr>\n",
       "      <th>18</th>\n",
       "      <td>2011-08-26</td>\n",
       "      <td>0.82</td>\n",
       "      <td>0.59</td>\n",
       "      <td>0.36</td>\n",
       "      <td>0.12</td>\n",
       "    </tr>\n",
       "    <tr>\n",
       "      <th>19</th>\n",
       "      <td>2012-02-19</td>\n",
       "      <td>0.81</td>\n",
       "      <td>0.64</td>\n",
       "      <td>0.39</td>\n",
       "      <td>0.16</td>\n",
       "    </tr>\n",
       "    <tr>\n",
       "      <th>20</th>\n",
       "      <td>2012-08-07</td>\n",
       "      <td>0.88</td>\n",
       "      <td>0.68</td>\n",
       "      <td>0.48</td>\n",
       "      <td>0.22</td>\n",
       "    </tr>\n",
       "    <tr>\n",
       "      <th>21</th>\n",
       "      <td>2013-05-19</td>\n",
       "      <td>0.87</td>\n",
       "      <td>0.72</td>\n",
       "      <td>0.50</td>\n",
       "      <td>0.24</td>\n",
       "    </tr>\n",
       "    <tr>\n",
       "      <th>22</th>\n",
       "      <td>2013-07-14</td>\n",
       "      <td>0.87</td>\n",
       "      <td>0.72</td>\n",
       "      <td>0.49</td>\n",
       "      <td>0.21</td>\n",
       "    </tr>\n",
       "    <tr>\n",
       "      <th>23</th>\n",
       "      <td>2013-09-30</td>\n",
       "      <td>0.89</td>\n",
       "      <td>0.74</td>\n",
       "      <td>0.54</td>\n",
       "      <td>0.27</td>\n",
       "    </tr>\n",
       "    <tr>\n",
       "      <th>24</th>\n",
       "      <td>2014-01-26</td>\n",
       "      <td>0.84</td>\n",
       "      <td>0.77</td>\n",
       "      <td>0.52</td>\n",
       "      <td>0.27</td>\n",
       "    </tr>\n",
       "    <tr>\n",
       "      <th>25</th>\n",
       "      <td>2015-07-12</td>\n",
       "      <td>0.90</td>\n",
       "      <td>0.77</td>\n",
       "      <td>0.51</td>\n",
       "      <td>0.35</td>\n",
       "    </tr>\n",
       "    <tr>\n",
       "      <th>26</th>\n",
       "      <td>2016-11-06</td>\n",
       "      <td>0.86</td>\n",
       "      <td>0.80</td>\n",
       "      <td>0.64</td>\n",
       "      <td>0.34</td>\n",
       "    </tr>\n",
       "    <tr>\n",
       "      <th>27</th>\n",
       "      <td>2018-01-10</td>\n",
       "      <td>0.88</td>\n",
       "      <td>0.78</td>\n",
       "      <td>0.64</td>\n",
       "      <td>0.37</td>\n",
       "    </tr>\n",
       "    <tr>\n",
       "      <th>28</th>\n",
       "      <td>2019-02-07</td>\n",
       "      <td>0.90</td>\n",
       "      <td>0.82</td>\n",
       "      <td>0.69</td>\n",
       "      <td>0.40</td>\n",
       "    </tr>\n",
       "    <tr>\n",
       "      <th>29</th>\n",
       "      <td>2021-02-08</td>\n",
       "      <td>0.84</td>\n",
       "      <td>0.81</td>\n",
       "      <td>0.73</td>\n",
       "      <td>0.45</td>\n",
       "    </tr>\n",
       "  </tbody>\n",
       "</table>\n",
       "</div>"
      ],
      "text/plain": [
       "         Year  18-29  30-49  50-64   65+\n",
       "0  2005-03-21   0.07   0.06   0.04  0.03\n",
       "1  2005-12-08   0.16   0.09   0.05  0.02\n",
       "2  2006-08-31   0.41   0.06   0.03  0.00\n",
       "3  2008-05-11   0.60   0.21   0.07  0.02\n",
       "4  2008-08-10   0.65   0.27   0.10  0.03\n",
       "5  2008-08-31   0.68   0.27   0.09  0.02\n",
       "6  2008-12-04   0.67   0.30   0.12  0.02\n",
       "7  2008-12-20   0.59   0.28   0.08  0.03\n",
       "8  2009-04-19   0.70   0.42   0.20  0.05\n",
       "9  2009-09-14   0.67   0.44   0.21  0.06\n",
       "10 2009-12-27   0.78   0.47   0.25  0.08\n",
       "11 2010-01-19   0.76   0.51   0.26  0.07\n",
       "12 2010-05-30   0.82   0.53   0.37  0.11\n",
       "13 2010-09-13   0.80   0.52   0.31  0.09\n",
       "14 2010-11-24   0.74   0.54   0.33  0.11\n",
       "15 2010-11-28   0.78   0.54   0.33  0.14\n",
       "16 2010-12-21   0.76   0.55   0.36  0.12\n",
       "17 2011-05-22   0.79   0.61   0.38  0.14\n",
       "18 2011-08-26   0.82   0.59   0.36  0.12\n",
       "19 2012-02-19   0.81   0.64   0.39  0.16\n",
       "20 2012-08-07   0.88   0.68   0.48  0.22\n",
       "21 2013-05-19   0.87   0.72   0.50  0.24\n",
       "22 2013-07-14   0.87   0.72   0.49  0.21\n",
       "23 2013-09-30   0.89   0.74   0.54  0.27\n",
       "24 2014-01-26   0.84   0.77   0.52  0.27\n",
       "25 2015-07-12   0.90   0.77   0.51  0.35\n",
       "26 2016-11-06   0.86   0.80   0.64  0.34\n",
       "27 2018-01-10   0.88   0.78   0.64  0.37\n",
       "28 2019-02-07   0.90   0.82   0.69  0.40\n",
       "29 2021-02-08   0.84   0.81   0.73  0.45"
      ]
     },
     "execution_count": 6,
     "metadata": {},
     "output_type": "execute_result"
    }
   ],
   "source": [
    "dc = pd.read_csv('social-Copy1.csv')\n",
    "dc['Year'] = pd.to_datetime(dc['Year'])\n",
    "dc"
   ]
  },
  {
   "cell_type": "code",
   "execution_count": 37,
   "id": "9bcee2d5",
   "metadata": {
    "hideCode": false,
    "tags": [
     "\"hide_input\""
    ]
   },
   "outputs": [
    {
     "data": {
      "application/vnd.plotly.v1+json": {
       "config": {
        "plotlyServerURL": "https://plot.ly"
       },
       "data": [
        {
         "marker": {
          "color": "darkblue"
         },
         "mode": "lines+markers",
         "name": "18-29",
         "type": "scatter",
         "x": [
          "2005-03-21T00:00:00",
          "2005-12-08T00:00:00",
          "2006-08-31T00:00:00",
          "2008-05-11T00:00:00",
          "2008-08-10T00:00:00",
          "2008-08-31T00:00:00",
          "2008-12-04T00:00:00",
          "2008-12-20T00:00:00",
          "2009-04-19T00:00:00",
          "2009-09-14T00:00:00",
          "2009-12-27T00:00:00",
          "2010-01-19T00:00:00",
          "2010-05-30T00:00:00",
          "2010-09-13T00:00:00",
          "2010-11-24T00:00:00",
          "2010-11-28T00:00:00",
          "2010-12-21T00:00:00",
          "2011-05-22T00:00:00",
          "2011-08-26T00:00:00",
          "2012-02-19T00:00:00",
          "2012-08-07T00:00:00",
          "2013-05-19T00:00:00",
          "2013-07-14T00:00:00",
          "2013-09-30T00:00:00",
          "2014-01-26T00:00:00",
          "2015-07-12T00:00:00",
          "2016-11-06T00:00:00",
          "2018-01-10T00:00:00",
          "2019-02-07T00:00:00",
          "2021-02-08T00:00:00"
         ],
         "y": [
          0.07,
          0.16,
          0.41,
          0.6,
          0.65,
          0.68,
          0.67,
          0.59,
          0.7,
          0.67,
          0.78,
          0.76,
          0.82,
          0.8,
          0.74,
          0.78,
          0.76,
          0.79,
          0.82,
          0.81,
          0.88,
          0.87,
          0.87,
          0.89,
          0.84,
          0.9,
          0.86,
          0.88,
          0.9,
          0.84
         ]
        },
        {
         "marker": {
          "color": "mediumblue"
         },
         "mode": "lines+markers",
         "name": "30-49",
         "type": "scatter",
         "x": [
          "2005-03-21T00:00:00",
          "2005-12-08T00:00:00",
          "2006-08-31T00:00:00",
          "2008-05-11T00:00:00",
          "2008-08-10T00:00:00",
          "2008-08-31T00:00:00",
          "2008-12-04T00:00:00",
          "2008-12-20T00:00:00",
          "2009-04-19T00:00:00",
          "2009-09-14T00:00:00",
          "2009-12-27T00:00:00",
          "2010-01-19T00:00:00",
          "2010-05-30T00:00:00",
          "2010-09-13T00:00:00",
          "2010-11-24T00:00:00",
          "2010-11-28T00:00:00",
          "2010-12-21T00:00:00",
          "2011-05-22T00:00:00",
          "2011-08-26T00:00:00",
          "2012-02-19T00:00:00",
          "2012-08-07T00:00:00",
          "2013-05-19T00:00:00",
          "2013-07-14T00:00:00",
          "2013-09-30T00:00:00",
          "2014-01-26T00:00:00",
          "2015-07-12T00:00:00",
          "2016-11-06T00:00:00",
          "2018-01-10T00:00:00",
          "2019-02-07T00:00:00",
          "2021-02-08T00:00:00"
         ],
         "y": [
          0.06,
          0.09,
          0.06,
          0.21,
          0.27,
          0.27,
          0.3,
          0.28,
          0.42,
          0.44,
          0.47,
          0.51,
          0.53,
          0.52,
          0.54,
          0.54,
          0.55,
          0.61,
          0.59,
          0.64,
          0.68,
          0.72,
          0.72,
          0.74,
          0.77,
          0.77,
          0.8,
          0.78,
          0.82,
          0.81
         ]
        },
        {
         "marker": {
          "color": "blue"
         },
         "mode": "lines+markers",
         "name": "50-64",
         "type": "scatter",
         "x": [
          "2005-03-21T00:00:00",
          "2005-12-08T00:00:00",
          "2006-08-31T00:00:00",
          "2008-05-11T00:00:00",
          "2008-08-10T00:00:00",
          "2008-08-31T00:00:00",
          "2008-12-04T00:00:00",
          "2008-12-20T00:00:00",
          "2009-04-19T00:00:00",
          "2009-09-14T00:00:00",
          "2009-12-27T00:00:00",
          "2010-01-19T00:00:00",
          "2010-05-30T00:00:00",
          "2010-09-13T00:00:00",
          "2010-11-24T00:00:00",
          "2010-11-28T00:00:00",
          "2010-12-21T00:00:00",
          "2011-05-22T00:00:00",
          "2011-08-26T00:00:00",
          "2012-02-19T00:00:00",
          "2012-08-07T00:00:00",
          "2013-05-19T00:00:00",
          "2013-07-14T00:00:00",
          "2013-09-30T00:00:00",
          "2014-01-26T00:00:00",
          "2015-07-12T00:00:00",
          "2016-11-06T00:00:00",
          "2018-01-10T00:00:00",
          "2019-02-07T00:00:00",
          "2021-02-08T00:00:00"
         ],
         "y": [
          0.04,
          0.05,
          0.03,
          0.07,
          0.1,
          0.09,
          0.12,
          0.08,
          0.2,
          0.21,
          0.25,
          0.26,
          0.37,
          0.31,
          0.33,
          0.33,
          0.36,
          0.38,
          0.36,
          0.39,
          0.48,
          0.5,
          0.49,
          0.54,
          0.52,
          0.51,
          0.64,
          0.64,
          0.69,
          0.73
         ]
        },
        {
         "marker": {
          "color": "steelblue"
         },
         "mode": "lines+markers",
         "name": "65+",
         "type": "scatter",
         "x": [
          "2005-03-21T00:00:00",
          "2005-12-08T00:00:00",
          "2006-08-31T00:00:00",
          "2008-05-11T00:00:00",
          "2008-08-10T00:00:00",
          "2008-08-31T00:00:00",
          "2008-12-04T00:00:00",
          "2008-12-20T00:00:00",
          "2009-04-19T00:00:00",
          "2009-09-14T00:00:00",
          "2009-12-27T00:00:00",
          "2010-01-19T00:00:00",
          "2010-05-30T00:00:00",
          "2010-09-13T00:00:00",
          "2010-11-24T00:00:00",
          "2010-11-28T00:00:00",
          "2010-12-21T00:00:00",
          "2011-05-22T00:00:00",
          "2011-08-26T00:00:00",
          "2012-02-19T00:00:00",
          "2012-08-07T00:00:00",
          "2013-05-19T00:00:00",
          "2013-07-14T00:00:00",
          "2013-09-30T00:00:00",
          "2014-01-26T00:00:00",
          "2015-07-12T00:00:00",
          "2016-11-06T00:00:00",
          "2018-01-10T00:00:00",
          "2019-02-07T00:00:00",
          "2021-02-08T00:00:00"
         ],
         "y": [
          0.03,
          0.02,
          0,
          0.02,
          0.03,
          0.02,
          0.02,
          0.03,
          0.05,
          0.06,
          0.08,
          0.07,
          0.11,
          0.09,
          0.11,
          0.14,
          0.12,
          0.14,
          0.12,
          0.16,
          0.22,
          0.24,
          0.21,
          0.27,
          0.27,
          0.35,
          0.34,
          0.37,
          0.4,
          0.45
         ]
        }
       ],
       "layout": {
        "annotations": [
         {
          "showarrow": false,
          "text": "Op de x-axis is de tijd te zien in jaren. Op de y-axis is het percentage mensen te zien dat sociale media gebruikt. <br> Hieruit is af te lezen dat er een flinke stijging is geweest en nog steeds gaande is.",
          "x": 0.5,
          "xref": "paper",
          "y": -0.22,
          "yref": "paper"
         }
        ],
        "font": {
         "color": "Black",
         "family": "Georgia"
        },
        "paper_bgcolor": "white",
        "plot_bgcolor": "white",
        "template": {
         "data": {
          "bar": [
           {
            "error_x": {
             "color": "#2a3f5f"
            },
            "error_y": {
             "color": "#2a3f5f"
            },
            "marker": {
             "line": {
              "color": "#E5ECF6",
              "width": 0.5
             },
             "pattern": {
              "fillmode": "overlay",
              "size": 10,
              "solidity": 0.2
             }
            },
            "type": "bar"
           }
          ],
          "barpolar": [
           {
            "marker": {
             "line": {
              "color": "#E5ECF6",
              "width": 0.5
             },
             "pattern": {
              "fillmode": "overlay",
              "size": 10,
              "solidity": 0.2
             }
            },
            "type": "barpolar"
           }
          ],
          "carpet": [
           {
            "aaxis": {
             "endlinecolor": "#2a3f5f",
             "gridcolor": "white",
             "linecolor": "white",
             "minorgridcolor": "white",
             "startlinecolor": "#2a3f5f"
            },
            "baxis": {
             "endlinecolor": "#2a3f5f",
             "gridcolor": "white",
             "linecolor": "white",
             "minorgridcolor": "white",
             "startlinecolor": "#2a3f5f"
            },
            "type": "carpet"
           }
          ],
          "choropleth": [
           {
            "colorbar": {
             "outlinewidth": 0,
             "ticks": ""
            },
            "type": "choropleth"
           }
          ],
          "contour": [
           {
            "colorbar": {
             "outlinewidth": 0,
             "ticks": ""
            },
            "colorscale": [
             [
              0,
              "#0d0887"
             ],
             [
              0.1111111111111111,
              "#46039f"
             ],
             [
              0.2222222222222222,
              "#7201a8"
             ],
             [
              0.3333333333333333,
              "#9c179e"
             ],
             [
              0.4444444444444444,
              "#bd3786"
             ],
             [
              0.5555555555555556,
              "#d8576b"
             ],
             [
              0.6666666666666666,
              "#ed7953"
             ],
             [
              0.7777777777777778,
              "#fb9f3a"
             ],
             [
              0.8888888888888888,
              "#fdca26"
             ],
             [
              1,
              "#f0f921"
             ]
            ],
            "type": "contour"
           }
          ],
          "contourcarpet": [
           {
            "colorbar": {
             "outlinewidth": 0,
             "ticks": ""
            },
            "type": "contourcarpet"
           }
          ],
          "heatmap": [
           {
            "colorbar": {
             "outlinewidth": 0,
             "ticks": ""
            },
            "colorscale": [
             [
              0,
              "#0d0887"
             ],
             [
              0.1111111111111111,
              "#46039f"
             ],
             [
              0.2222222222222222,
              "#7201a8"
             ],
             [
              0.3333333333333333,
              "#9c179e"
             ],
             [
              0.4444444444444444,
              "#bd3786"
             ],
             [
              0.5555555555555556,
              "#d8576b"
             ],
             [
              0.6666666666666666,
              "#ed7953"
             ],
             [
              0.7777777777777778,
              "#fb9f3a"
             ],
             [
              0.8888888888888888,
              "#fdca26"
             ],
             [
              1,
              "#f0f921"
             ]
            ],
            "type": "heatmap"
           }
          ],
          "heatmapgl": [
           {
            "colorbar": {
             "outlinewidth": 0,
             "ticks": ""
            },
            "colorscale": [
             [
              0,
              "#0d0887"
             ],
             [
              0.1111111111111111,
              "#46039f"
             ],
             [
              0.2222222222222222,
              "#7201a8"
             ],
             [
              0.3333333333333333,
              "#9c179e"
             ],
             [
              0.4444444444444444,
              "#bd3786"
             ],
             [
              0.5555555555555556,
              "#d8576b"
             ],
             [
              0.6666666666666666,
              "#ed7953"
             ],
             [
              0.7777777777777778,
              "#fb9f3a"
             ],
             [
              0.8888888888888888,
              "#fdca26"
             ],
             [
              1,
              "#f0f921"
             ]
            ],
            "type": "heatmapgl"
           }
          ],
          "histogram": [
           {
            "marker": {
             "pattern": {
              "fillmode": "overlay",
              "size": 10,
              "solidity": 0.2
             }
            },
            "type": "histogram"
           }
          ],
          "histogram2d": [
           {
            "colorbar": {
             "outlinewidth": 0,
             "ticks": ""
            },
            "colorscale": [
             [
              0,
              "#0d0887"
             ],
             [
              0.1111111111111111,
              "#46039f"
             ],
             [
              0.2222222222222222,
              "#7201a8"
             ],
             [
              0.3333333333333333,
              "#9c179e"
             ],
             [
              0.4444444444444444,
              "#bd3786"
             ],
             [
              0.5555555555555556,
              "#d8576b"
             ],
             [
              0.6666666666666666,
              "#ed7953"
             ],
             [
              0.7777777777777778,
              "#fb9f3a"
             ],
             [
              0.8888888888888888,
              "#fdca26"
             ],
             [
              1,
              "#f0f921"
             ]
            ],
            "type": "histogram2d"
           }
          ],
          "histogram2dcontour": [
           {
            "colorbar": {
             "outlinewidth": 0,
             "ticks": ""
            },
            "colorscale": [
             [
              0,
              "#0d0887"
             ],
             [
              0.1111111111111111,
              "#46039f"
             ],
             [
              0.2222222222222222,
              "#7201a8"
             ],
             [
              0.3333333333333333,
              "#9c179e"
             ],
             [
              0.4444444444444444,
              "#bd3786"
             ],
             [
              0.5555555555555556,
              "#d8576b"
             ],
             [
              0.6666666666666666,
              "#ed7953"
             ],
             [
              0.7777777777777778,
              "#fb9f3a"
             ],
             [
              0.8888888888888888,
              "#fdca26"
             ],
             [
              1,
              "#f0f921"
             ]
            ],
            "type": "histogram2dcontour"
           }
          ],
          "mesh3d": [
           {
            "colorbar": {
             "outlinewidth": 0,
             "ticks": ""
            },
            "type": "mesh3d"
           }
          ],
          "parcoords": [
           {
            "line": {
             "colorbar": {
              "outlinewidth": 0,
              "ticks": ""
             }
            },
            "type": "parcoords"
           }
          ],
          "pie": [
           {
            "automargin": true,
            "type": "pie"
           }
          ],
          "scatter": [
           {
            "fillpattern": {
             "fillmode": "overlay",
             "size": 10,
             "solidity": 0.2
            },
            "type": "scatter"
           }
          ],
          "scatter3d": [
           {
            "line": {
             "colorbar": {
              "outlinewidth": 0,
              "ticks": ""
             }
            },
            "marker": {
             "colorbar": {
              "outlinewidth": 0,
              "ticks": ""
             }
            },
            "type": "scatter3d"
           }
          ],
          "scattercarpet": [
           {
            "marker": {
             "colorbar": {
              "outlinewidth": 0,
              "ticks": ""
             }
            },
            "type": "scattercarpet"
           }
          ],
          "scattergeo": [
           {
            "marker": {
             "colorbar": {
              "outlinewidth": 0,
              "ticks": ""
             }
            },
            "type": "scattergeo"
           }
          ],
          "scattergl": [
           {
            "marker": {
             "colorbar": {
              "outlinewidth": 0,
              "ticks": ""
             }
            },
            "type": "scattergl"
           }
          ],
          "scattermapbox": [
           {
            "marker": {
             "colorbar": {
              "outlinewidth": 0,
              "ticks": ""
             }
            },
            "type": "scattermapbox"
           }
          ],
          "scatterpolar": [
           {
            "marker": {
             "colorbar": {
              "outlinewidth": 0,
              "ticks": ""
             }
            },
            "type": "scatterpolar"
           }
          ],
          "scatterpolargl": [
           {
            "marker": {
             "colorbar": {
              "outlinewidth": 0,
              "ticks": ""
             }
            },
            "type": "scatterpolargl"
           }
          ],
          "scatterternary": [
           {
            "marker": {
             "colorbar": {
              "outlinewidth": 0,
              "ticks": ""
             }
            },
            "type": "scatterternary"
           }
          ],
          "surface": [
           {
            "colorbar": {
             "outlinewidth": 0,
             "ticks": ""
            },
            "colorscale": [
             [
              0,
              "#0d0887"
             ],
             [
              0.1111111111111111,
              "#46039f"
             ],
             [
              0.2222222222222222,
              "#7201a8"
             ],
             [
              0.3333333333333333,
              "#9c179e"
             ],
             [
              0.4444444444444444,
              "#bd3786"
             ],
             [
              0.5555555555555556,
              "#d8576b"
             ],
             [
              0.6666666666666666,
              "#ed7953"
             ],
             [
              0.7777777777777778,
              "#fb9f3a"
             ],
             [
              0.8888888888888888,
              "#fdca26"
             ],
             [
              1,
              "#f0f921"
             ]
            ],
            "type": "surface"
           }
          ],
          "table": [
           {
            "cells": {
             "fill": {
              "color": "#EBF0F8"
             },
             "line": {
              "color": "white"
             }
            },
            "header": {
             "fill": {
              "color": "#C8D4E3"
             },
             "line": {
              "color": "white"
             }
            },
            "type": "table"
           }
          ]
         },
         "layout": {
          "annotationdefaults": {
           "arrowcolor": "#2a3f5f",
           "arrowhead": 0,
           "arrowwidth": 1
          },
          "autotypenumbers": "strict",
          "coloraxis": {
           "colorbar": {
            "outlinewidth": 0,
            "ticks": ""
           }
          },
          "colorscale": {
           "diverging": [
            [
             0,
             "#8e0152"
            ],
            [
             0.1,
             "#c51b7d"
            ],
            [
             0.2,
             "#de77ae"
            ],
            [
             0.3,
             "#f1b6da"
            ],
            [
             0.4,
             "#fde0ef"
            ],
            [
             0.5,
             "#f7f7f7"
            ],
            [
             0.6,
             "#e6f5d0"
            ],
            [
             0.7,
             "#b8e186"
            ],
            [
             0.8,
             "#7fbc41"
            ],
            [
             0.9,
             "#4d9221"
            ],
            [
             1,
             "#276419"
            ]
           ],
           "sequential": [
            [
             0,
             "#0d0887"
            ],
            [
             0.1111111111111111,
             "#46039f"
            ],
            [
             0.2222222222222222,
             "#7201a8"
            ],
            [
             0.3333333333333333,
             "#9c179e"
            ],
            [
             0.4444444444444444,
             "#bd3786"
            ],
            [
             0.5555555555555556,
             "#d8576b"
            ],
            [
             0.6666666666666666,
             "#ed7953"
            ],
            [
             0.7777777777777778,
             "#fb9f3a"
            ],
            [
             0.8888888888888888,
             "#fdca26"
            ],
            [
             1,
             "#f0f921"
            ]
           ],
           "sequentialminus": [
            [
             0,
             "#0d0887"
            ],
            [
             0.1111111111111111,
             "#46039f"
            ],
            [
             0.2222222222222222,
             "#7201a8"
            ],
            [
             0.3333333333333333,
             "#9c179e"
            ],
            [
             0.4444444444444444,
             "#bd3786"
            ],
            [
             0.5555555555555556,
             "#d8576b"
            ],
            [
             0.6666666666666666,
             "#ed7953"
            ],
            [
             0.7777777777777778,
             "#fb9f3a"
            ],
            [
             0.8888888888888888,
             "#fdca26"
            ],
            [
             1,
             "#f0f921"
            ]
           ]
          },
          "colorway": [
           "#636efa",
           "#EF553B",
           "#00cc96",
           "#ab63fa",
           "#FFA15A",
           "#19d3f3",
           "#FF6692",
           "#B6E880",
           "#FF97FF",
           "#FECB52"
          ],
          "font": {
           "color": "#2a3f5f"
          },
          "geo": {
           "bgcolor": "white",
           "lakecolor": "white",
           "landcolor": "#E5ECF6",
           "showlakes": true,
           "showland": true,
           "subunitcolor": "white"
          },
          "hoverlabel": {
           "align": "left"
          },
          "hovermode": "closest",
          "mapbox": {
           "style": "light"
          },
          "paper_bgcolor": "white",
          "plot_bgcolor": "#E5ECF6",
          "polar": {
           "angularaxis": {
            "gridcolor": "white",
            "linecolor": "white",
            "ticks": ""
           },
           "bgcolor": "#E5ECF6",
           "radialaxis": {
            "gridcolor": "white",
            "linecolor": "white",
            "ticks": ""
           }
          },
          "scene": {
           "xaxis": {
            "backgroundcolor": "#E5ECF6",
            "gridcolor": "white",
            "gridwidth": 2,
            "linecolor": "white",
            "showbackground": true,
            "ticks": "",
            "zerolinecolor": "white"
           },
           "yaxis": {
            "backgroundcolor": "#E5ECF6",
            "gridcolor": "white",
            "gridwidth": 2,
            "linecolor": "white",
            "showbackground": true,
            "ticks": "",
            "zerolinecolor": "white"
           },
           "zaxis": {
            "backgroundcolor": "#E5ECF6",
            "gridcolor": "white",
            "gridwidth": 2,
            "linecolor": "white",
            "showbackground": true,
            "ticks": "",
            "zerolinecolor": "white"
           }
          },
          "shapedefaults": {
           "line": {
            "color": "#2a3f5f"
           }
          },
          "ternary": {
           "aaxis": {
            "gridcolor": "white",
            "linecolor": "white",
            "ticks": ""
           },
           "baxis": {
            "gridcolor": "white",
            "linecolor": "white",
            "ticks": ""
           },
           "bgcolor": "#E5ECF6",
           "caxis": {
            "gridcolor": "white",
            "linecolor": "white",
            "ticks": ""
           }
          },
          "title": {
           "x": 0.05
          },
          "xaxis": {
           "automargin": true,
           "gridcolor": "white",
           "linecolor": "white",
           "ticks": "",
           "title": {
            "standoff": 15
           },
           "zerolinecolor": "white",
           "zerolinewidth": 2
          },
          "yaxis": {
           "automargin": true,
           "gridcolor": "white",
           "linecolor": "white",
           "ticks": "",
           "title": {
            "standoff": 15
           },
           "zerolinecolor": "white",
           "zerolinewidth": 2
          }
         }
        },
        "title": {
         "text": "Sociale media gebruik per leeftijdsgroep in de Verenigde Staten"
        },
        "xaxis": {
         "gridcolor": "lightgray",
         "title": {
          "text": "Jaren"
         }
        },
        "yaxis": {
         "gridcolor": "lightgray",
         "range": [
          0,
          1
         ],
         "tickformat": ",.0%",
         "title": {
          "text": "Percentage mensen"
         }
        }
       }
      },
      "text/html": [
       "<div>                            <div id=\"fd97beae-ff35-4f44-b7df-d7d40674eace\" class=\"plotly-graph-div\" style=\"height:525px; width:100%;\"></div>            <script type=\"text/javascript\">                require([\"plotly\"], function(Plotly) {                    window.PLOTLYENV=window.PLOTLYENV || {};                                    if (document.getElementById(\"fd97beae-ff35-4f44-b7df-d7d40674eace\")) {                    Plotly.newPlot(                        \"fd97beae-ff35-4f44-b7df-d7d40674eace\",                        [{\"marker\":{\"color\":\"darkblue\"},\"mode\":\"lines+markers\",\"name\":\"18-29\",\"x\":[\"2005-03-21T00:00:00\",\"2005-12-08T00:00:00\",\"2006-08-31T00:00:00\",\"2008-05-11T00:00:00\",\"2008-08-10T00:00:00\",\"2008-08-31T00:00:00\",\"2008-12-04T00:00:00\",\"2008-12-20T00:00:00\",\"2009-04-19T00:00:00\",\"2009-09-14T00:00:00\",\"2009-12-27T00:00:00\",\"2010-01-19T00:00:00\",\"2010-05-30T00:00:00\",\"2010-09-13T00:00:00\",\"2010-11-24T00:00:00\",\"2010-11-28T00:00:00\",\"2010-12-21T00:00:00\",\"2011-05-22T00:00:00\",\"2011-08-26T00:00:00\",\"2012-02-19T00:00:00\",\"2012-08-07T00:00:00\",\"2013-05-19T00:00:00\",\"2013-07-14T00:00:00\",\"2013-09-30T00:00:00\",\"2014-01-26T00:00:00\",\"2015-07-12T00:00:00\",\"2016-11-06T00:00:00\",\"2018-01-10T00:00:00\",\"2019-02-07T00:00:00\",\"2021-02-08T00:00:00\"],\"y\":[0.07,0.16,0.41,0.6,0.65,0.68,0.67,0.59,0.7,0.67,0.78,0.76,0.82,0.8,0.74,0.78,0.76,0.79,0.82,0.81,0.88,0.87,0.87,0.89,0.84,0.9,0.86,0.88,0.9,0.84],\"type\":\"scatter\"},{\"marker\":{\"color\":\"mediumblue\"},\"mode\":\"lines+markers\",\"name\":\"30-49\",\"x\":[\"2005-03-21T00:00:00\",\"2005-12-08T00:00:00\",\"2006-08-31T00:00:00\",\"2008-05-11T00:00:00\",\"2008-08-10T00:00:00\",\"2008-08-31T00:00:00\",\"2008-12-04T00:00:00\",\"2008-12-20T00:00:00\",\"2009-04-19T00:00:00\",\"2009-09-14T00:00:00\",\"2009-12-27T00:00:00\",\"2010-01-19T00:00:00\",\"2010-05-30T00:00:00\",\"2010-09-13T00:00:00\",\"2010-11-24T00:00:00\",\"2010-11-28T00:00:00\",\"2010-12-21T00:00:00\",\"2011-05-22T00:00:00\",\"2011-08-26T00:00:00\",\"2012-02-19T00:00:00\",\"2012-08-07T00:00:00\",\"2013-05-19T00:00:00\",\"2013-07-14T00:00:00\",\"2013-09-30T00:00:00\",\"2014-01-26T00:00:00\",\"2015-07-12T00:00:00\",\"2016-11-06T00:00:00\",\"2018-01-10T00:00:00\",\"2019-02-07T00:00:00\",\"2021-02-08T00:00:00\"],\"y\":[0.06,0.09,0.06,0.21,0.27,0.27,0.3,0.28,0.42,0.44,0.47,0.51,0.53,0.52,0.54,0.54,0.55,0.61,0.59,0.64,0.68,0.72,0.72,0.74,0.77,0.77,0.8,0.78,0.82,0.81],\"type\":\"scatter\"},{\"marker\":{\"color\":\"blue\"},\"mode\":\"lines+markers\",\"name\":\"50-64\",\"x\":[\"2005-03-21T00:00:00\",\"2005-12-08T00:00:00\",\"2006-08-31T00:00:00\",\"2008-05-11T00:00:00\",\"2008-08-10T00:00:00\",\"2008-08-31T00:00:00\",\"2008-12-04T00:00:00\",\"2008-12-20T00:00:00\",\"2009-04-19T00:00:00\",\"2009-09-14T00:00:00\",\"2009-12-27T00:00:00\",\"2010-01-19T00:00:00\",\"2010-05-30T00:00:00\",\"2010-09-13T00:00:00\",\"2010-11-24T00:00:00\",\"2010-11-28T00:00:00\",\"2010-12-21T00:00:00\",\"2011-05-22T00:00:00\",\"2011-08-26T00:00:00\",\"2012-02-19T00:00:00\",\"2012-08-07T00:00:00\",\"2013-05-19T00:00:00\",\"2013-07-14T00:00:00\",\"2013-09-30T00:00:00\",\"2014-01-26T00:00:00\",\"2015-07-12T00:00:00\",\"2016-11-06T00:00:00\",\"2018-01-10T00:00:00\",\"2019-02-07T00:00:00\",\"2021-02-08T00:00:00\"],\"y\":[0.04,0.05,0.03,0.07,0.1,0.09,0.12,0.08,0.2,0.21,0.25,0.26,0.37,0.31,0.33,0.33,0.36,0.38,0.36,0.39,0.48,0.5,0.49,0.54,0.52,0.51,0.64,0.64,0.69,0.73],\"type\":\"scatter\"},{\"marker\":{\"color\":\"steelblue\"},\"mode\":\"lines+markers\",\"name\":\"65+\",\"x\":[\"2005-03-21T00:00:00\",\"2005-12-08T00:00:00\",\"2006-08-31T00:00:00\",\"2008-05-11T00:00:00\",\"2008-08-10T00:00:00\",\"2008-08-31T00:00:00\",\"2008-12-04T00:00:00\",\"2008-12-20T00:00:00\",\"2009-04-19T00:00:00\",\"2009-09-14T00:00:00\",\"2009-12-27T00:00:00\",\"2010-01-19T00:00:00\",\"2010-05-30T00:00:00\",\"2010-09-13T00:00:00\",\"2010-11-24T00:00:00\",\"2010-11-28T00:00:00\",\"2010-12-21T00:00:00\",\"2011-05-22T00:00:00\",\"2011-08-26T00:00:00\",\"2012-02-19T00:00:00\",\"2012-08-07T00:00:00\",\"2013-05-19T00:00:00\",\"2013-07-14T00:00:00\",\"2013-09-30T00:00:00\",\"2014-01-26T00:00:00\",\"2015-07-12T00:00:00\",\"2016-11-06T00:00:00\",\"2018-01-10T00:00:00\",\"2019-02-07T00:00:00\",\"2021-02-08T00:00:00\"],\"y\":[0.03,0.02,0.0,0.02,0.03,0.02,0.02,0.03,0.05,0.06,0.08,0.07,0.11,0.09,0.11,0.14,0.12,0.14,0.12,0.16,0.22,0.24,0.21,0.27,0.27,0.35,0.34,0.37,0.4,0.45],\"type\":\"scatter\"}],                        {\"font\":{\"color\":\"Black\",\"family\":\"Georgia\"},\"paper_bgcolor\":\"white\",\"plot_bgcolor\":\"white\",\"title\":{\"text\":\"Sociale media gebruik per leeftijdsgroep in de Verenigde Staten\"},\"xaxis\":{\"gridcolor\":\"lightgray\",\"title\":{\"text\":\"Jaren\"}},\"yaxis\":{\"gridcolor\":\"lightgray\",\"range\":[0,1],\"tickformat\":\",.0%\",\"title\":{\"text\":\"Percentage mensen\"}},\"template\":{\"data\":{\"histogram2dcontour\":[{\"type\":\"histogram2dcontour\",\"colorbar\":{\"outlinewidth\":0,\"ticks\":\"\"},\"colorscale\":[[0.0,\"#0d0887\"],[0.1111111111111111,\"#46039f\"],[0.2222222222222222,\"#7201a8\"],[0.3333333333333333,\"#9c179e\"],[0.4444444444444444,\"#bd3786\"],[0.5555555555555556,\"#d8576b\"],[0.6666666666666666,\"#ed7953\"],[0.7777777777777778,\"#fb9f3a\"],[0.8888888888888888,\"#fdca26\"],[1.0,\"#f0f921\"]]}],\"choropleth\":[{\"type\":\"choropleth\",\"colorbar\":{\"outlinewidth\":0,\"ticks\":\"\"}}],\"histogram2d\":[{\"type\":\"histogram2d\",\"colorbar\":{\"outlinewidth\":0,\"ticks\":\"\"},\"colorscale\":[[0.0,\"#0d0887\"],[0.1111111111111111,\"#46039f\"],[0.2222222222222222,\"#7201a8\"],[0.3333333333333333,\"#9c179e\"],[0.4444444444444444,\"#bd3786\"],[0.5555555555555556,\"#d8576b\"],[0.6666666666666666,\"#ed7953\"],[0.7777777777777778,\"#fb9f3a\"],[0.8888888888888888,\"#fdca26\"],[1.0,\"#f0f921\"]]}],\"heatmap\":[{\"type\":\"heatmap\",\"colorbar\":{\"outlinewidth\":0,\"ticks\":\"\"},\"colorscale\":[[0.0,\"#0d0887\"],[0.1111111111111111,\"#46039f\"],[0.2222222222222222,\"#7201a8\"],[0.3333333333333333,\"#9c179e\"],[0.4444444444444444,\"#bd3786\"],[0.5555555555555556,\"#d8576b\"],[0.6666666666666666,\"#ed7953\"],[0.7777777777777778,\"#fb9f3a\"],[0.8888888888888888,\"#fdca26\"],[1.0,\"#f0f921\"]]}],\"heatmapgl\":[{\"type\":\"heatmapgl\",\"colorbar\":{\"outlinewidth\":0,\"ticks\":\"\"},\"colorscale\":[[0.0,\"#0d0887\"],[0.1111111111111111,\"#46039f\"],[0.2222222222222222,\"#7201a8\"],[0.3333333333333333,\"#9c179e\"],[0.4444444444444444,\"#bd3786\"],[0.5555555555555556,\"#d8576b\"],[0.6666666666666666,\"#ed7953\"],[0.7777777777777778,\"#fb9f3a\"],[0.8888888888888888,\"#fdca26\"],[1.0,\"#f0f921\"]]}],\"contourcarpet\":[{\"type\":\"contourcarpet\",\"colorbar\":{\"outlinewidth\":0,\"ticks\":\"\"}}],\"contour\":[{\"type\":\"contour\",\"colorbar\":{\"outlinewidth\":0,\"ticks\":\"\"},\"colorscale\":[[0.0,\"#0d0887\"],[0.1111111111111111,\"#46039f\"],[0.2222222222222222,\"#7201a8\"],[0.3333333333333333,\"#9c179e\"],[0.4444444444444444,\"#bd3786\"],[0.5555555555555556,\"#d8576b\"],[0.6666666666666666,\"#ed7953\"],[0.7777777777777778,\"#fb9f3a\"],[0.8888888888888888,\"#fdca26\"],[1.0,\"#f0f921\"]]}],\"surface\":[{\"type\":\"surface\",\"colorbar\":{\"outlinewidth\":0,\"ticks\":\"\"},\"colorscale\":[[0.0,\"#0d0887\"],[0.1111111111111111,\"#46039f\"],[0.2222222222222222,\"#7201a8\"],[0.3333333333333333,\"#9c179e\"],[0.4444444444444444,\"#bd3786\"],[0.5555555555555556,\"#d8576b\"],[0.6666666666666666,\"#ed7953\"],[0.7777777777777778,\"#fb9f3a\"],[0.8888888888888888,\"#fdca26\"],[1.0,\"#f0f921\"]]}],\"mesh3d\":[{\"type\":\"mesh3d\",\"colorbar\":{\"outlinewidth\":0,\"ticks\":\"\"}}],\"scatter\":[{\"fillpattern\":{\"fillmode\":\"overlay\",\"size\":10,\"solidity\":0.2},\"type\":\"scatter\"}],\"parcoords\":[{\"type\":\"parcoords\",\"line\":{\"colorbar\":{\"outlinewidth\":0,\"ticks\":\"\"}}}],\"scatterpolargl\":[{\"type\":\"scatterpolargl\",\"marker\":{\"colorbar\":{\"outlinewidth\":0,\"ticks\":\"\"}}}],\"bar\":[{\"error_x\":{\"color\":\"#2a3f5f\"},\"error_y\":{\"color\":\"#2a3f5f\"},\"marker\":{\"line\":{\"color\":\"#E5ECF6\",\"width\":0.5},\"pattern\":{\"fillmode\":\"overlay\",\"size\":10,\"solidity\":0.2}},\"type\":\"bar\"}],\"scattergeo\":[{\"type\":\"scattergeo\",\"marker\":{\"colorbar\":{\"outlinewidth\":0,\"ticks\":\"\"}}}],\"scatterpolar\":[{\"type\":\"scatterpolar\",\"marker\":{\"colorbar\":{\"outlinewidth\":0,\"ticks\":\"\"}}}],\"histogram\":[{\"marker\":{\"pattern\":{\"fillmode\":\"overlay\",\"size\":10,\"solidity\":0.2}},\"type\":\"histogram\"}],\"scattergl\":[{\"type\":\"scattergl\",\"marker\":{\"colorbar\":{\"outlinewidth\":0,\"ticks\":\"\"}}}],\"scatter3d\":[{\"type\":\"scatter3d\",\"line\":{\"colorbar\":{\"outlinewidth\":0,\"ticks\":\"\"}},\"marker\":{\"colorbar\":{\"outlinewidth\":0,\"ticks\":\"\"}}}],\"scattermapbox\":[{\"type\":\"scattermapbox\",\"marker\":{\"colorbar\":{\"outlinewidth\":0,\"ticks\":\"\"}}}],\"scatterternary\":[{\"type\":\"scatterternary\",\"marker\":{\"colorbar\":{\"outlinewidth\":0,\"ticks\":\"\"}}}],\"scattercarpet\":[{\"type\":\"scattercarpet\",\"marker\":{\"colorbar\":{\"outlinewidth\":0,\"ticks\":\"\"}}}],\"carpet\":[{\"aaxis\":{\"endlinecolor\":\"#2a3f5f\",\"gridcolor\":\"white\",\"linecolor\":\"white\",\"minorgridcolor\":\"white\",\"startlinecolor\":\"#2a3f5f\"},\"baxis\":{\"endlinecolor\":\"#2a3f5f\",\"gridcolor\":\"white\",\"linecolor\":\"white\",\"minorgridcolor\":\"white\",\"startlinecolor\":\"#2a3f5f\"},\"type\":\"carpet\"}],\"table\":[{\"cells\":{\"fill\":{\"color\":\"#EBF0F8\"},\"line\":{\"color\":\"white\"}},\"header\":{\"fill\":{\"color\":\"#C8D4E3\"},\"line\":{\"color\":\"white\"}},\"type\":\"table\"}],\"barpolar\":[{\"marker\":{\"line\":{\"color\":\"#E5ECF6\",\"width\":0.5},\"pattern\":{\"fillmode\":\"overlay\",\"size\":10,\"solidity\":0.2}},\"type\":\"barpolar\"}],\"pie\":[{\"automargin\":true,\"type\":\"pie\"}]},\"layout\":{\"autotypenumbers\":\"strict\",\"colorway\":[\"#636efa\",\"#EF553B\",\"#00cc96\",\"#ab63fa\",\"#FFA15A\",\"#19d3f3\",\"#FF6692\",\"#B6E880\",\"#FF97FF\",\"#FECB52\"],\"font\":{\"color\":\"#2a3f5f\"},\"hovermode\":\"closest\",\"hoverlabel\":{\"align\":\"left\"},\"paper_bgcolor\":\"white\",\"plot_bgcolor\":\"#E5ECF6\",\"polar\":{\"bgcolor\":\"#E5ECF6\",\"angularaxis\":{\"gridcolor\":\"white\",\"linecolor\":\"white\",\"ticks\":\"\"},\"radialaxis\":{\"gridcolor\":\"white\",\"linecolor\":\"white\",\"ticks\":\"\"}},\"ternary\":{\"bgcolor\":\"#E5ECF6\",\"aaxis\":{\"gridcolor\":\"white\",\"linecolor\":\"white\",\"ticks\":\"\"},\"baxis\":{\"gridcolor\":\"white\",\"linecolor\":\"white\",\"ticks\":\"\"},\"caxis\":{\"gridcolor\":\"white\",\"linecolor\":\"white\",\"ticks\":\"\"}},\"coloraxis\":{\"colorbar\":{\"outlinewidth\":0,\"ticks\":\"\"}},\"colorscale\":{\"sequential\":[[0.0,\"#0d0887\"],[0.1111111111111111,\"#46039f\"],[0.2222222222222222,\"#7201a8\"],[0.3333333333333333,\"#9c179e\"],[0.4444444444444444,\"#bd3786\"],[0.5555555555555556,\"#d8576b\"],[0.6666666666666666,\"#ed7953\"],[0.7777777777777778,\"#fb9f3a\"],[0.8888888888888888,\"#fdca26\"],[1.0,\"#f0f921\"]],\"sequentialminus\":[[0.0,\"#0d0887\"],[0.1111111111111111,\"#46039f\"],[0.2222222222222222,\"#7201a8\"],[0.3333333333333333,\"#9c179e\"],[0.4444444444444444,\"#bd3786\"],[0.5555555555555556,\"#d8576b\"],[0.6666666666666666,\"#ed7953\"],[0.7777777777777778,\"#fb9f3a\"],[0.8888888888888888,\"#fdca26\"],[1.0,\"#f0f921\"]],\"diverging\":[[0,\"#8e0152\"],[0.1,\"#c51b7d\"],[0.2,\"#de77ae\"],[0.3,\"#f1b6da\"],[0.4,\"#fde0ef\"],[0.5,\"#f7f7f7\"],[0.6,\"#e6f5d0\"],[0.7,\"#b8e186\"],[0.8,\"#7fbc41\"],[0.9,\"#4d9221\"],[1,\"#276419\"]]},\"xaxis\":{\"gridcolor\":\"white\",\"linecolor\":\"white\",\"ticks\":\"\",\"title\":{\"standoff\":15},\"zerolinecolor\":\"white\",\"automargin\":true,\"zerolinewidth\":2},\"yaxis\":{\"gridcolor\":\"white\",\"linecolor\":\"white\",\"ticks\":\"\",\"title\":{\"standoff\":15},\"zerolinecolor\":\"white\",\"automargin\":true,\"zerolinewidth\":2},\"scene\":{\"xaxis\":{\"backgroundcolor\":\"#E5ECF6\",\"gridcolor\":\"white\",\"linecolor\":\"white\",\"showbackground\":true,\"ticks\":\"\",\"zerolinecolor\":\"white\",\"gridwidth\":2},\"yaxis\":{\"backgroundcolor\":\"#E5ECF6\",\"gridcolor\":\"white\",\"linecolor\":\"white\",\"showbackground\":true,\"ticks\":\"\",\"zerolinecolor\":\"white\",\"gridwidth\":2},\"zaxis\":{\"backgroundcolor\":\"#E5ECF6\",\"gridcolor\":\"white\",\"linecolor\":\"white\",\"showbackground\":true,\"ticks\":\"\",\"zerolinecolor\":\"white\",\"gridwidth\":2}},\"shapedefaults\":{\"line\":{\"color\":\"#2a3f5f\"}},\"annotationdefaults\":{\"arrowcolor\":\"#2a3f5f\",\"arrowhead\":0,\"arrowwidth\":1},\"geo\":{\"bgcolor\":\"white\",\"landcolor\":\"#E5ECF6\",\"subunitcolor\":\"white\",\"showland\":true,\"showlakes\":true,\"lakecolor\":\"white\"},\"title\":{\"x\":0.05},\"mapbox\":{\"style\":\"light\"}}},\"annotations\":[{\"showarrow\":false,\"text\":\"Op de x-axis is de tijd te zien in jaren. Op de y-axis is het percentage mensen te zien dat sociale media gebruikt. \\u003cbr\\u003e Hieruit is af te lezen dat er een flinke stijging is geweest en nog steeds gaande is.\",\"x\":0.5,\"xref\":\"paper\",\"y\":-0.22,\"yref\":\"paper\"}]},                        {\"responsive\": true}                    ).then(function(){\n",
       "                            \n",
       "var gd = document.getElementById('fd97beae-ff35-4f44-b7df-d7d40674eace');\n",
       "var x = new MutationObserver(function (mutations, observer) {{\n",
       "        var display = window.getComputedStyle(gd).display;\n",
       "        if (!display || display === 'none') {{\n",
       "            console.log([gd, 'removed!']);\n",
       "            Plotly.purge(gd);\n",
       "            observer.disconnect();\n",
       "        }}\n",
       "}});\n",
       "\n",
       "// Listen for the removal of the full notebook cells\n",
       "var notebookContainer = gd.closest('#notebook-container');\n",
       "if (notebookContainer) {{\n",
       "    x.observe(notebookContainer, {childList: true});\n",
       "}}\n",
       "\n",
       "// Listen for the clearing of the current output cell\n",
       "var outputEl = gd.closest('.output');\n",
       "if (outputEl) {{\n",
       "    x.observe(outputEl, {childList: true});\n",
       "}}\n",
       "\n",
       "                        })                };                });            </script>        </div>"
      ]
     },
     "metadata": {},
     "output_type": "display_data"
    }
   ],
   "source": [
    "trace1 = go.Scatter(x = dc['Year'],\n",
    "                   y = dc['18-29'],\n",
    "                   name = '18-29',\n",
    "                   mode = 'lines + markers',\n",
    "                   marker = dict(color = 'darkblue')\n",
    "                   )\n",
    "\n",
    "trace2 = go.Scatter(x = dc['Year'],\n",
    "                   y = dc['30-49'],\n",
    "                   name = '30-49',\n",
    "                   mode = 'lines + markers',\n",
    "                   marker = dict(color = 'mediumblue')\n",
    "                   )\n",
    "\n",
    "trace3 = go.Scatter(x = dc['Year'],\n",
    "                   y = dc['50-64'],\n",
    "                   name = '50-64',\n",
    "                   mode = 'lines + markers',\n",
    "                   marker = dict(color = 'blue')\n",
    "                   )\n",
    "\n",
    "trace4 = go.Scatter(x = dc['Year'],\n",
    "                   y = dc['65+'],\n",
    "                   name = '65+',\n",
    "                   mode = 'lines + markers',\n",
    "                   marker = dict(color = 'steelblue')\n",
    "                   )\n",
    "\n",
    "social_layout = go.Layout(title = 'Sociale media gebruik per leeftijdsgroep in de Verenigde Staten',\n",
    "                          xaxis = dict(title = 'Jaren', gridcolor = 'lightgray'),\n",
    "                         yaxis = dict(title = 'Percentage mensen', tickformat = ',.0%', range = [0, 1], gridcolor = 'lightgray'),\n",
    "                         font = dict(family = 'Georgia', color = 'Black'),\n",
    "                        plot_bgcolor = 'white',\n",
    "                       paper_bgcolor = 'white' \n",
    "                         )\n",
    "\n",
    "social_figure = go.Figure(data = [trace1, trace2, trace3, trace4], layout = social_layout)\n",
    "\n",
    "social_figure.add_annotation(\n",
    "    xref=\"paper\", yref=\"paper\",\n",
    "    x=0.5, y=-0.22,\n",
    "    text=\"Op de x-axis is de tijd te zien in jaren. Op de y-axis is het percentage mensen te zien dat sociale media gebruikt. <br> Hieruit is af te lezen dat er een flinke stijging is geweest en nog steeds gaande is.\",\n",
    "    showarrow=False,\n",
    ")\n",
    "\n",
    "social_figure.show()"
   ]
  },
  {
   "cell_type": "markdown",
   "id": "c2fa3353",
   "metadata": {},
   "source": [
    "**Uitleg:** De volgende dataset is een mix van de dataset van Pewresearch die het sociale media gebruik per leeftijdsgroep aangeeft, en de dataset die het geluk en tevredenheid van zowel jongvolwassenen als de hele bevolking weergeeft (https://www.pewresearch.org/internet/fact-sheet/social-media/?tabId=tab-81867c91-92ad-45b8-a964-a2a894f873ef). Van de eerstbenoemde dataset is de volgende data gebruikt: het percentage 18-29 jarigen die sociale media gebruikt over de jaren heen. Van de laatstbenoemde dataset is de volgende data gebruikt: het geluksgevoel van 18-25 jarigen over de jaren heen (https://longreads.cbs.nl/jeugdmonitor-2022/welzijn-van-jongvolwassenen/). De periode van tijd die hiervoor is gebruikt is gedaan vanaf het begin van de laatstbenoemde dataset, omdat er dan ook een zichtbaar verschil te zien is tussen het geluksgevoel van de tijd voor en na sociale media. De variabelen die in deze dataset staan zijn: 'Category', 'Geluk, 18 tot 25 jaar', '18-29'. Het variabele 'Category' geeft het jaar aan waarvan de data is opgenomen. De andere variabelen geven het percentage van de leeftijdsgroepen aan dat zich zo voelt. De datasets zijn te downloaden op de site van de links die aan dit stuk tekst zijn toegevoegd.\n",
    "<br>\n",
    "<br>\n",
    "**Preprocessing:** Deze dataset is gemaakt in een zelfgemaakte csv file. De data die erin staat komt precies overeen met de data van de twee datasets die hiervoor zijn gebruikt. Het enige wat niet overeen komt is de data van de tweede kolom, omdat er bij die dataset van de jaren 2005 en 2008 t/m 2013 meerdere datapunten waren in die jaren. Om deze reden heb ik van die jaren een gemiddelde genomen en in deze dataset gezet. Verder werkt de dataset naar behoren."
   ]
  },
  {
   "cell_type": "code",
   "execution_count": 8,
   "id": "3edb8f10",
   "metadata": {
    "hideCode": false,
    "tags": [
     "\"hide_input\""
    ]
   },
   "outputs": [
    {
     "data": {
      "text/html": [
       "<div>\n",
       "<style scoped>\n",
       "    .dataframe tbody tr th:only-of-type {\n",
       "        vertical-align: middle;\n",
       "    }\n",
       "\n",
       "    .dataframe tbody tr th {\n",
       "        vertical-align: top;\n",
       "    }\n",
       "\n",
       "    .dataframe thead th {\n",
       "        text-align: right;\n",
       "    }\n",
       "</style>\n",
       "<table border=\"1\" class=\"dataframe\">\n",
       "  <thead>\n",
       "    <tr style=\"text-align: right;\">\n",
       "      <th></th>\n",
       "      <th>Category</th>\n",
       "      <th>Geluk, 18 tot 25 jaar</th>\n",
       "      <th>18-29</th>\n",
       "    </tr>\n",
       "  </thead>\n",
       "  <tbody>\n",
       "    <tr>\n",
       "      <th>0</th>\n",
       "      <td>1997</td>\n",
       "      <td>0.911</td>\n",
       "      <td>NaN</td>\n",
       "    </tr>\n",
       "    <tr>\n",
       "      <th>1</th>\n",
       "      <td>1998</td>\n",
       "      <td>0.909</td>\n",
       "      <td>NaN</td>\n",
       "    </tr>\n",
       "    <tr>\n",
       "      <th>2</th>\n",
       "      <td>1999</td>\n",
       "      <td>0.898</td>\n",
       "      <td>NaN</td>\n",
       "    </tr>\n",
       "    <tr>\n",
       "      <th>3</th>\n",
       "      <td>2000</td>\n",
       "      <td>0.908</td>\n",
       "      <td>NaN</td>\n",
       "    </tr>\n",
       "    <tr>\n",
       "      <th>4</th>\n",
       "      <td>2001</td>\n",
       "      <td>0.909</td>\n",
       "      <td>NaN</td>\n",
       "    </tr>\n",
       "    <tr>\n",
       "      <th>5</th>\n",
       "      <td>2002</td>\n",
       "      <td>0.887</td>\n",
       "      <td>NaN</td>\n",
       "    </tr>\n",
       "    <tr>\n",
       "      <th>6</th>\n",
       "      <td>2003</td>\n",
       "      <td>0.907</td>\n",
       "      <td>NaN</td>\n",
       "    </tr>\n",
       "    <tr>\n",
       "      <th>7</th>\n",
       "      <td>2004</td>\n",
       "      <td>0.906</td>\n",
       "      <td>NaN</td>\n",
       "    </tr>\n",
       "    <tr>\n",
       "      <th>8</th>\n",
       "      <td>2005</td>\n",
       "      <td>0.876</td>\n",
       "      <td>0.115</td>\n",
       "    </tr>\n",
       "    <tr>\n",
       "      <th>9</th>\n",
       "      <td>2006</td>\n",
       "      <td>0.905</td>\n",
       "      <td>0.410</td>\n",
       "    </tr>\n",
       "    <tr>\n",
       "      <th>10</th>\n",
       "      <td>2007</td>\n",
       "      <td>0.898</td>\n",
       "      <td>NaN</td>\n",
       "    </tr>\n",
       "    <tr>\n",
       "      <th>11</th>\n",
       "      <td>2008</td>\n",
       "      <td>0.914</td>\n",
       "      <td>0.638</td>\n",
       "    </tr>\n",
       "    <tr>\n",
       "      <th>12</th>\n",
       "      <td>2009</td>\n",
       "      <td>0.900</td>\n",
       "      <td>0.717</td>\n",
       "    </tr>\n",
       "    <tr>\n",
       "      <th>13</th>\n",
       "      <td>2010</td>\n",
       "      <td>0.888</td>\n",
       "      <td>0.777</td>\n",
       "    </tr>\n",
       "    <tr>\n",
       "      <th>14</th>\n",
       "      <td>2011</td>\n",
       "      <td>0.894</td>\n",
       "      <td>0.805</td>\n",
       "    </tr>\n",
       "    <tr>\n",
       "      <th>15</th>\n",
       "      <td>2012</td>\n",
       "      <td>0.904</td>\n",
       "      <td>0.845</td>\n",
       "    </tr>\n",
       "    <tr>\n",
       "      <th>16</th>\n",
       "      <td>2013</td>\n",
       "      <td>0.900</td>\n",
       "      <td>0.877</td>\n",
       "    </tr>\n",
       "    <tr>\n",
       "      <th>17</th>\n",
       "      <td>2014</td>\n",
       "      <td>0.896</td>\n",
       "      <td>0.840</td>\n",
       "    </tr>\n",
       "    <tr>\n",
       "      <th>18</th>\n",
       "      <td>2015</td>\n",
       "      <td>0.887</td>\n",
       "      <td>0.900</td>\n",
       "    </tr>\n",
       "    <tr>\n",
       "      <th>19</th>\n",
       "      <td>2016</td>\n",
       "      <td>0.885</td>\n",
       "      <td>0.860</td>\n",
       "    </tr>\n",
       "    <tr>\n",
       "      <th>20</th>\n",
       "      <td>2017</td>\n",
       "      <td>0.875</td>\n",
       "      <td>NaN</td>\n",
       "    </tr>\n",
       "    <tr>\n",
       "      <th>21</th>\n",
       "      <td>2018</td>\n",
       "      <td>0.858</td>\n",
       "      <td>0.880</td>\n",
       "    </tr>\n",
       "    <tr>\n",
       "      <th>22</th>\n",
       "      <td>2019</td>\n",
       "      <td>0.875</td>\n",
       "      <td>0.900</td>\n",
       "    </tr>\n",
       "    <tr>\n",
       "      <th>23</th>\n",
       "      <td>2020</td>\n",
       "      <td>0.838</td>\n",
       "      <td>NaN</td>\n",
       "    </tr>\n",
       "    <tr>\n",
       "      <th>24</th>\n",
       "      <td>2021</td>\n",
       "      <td>0.809</td>\n",
       "      <td>0.840</td>\n",
       "    </tr>\n",
       "  </tbody>\n",
       "</table>\n",
       "</div>"
      ],
      "text/plain": [
       "    Category  Geluk, 18 tot 25 jaar  18-29\n",
       "0       1997                  0.911    NaN\n",
       "1       1998                  0.909    NaN\n",
       "2       1999                  0.898    NaN\n",
       "3       2000                  0.908    NaN\n",
       "4       2001                  0.909    NaN\n",
       "5       2002                  0.887    NaN\n",
       "6       2003                  0.907    NaN\n",
       "7       2004                  0.906    NaN\n",
       "8       2005                  0.876  0.115\n",
       "9       2006                  0.905  0.410\n",
       "10      2007                  0.898    NaN\n",
       "11      2008                  0.914  0.638\n",
       "12      2009                  0.900  0.717\n",
       "13      2010                  0.888  0.777\n",
       "14      2011                  0.894  0.805\n",
       "15      2012                  0.904  0.845\n",
       "16      2013                  0.900  0.877\n",
       "17      2014                  0.896  0.840\n",
       "18      2015                  0.887  0.900\n",
       "19      2016                  0.885  0.860\n",
       "20      2017                  0.875    NaN\n",
       "21      2018                  0.858  0.880\n",
       "22      2019                  0.875  0.900\n",
       "23      2020                  0.838    NaN\n",
       "24      2021                  0.809  0.840"
      ]
     },
     "execution_count": 8,
     "metadata": {},
     "output_type": "execute_result"
    }
   ],
   "source": [
    "cr = pd.read_csv('correlatie-Copy1.csv')\n",
    "cr_filtered = cr.dropna()\n",
    "cr_filtered = cr_filtered.sort_values(by='Category', ascending=False)\n",
    "cr"
   ]
  },
  {
   "cell_type": "code",
   "execution_count": 42,
   "id": "be7305b8",
   "metadata": {
    "hideCode": false,
    "tags": [
     "\"hide_input\""
    ]
   },
   "outputs": [
    {
     "data": {
      "application/vnd.plotly.v1+json": {
       "config": {
        "plotlyServerURL": "https://plot.ly"
       },
       "data": [
        {
         "legendgroup": "Gebruik van sociale media door jongvolwassenen",
         "marker": {
          "color": "#147db1"
         },
         "name": "Gebruik van sociale media door jongvolwassenen",
         "type": "bar",
         "x": [
          1997,
          1998,
          1999,
          2000,
          2001,
          2002,
          2003,
          2004,
          2005,
          2006,
          2007,
          2008,
          2009,
          2010,
          2011,
          2012,
          2013,
          2014,
          2015,
          2016,
          2017,
          2018,
          2019,
          2020,
          2021
         ],
         "y": [
          null,
          null,
          null,
          null,
          null,
          null,
          null,
          null,
          0.115,
          0.41,
          null,
          0.638,
          0.717,
          0.777,
          0.805,
          0.845,
          0.877,
          0.84,
          0.9,
          0.86,
          null,
          0.88,
          0.9,
          null,
          0.84
         ]
        },
        {
         "legendgroup": "Geluk jongvolwassenen",
         "marker": {
          "color": "#3a4f6d"
         },
         "name": "Geluk jongvolwassenen",
         "type": "bar",
         "x": [
          1997,
          1998,
          1999,
          2000,
          2001,
          2002,
          2003,
          2004,
          2005,
          2006,
          2007,
          2008,
          2009,
          2010,
          2011,
          2012,
          2013,
          2014,
          2015,
          2016,
          2017,
          2018,
          2019,
          2020,
          2021
         ],
         "y": [
          0.911,
          0.909,
          0.898,
          0.908,
          0.909,
          0.887,
          0.907,
          0.906,
          0.876,
          0.905,
          0.898,
          0.914,
          0.9,
          0.888,
          0.894,
          0.904,
          0.9,
          0.896,
          0.887,
          0.885,
          0.875,
          0.858,
          0.875,
          0.838,
          0.809
         ]
        }
       ],
       "layout": {
        "annotations": [
         {
          "showarrow": false,
          "text": "Op de x-axis is de tijd te zien in jaren. Op de y-axis is het percentage mensen te zien dat zich gelukkig voelt<br> en sociale media gebruikt. Hieruit is af te lezen dat het geluk daalt sinds naarmate het sociale media gebruik toenam.",
          "x": 0.5,
          "xref": "paper",
          "y": -0.57,
          "yref": "paper"
         }
        ],
        "font": {
         "color": "Black",
         "family": "Georgia"
        },
        "paper_bgcolor": "white",
        "plot_bgcolor": "white",
        "template": {
         "data": {
          "bar": [
           {
            "error_x": {
             "color": "#2a3f5f"
            },
            "error_y": {
             "color": "#2a3f5f"
            },
            "marker": {
             "line": {
              "color": "#E5ECF6",
              "width": 0.5
             },
             "pattern": {
              "fillmode": "overlay",
              "size": 10,
              "solidity": 0.2
             }
            },
            "type": "bar"
           }
          ],
          "barpolar": [
           {
            "marker": {
             "line": {
              "color": "#E5ECF6",
              "width": 0.5
             },
             "pattern": {
              "fillmode": "overlay",
              "size": 10,
              "solidity": 0.2
             }
            },
            "type": "barpolar"
           }
          ],
          "carpet": [
           {
            "aaxis": {
             "endlinecolor": "#2a3f5f",
             "gridcolor": "white",
             "linecolor": "white",
             "minorgridcolor": "white",
             "startlinecolor": "#2a3f5f"
            },
            "baxis": {
             "endlinecolor": "#2a3f5f",
             "gridcolor": "white",
             "linecolor": "white",
             "minorgridcolor": "white",
             "startlinecolor": "#2a3f5f"
            },
            "type": "carpet"
           }
          ],
          "choropleth": [
           {
            "colorbar": {
             "outlinewidth": 0,
             "ticks": ""
            },
            "type": "choropleth"
           }
          ],
          "contour": [
           {
            "colorbar": {
             "outlinewidth": 0,
             "ticks": ""
            },
            "colorscale": [
             [
              0,
              "#0d0887"
             ],
             [
              0.1111111111111111,
              "#46039f"
             ],
             [
              0.2222222222222222,
              "#7201a8"
             ],
             [
              0.3333333333333333,
              "#9c179e"
             ],
             [
              0.4444444444444444,
              "#bd3786"
             ],
             [
              0.5555555555555556,
              "#d8576b"
             ],
             [
              0.6666666666666666,
              "#ed7953"
             ],
             [
              0.7777777777777778,
              "#fb9f3a"
             ],
             [
              0.8888888888888888,
              "#fdca26"
             ],
             [
              1,
              "#f0f921"
             ]
            ],
            "type": "contour"
           }
          ],
          "contourcarpet": [
           {
            "colorbar": {
             "outlinewidth": 0,
             "ticks": ""
            },
            "type": "contourcarpet"
           }
          ],
          "heatmap": [
           {
            "colorbar": {
             "outlinewidth": 0,
             "ticks": ""
            },
            "colorscale": [
             [
              0,
              "#0d0887"
             ],
             [
              0.1111111111111111,
              "#46039f"
             ],
             [
              0.2222222222222222,
              "#7201a8"
             ],
             [
              0.3333333333333333,
              "#9c179e"
             ],
             [
              0.4444444444444444,
              "#bd3786"
             ],
             [
              0.5555555555555556,
              "#d8576b"
             ],
             [
              0.6666666666666666,
              "#ed7953"
             ],
             [
              0.7777777777777778,
              "#fb9f3a"
             ],
             [
              0.8888888888888888,
              "#fdca26"
             ],
             [
              1,
              "#f0f921"
             ]
            ],
            "type": "heatmap"
           }
          ],
          "heatmapgl": [
           {
            "colorbar": {
             "outlinewidth": 0,
             "ticks": ""
            },
            "colorscale": [
             [
              0,
              "#0d0887"
             ],
             [
              0.1111111111111111,
              "#46039f"
             ],
             [
              0.2222222222222222,
              "#7201a8"
             ],
             [
              0.3333333333333333,
              "#9c179e"
             ],
             [
              0.4444444444444444,
              "#bd3786"
             ],
             [
              0.5555555555555556,
              "#d8576b"
             ],
             [
              0.6666666666666666,
              "#ed7953"
             ],
             [
              0.7777777777777778,
              "#fb9f3a"
             ],
             [
              0.8888888888888888,
              "#fdca26"
             ],
             [
              1,
              "#f0f921"
             ]
            ],
            "type": "heatmapgl"
           }
          ],
          "histogram": [
           {
            "marker": {
             "pattern": {
              "fillmode": "overlay",
              "size": 10,
              "solidity": 0.2
             }
            },
            "type": "histogram"
           }
          ],
          "histogram2d": [
           {
            "colorbar": {
             "outlinewidth": 0,
             "ticks": ""
            },
            "colorscale": [
             [
              0,
              "#0d0887"
             ],
             [
              0.1111111111111111,
              "#46039f"
             ],
             [
              0.2222222222222222,
              "#7201a8"
             ],
             [
              0.3333333333333333,
              "#9c179e"
             ],
             [
              0.4444444444444444,
              "#bd3786"
             ],
             [
              0.5555555555555556,
              "#d8576b"
             ],
             [
              0.6666666666666666,
              "#ed7953"
             ],
             [
              0.7777777777777778,
              "#fb9f3a"
             ],
             [
              0.8888888888888888,
              "#fdca26"
             ],
             [
              1,
              "#f0f921"
             ]
            ],
            "type": "histogram2d"
           }
          ],
          "histogram2dcontour": [
           {
            "colorbar": {
             "outlinewidth": 0,
             "ticks": ""
            },
            "colorscale": [
             [
              0,
              "#0d0887"
             ],
             [
              0.1111111111111111,
              "#46039f"
             ],
             [
              0.2222222222222222,
              "#7201a8"
             ],
             [
              0.3333333333333333,
              "#9c179e"
             ],
             [
              0.4444444444444444,
              "#bd3786"
             ],
             [
              0.5555555555555556,
              "#d8576b"
             ],
             [
              0.6666666666666666,
              "#ed7953"
             ],
             [
              0.7777777777777778,
              "#fb9f3a"
             ],
             [
              0.8888888888888888,
              "#fdca26"
             ],
             [
              1,
              "#f0f921"
             ]
            ],
            "type": "histogram2dcontour"
           }
          ],
          "mesh3d": [
           {
            "colorbar": {
             "outlinewidth": 0,
             "ticks": ""
            },
            "type": "mesh3d"
           }
          ],
          "parcoords": [
           {
            "line": {
             "colorbar": {
              "outlinewidth": 0,
              "ticks": ""
             }
            },
            "type": "parcoords"
           }
          ],
          "pie": [
           {
            "automargin": true,
            "type": "pie"
           }
          ],
          "scatter": [
           {
            "fillpattern": {
             "fillmode": "overlay",
             "size": 10,
             "solidity": 0.2
            },
            "type": "scatter"
           }
          ],
          "scatter3d": [
           {
            "line": {
             "colorbar": {
              "outlinewidth": 0,
              "ticks": ""
             }
            },
            "marker": {
             "colorbar": {
              "outlinewidth": 0,
              "ticks": ""
             }
            },
            "type": "scatter3d"
           }
          ],
          "scattercarpet": [
           {
            "marker": {
             "colorbar": {
              "outlinewidth": 0,
              "ticks": ""
             }
            },
            "type": "scattercarpet"
           }
          ],
          "scattergeo": [
           {
            "marker": {
             "colorbar": {
              "outlinewidth": 0,
              "ticks": ""
             }
            },
            "type": "scattergeo"
           }
          ],
          "scattergl": [
           {
            "marker": {
             "colorbar": {
              "outlinewidth": 0,
              "ticks": ""
             }
            },
            "type": "scattergl"
           }
          ],
          "scattermapbox": [
           {
            "marker": {
             "colorbar": {
              "outlinewidth": 0,
              "ticks": ""
             }
            },
            "type": "scattermapbox"
           }
          ],
          "scatterpolar": [
           {
            "marker": {
             "colorbar": {
              "outlinewidth": 0,
              "ticks": ""
             }
            },
            "type": "scatterpolar"
           }
          ],
          "scatterpolargl": [
           {
            "marker": {
             "colorbar": {
              "outlinewidth": 0,
              "ticks": ""
             }
            },
            "type": "scatterpolargl"
           }
          ],
          "scatterternary": [
           {
            "marker": {
             "colorbar": {
              "outlinewidth": 0,
              "ticks": ""
             }
            },
            "type": "scatterternary"
           }
          ],
          "surface": [
           {
            "colorbar": {
             "outlinewidth": 0,
             "ticks": ""
            },
            "colorscale": [
             [
              0,
              "#0d0887"
             ],
             [
              0.1111111111111111,
              "#46039f"
             ],
             [
              0.2222222222222222,
              "#7201a8"
             ],
             [
              0.3333333333333333,
              "#9c179e"
             ],
             [
              0.4444444444444444,
              "#bd3786"
             ],
             [
              0.5555555555555556,
              "#d8576b"
             ],
             [
              0.6666666666666666,
              "#ed7953"
             ],
             [
              0.7777777777777778,
              "#fb9f3a"
             ],
             [
              0.8888888888888888,
              "#fdca26"
             ],
             [
              1,
              "#f0f921"
             ]
            ],
            "type": "surface"
           }
          ],
          "table": [
           {
            "cells": {
             "fill": {
              "color": "#EBF0F8"
             },
             "line": {
              "color": "white"
             }
            },
            "header": {
             "fill": {
              "color": "#C8D4E3"
             },
             "line": {
              "color": "white"
             }
            },
            "type": "table"
           }
          ]
         },
         "layout": {
          "annotationdefaults": {
           "arrowcolor": "#2a3f5f",
           "arrowhead": 0,
           "arrowwidth": 1
          },
          "autotypenumbers": "strict",
          "coloraxis": {
           "colorbar": {
            "outlinewidth": 0,
            "ticks": ""
           }
          },
          "colorscale": {
           "diverging": [
            [
             0,
             "#8e0152"
            ],
            [
             0.1,
             "#c51b7d"
            ],
            [
             0.2,
             "#de77ae"
            ],
            [
             0.3,
             "#f1b6da"
            ],
            [
             0.4,
             "#fde0ef"
            ],
            [
             0.5,
             "#f7f7f7"
            ],
            [
             0.6,
             "#e6f5d0"
            ],
            [
             0.7,
             "#b8e186"
            ],
            [
             0.8,
             "#7fbc41"
            ],
            [
             0.9,
             "#4d9221"
            ],
            [
             1,
             "#276419"
            ]
           ],
           "sequential": [
            [
             0,
             "#0d0887"
            ],
            [
             0.1111111111111111,
             "#46039f"
            ],
            [
             0.2222222222222222,
             "#7201a8"
            ],
            [
             0.3333333333333333,
             "#9c179e"
            ],
            [
             0.4444444444444444,
             "#bd3786"
            ],
            [
             0.5555555555555556,
             "#d8576b"
            ],
            [
             0.6666666666666666,
             "#ed7953"
            ],
            [
             0.7777777777777778,
             "#fb9f3a"
            ],
            [
             0.8888888888888888,
             "#fdca26"
            ],
            [
             1,
             "#f0f921"
            ]
           ],
           "sequentialminus": [
            [
             0,
             "#0d0887"
            ],
            [
             0.1111111111111111,
             "#46039f"
            ],
            [
             0.2222222222222222,
             "#7201a8"
            ],
            [
             0.3333333333333333,
             "#9c179e"
            ],
            [
             0.4444444444444444,
             "#bd3786"
            ],
            [
             0.5555555555555556,
             "#d8576b"
            ],
            [
             0.6666666666666666,
             "#ed7953"
            ],
            [
             0.7777777777777778,
             "#fb9f3a"
            ],
            [
             0.8888888888888888,
             "#fdca26"
            ],
            [
             1,
             "#f0f921"
            ]
           ]
          },
          "colorway": [
           "#636efa",
           "#EF553B",
           "#00cc96",
           "#ab63fa",
           "#FFA15A",
           "#19d3f3",
           "#FF6692",
           "#B6E880",
           "#FF97FF",
           "#FECB52"
          ],
          "font": {
           "color": "#2a3f5f"
          },
          "geo": {
           "bgcolor": "white",
           "lakecolor": "white",
           "landcolor": "#E5ECF6",
           "showlakes": true,
           "showland": true,
           "subunitcolor": "white"
          },
          "hoverlabel": {
           "align": "left"
          },
          "hovermode": "closest",
          "mapbox": {
           "style": "light"
          },
          "paper_bgcolor": "white",
          "plot_bgcolor": "#E5ECF6",
          "polar": {
           "angularaxis": {
            "gridcolor": "white",
            "linecolor": "white",
            "ticks": ""
           },
           "bgcolor": "#E5ECF6",
           "radialaxis": {
            "gridcolor": "white",
            "linecolor": "white",
            "ticks": ""
           }
          },
          "scene": {
           "xaxis": {
            "backgroundcolor": "#E5ECF6",
            "gridcolor": "white",
            "gridwidth": 2,
            "linecolor": "white",
            "showbackground": true,
            "ticks": "",
            "zerolinecolor": "white"
           },
           "yaxis": {
            "backgroundcolor": "#E5ECF6",
            "gridcolor": "white",
            "gridwidth": 2,
            "linecolor": "white",
            "showbackground": true,
            "ticks": "",
            "zerolinecolor": "white"
           },
           "zaxis": {
            "backgroundcolor": "#E5ECF6",
            "gridcolor": "white",
            "gridwidth": 2,
            "linecolor": "white",
            "showbackground": true,
            "ticks": "",
            "zerolinecolor": "white"
           }
          },
          "shapedefaults": {
           "line": {
            "color": "#2a3f5f"
           }
          },
          "ternary": {
           "aaxis": {
            "gridcolor": "white",
            "linecolor": "white",
            "ticks": ""
           },
           "baxis": {
            "gridcolor": "white",
            "linecolor": "white",
            "ticks": ""
           },
           "bgcolor": "#E5ECF6",
           "caxis": {
            "gridcolor": "white",
            "linecolor": "white",
            "ticks": ""
           }
          },
          "title": {
           "x": 0.05
          },
          "xaxis": {
           "automargin": true,
           "gridcolor": "white",
           "linecolor": "white",
           "ticks": "",
           "title": {
            "standoff": 15
           },
           "zerolinecolor": "white",
           "zerolinewidth": 2
          },
          "yaxis": {
           "automargin": true,
           "gridcolor": "white",
           "linecolor": "white",
           "ticks": "",
           "title": {
            "standoff": 15
           },
           "zerolinecolor": "white",
           "zerolinewidth": 2
          }
         }
        },
        "title": {
         "text": "Geluk vs sociale media gebruik van jongvolwassenen door de jaren heen"
        },
        "xaxis": {
         "gridcolor": "lightgray",
         "rangeselector": {
          "buttons": [
           {
            "count": 1,
            "label": "1y",
            "step": "year",
            "stepmode": "backward"
           },
           {
            "count": 5,
            "label": "5y",
            "step": "year",
            "stepmode": "backward"
           },
           {
            "step": "all"
           }
          ]
         },
         "rangeslider": {
          "visible": true
         },
         "title": {
          "text": "Jaren"
         },
         "type": "date"
        },
        "yaxis": {
         "gridcolor": "lightgray",
         "range": [
          0,
          1
         ],
         "tickformat": ",.0%",
         "title": {
          "text": "Percentage mensen"
         }
        }
       }
      },
      "text/html": [
       "<div>                            <div id=\"020a2ab9-9445-46fb-acf3-c0f0b0a4ad29\" class=\"plotly-graph-div\" style=\"height:525px; width:100%;\"></div>            <script type=\"text/javascript\">                require([\"plotly\"], function(Plotly) {                    window.PLOTLYENV=window.PLOTLYENV || {};                                    if (document.getElementById(\"020a2ab9-9445-46fb-acf3-c0f0b0a4ad29\")) {                    Plotly.newPlot(                        \"020a2ab9-9445-46fb-acf3-c0f0b0a4ad29\",                        [{\"legendgroup\":\"Gebruik van sociale media door jongvolwassenen\",\"marker\":{\"color\":\"#147db1\"},\"name\":\"Gebruik van sociale media door jongvolwassenen\",\"x\":[1997,1998,1999,2000,2001,2002,2003,2004,2005,2006,2007,2008,2009,2010,2011,2012,2013,2014,2015,2016,2017,2018,2019,2020,2021],\"y\":[null,null,null,null,null,null,null,null,0.115,0.41,null,0.638,0.717,0.777,0.805,0.845,0.877,0.84,0.9,0.86,null,0.88,0.9,null,0.84],\"type\":\"bar\"},{\"legendgroup\":\"Geluk jongvolwassenen\",\"marker\":{\"color\":\"#3a4f6d\"},\"name\":\"Geluk jongvolwassenen\",\"x\":[1997,1998,1999,2000,2001,2002,2003,2004,2005,2006,2007,2008,2009,2010,2011,2012,2013,2014,2015,2016,2017,2018,2019,2020,2021],\"y\":[0.911,0.909,0.898,0.908,0.909,0.887,0.907,0.906,0.876,0.905,0.898,0.914,0.9,0.888,0.894,0.904,0.9,0.896,0.887,0.885,0.875,0.858,0.875,0.838,0.809],\"type\":\"bar\"}],                        {\"font\":{\"color\":\"Black\",\"family\":\"Georgia\"},\"paper_bgcolor\":\"white\",\"plot_bgcolor\":\"white\",\"title\":{\"text\":\"Geluk vs sociale media gebruik van jongvolwassenen door de jaren heen\"},\"xaxis\":{\"gridcolor\":\"lightgray\",\"title\":{\"text\":\"Jaren\"},\"rangeslider\":{\"visible\":true},\"rangeselector\":{\"buttons\":[{\"count\":1,\"label\":\"1y\",\"step\":\"year\",\"stepmode\":\"backward\"},{\"count\":5,\"label\":\"5y\",\"step\":\"year\",\"stepmode\":\"backward\"},{\"step\":\"all\"}]},\"type\":\"date\"},\"yaxis\":{\"gridcolor\":\"lightgray\",\"range\":[0,1],\"tickformat\":\",.0%\",\"title\":{\"text\":\"Percentage mensen\"}},\"template\":{\"data\":{\"histogram2dcontour\":[{\"type\":\"histogram2dcontour\",\"colorbar\":{\"outlinewidth\":0,\"ticks\":\"\"},\"colorscale\":[[0.0,\"#0d0887\"],[0.1111111111111111,\"#46039f\"],[0.2222222222222222,\"#7201a8\"],[0.3333333333333333,\"#9c179e\"],[0.4444444444444444,\"#bd3786\"],[0.5555555555555556,\"#d8576b\"],[0.6666666666666666,\"#ed7953\"],[0.7777777777777778,\"#fb9f3a\"],[0.8888888888888888,\"#fdca26\"],[1.0,\"#f0f921\"]]}],\"choropleth\":[{\"type\":\"choropleth\",\"colorbar\":{\"outlinewidth\":0,\"ticks\":\"\"}}],\"histogram2d\":[{\"type\":\"histogram2d\",\"colorbar\":{\"outlinewidth\":0,\"ticks\":\"\"},\"colorscale\":[[0.0,\"#0d0887\"],[0.1111111111111111,\"#46039f\"],[0.2222222222222222,\"#7201a8\"],[0.3333333333333333,\"#9c179e\"],[0.4444444444444444,\"#bd3786\"],[0.5555555555555556,\"#d8576b\"],[0.6666666666666666,\"#ed7953\"],[0.7777777777777778,\"#fb9f3a\"],[0.8888888888888888,\"#fdca26\"],[1.0,\"#f0f921\"]]}],\"heatmap\":[{\"type\":\"heatmap\",\"colorbar\":{\"outlinewidth\":0,\"ticks\":\"\"},\"colorscale\":[[0.0,\"#0d0887\"],[0.1111111111111111,\"#46039f\"],[0.2222222222222222,\"#7201a8\"],[0.3333333333333333,\"#9c179e\"],[0.4444444444444444,\"#bd3786\"],[0.5555555555555556,\"#d8576b\"],[0.6666666666666666,\"#ed7953\"],[0.7777777777777778,\"#fb9f3a\"],[0.8888888888888888,\"#fdca26\"],[1.0,\"#f0f921\"]]}],\"heatmapgl\":[{\"type\":\"heatmapgl\",\"colorbar\":{\"outlinewidth\":0,\"ticks\":\"\"},\"colorscale\":[[0.0,\"#0d0887\"],[0.1111111111111111,\"#46039f\"],[0.2222222222222222,\"#7201a8\"],[0.3333333333333333,\"#9c179e\"],[0.4444444444444444,\"#bd3786\"],[0.5555555555555556,\"#d8576b\"],[0.6666666666666666,\"#ed7953\"],[0.7777777777777778,\"#fb9f3a\"],[0.8888888888888888,\"#fdca26\"],[1.0,\"#f0f921\"]]}],\"contourcarpet\":[{\"type\":\"contourcarpet\",\"colorbar\":{\"outlinewidth\":0,\"ticks\":\"\"}}],\"contour\":[{\"type\":\"contour\",\"colorbar\":{\"outlinewidth\":0,\"ticks\":\"\"},\"colorscale\":[[0.0,\"#0d0887\"],[0.1111111111111111,\"#46039f\"],[0.2222222222222222,\"#7201a8\"],[0.3333333333333333,\"#9c179e\"],[0.4444444444444444,\"#bd3786\"],[0.5555555555555556,\"#d8576b\"],[0.6666666666666666,\"#ed7953\"],[0.7777777777777778,\"#fb9f3a\"],[0.8888888888888888,\"#fdca26\"],[1.0,\"#f0f921\"]]}],\"surface\":[{\"type\":\"surface\",\"colorbar\":{\"outlinewidth\":0,\"ticks\":\"\"},\"colorscale\":[[0.0,\"#0d0887\"],[0.1111111111111111,\"#46039f\"],[0.2222222222222222,\"#7201a8\"],[0.3333333333333333,\"#9c179e\"],[0.4444444444444444,\"#bd3786\"],[0.5555555555555556,\"#d8576b\"],[0.6666666666666666,\"#ed7953\"],[0.7777777777777778,\"#fb9f3a\"],[0.8888888888888888,\"#fdca26\"],[1.0,\"#f0f921\"]]}],\"mesh3d\":[{\"type\":\"mesh3d\",\"colorbar\":{\"outlinewidth\":0,\"ticks\":\"\"}}],\"scatter\":[{\"fillpattern\":{\"fillmode\":\"overlay\",\"size\":10,\"solidity\":0.2},\"type\":\"scatter\"}],\"parcoords\":[{\"type\":\"parcoords\",\"line\":{\"colorbar\":{\"outlinewidth\":0,\"ticks\":\"\"}}}],\"scatterpolargl\":[{\"type\":\"scatterpolargl\",\"marker\":{\"colorbar\":{\"outlinewidth\":0,\"ticks\":\"\"}}}],\"bar\":[{\"error_x\":{\"color\":\"#2a3f5f\"},\"error_y\":{\"color\":\"#2a3f5f\"},\"marker\":{\"line\":{\"color\":\"#E5ECF6\",\"width\":0.5},\"pattern\":{\"fillmode\":\"overlay\",\"size\":10,\"solidity\":0.2}},\"type\":\"bar\"}],\"scattergeo\":[{\"type\":\"scattergeo\",\"marker\":{\"colorbar\":{\"outlinewidth\":0,\"ticks\":\"\"}}}],\"scatterpolar\":[{\"type\":\"scatterpolar\",\"marker\":{\"colorbar\":{\"outlinewidth\":0,\"ticks\":\"\"}}}],\"histogram\":[{\"marker\":{\"pattern\":{\"fillmode\":\"overlay\",\"size\":10,\"solidity\":0.2}},\"type\":\"histogram\"}],\"scattergl\":[{\"type\":\"scattergl\",\"marker\":{\"colorbar\":{\"outlinewidth\":0,\"ticks\":\"\"}}}],\"scatter3d\":[{\"type\":\"scatter3d\",\"line\":{\"colorbar\":{\"outlinewidth\":0,\"ticks\":\"\"}},\"marker\":{\"colorbar\":{\"outlinewidth\":0,\"ticks\":\"\"}}}],\"scattermapbox\":[{\"type\":\"scattermapbox\",\"marker\":{\"colorbar\":{\"outlinewidth\":0,\"ticks\":\"\"}}}],\"scatterternary\":[{\"type\":\"scatterternary\",\"marker\":{\"colorbar\":{\"outlinewidth\":0,\"ticks\":\"\"}}}],\"scattercarpet\":[{\"type\":\"scattercarpet\",\"marker\":{\"colorbar\":{\"outlinewidth\":0,\"ticks\":\"\"}}}],\"carpet\":[{\"aaxis\":{\"endlinecolor\":\"#2a3f5f\",\"gridcolor\":\"white\",\"linecolor\":\"white\",\"minorgridcolor\":\"white\",\"startlinecolor\":\"#2a3f5f\"},\"baxis\":{\"endlinecolor\":\"#2a3f5f\",\"gridcolor\":\"white\",\"linecolor\":\"white\",\"minorgridcolor\":\"white\",\"startlinecolor\":\"#2a3f5f\"},\"type\":\"carpet\"}],\"table\":[{\"cells\":{\"fill\":{\"color\":\"#EBF0F8\"},\"line\":{\"color\":\"white\"}},\"header\":{\"fill\":{\"color\":\"#C8D4E3\"},\"line\":{\"color\":\"white\"}},\"type\":\"table\"}],\"barpolar\":[{\"marker\":{\"line\":{\"color\":\"#E5ECF6\",\"width\":0.5},\"pattern\":{\"fillmode\":\"overlay\",\"size\":10,\"solidity\":0.2}},\"type\":\"barpolar\"}],\"pie\":[{\"automargin\":true,\"type\":\"pie\"}]},\"layout\":{\"autotypenumbers\":\"strict\",\"colorway\":[\"#636efa\",\"#EF553B\",\"#00cc96\",\"#ab63fa\",\"#FFA15A\",\"#19d3f3\",\"#FF6692\",\"#B6E880\",\"#FF97FF\",\"#FECB52\"],\"font\":{\"color\":\"#2a3f5f\"},\"hovermode\":\"closest\",\"hoverlabel\":{\"align\":\"left\"},\"paper_bgcolor\":\"white\",\"plot_bgcolor\":\"#E5ECF6\",\"polar\":{\"bgcolor\":\"#E5ECF6\",\"angularaxis\":{\"gridcolor\":\"white\",\"linecolor\":\"white\",\"ticks\":\"\"},\"radialaxis\":{\"gridcolor\":\"white\",\"linecolor\":\"white\",\"ticks\":\"\"}},\"ternary\":{\"bgcolor\":\"#E5ECF6\",\"aaxis\":{\"gridcolor\":\"white\",\"linecolor\":\"white\",\"ticks\":\"\"},\"baxis\":{\"gridcolor\":\"white\",\"linecolor\":\"white\",\"ticks\":\"\"},\"caxis\":{\"gridcolor\":\"white\",\"linecolor\":\"white\",\"ticks\":\"\"}},\"coloraxis\":{\"colorbar\":{\"outlinewidth\":0,\"ticks\":\"\"}},\"colorscale\":{\"sequential\":[[0.0,\"#0d0887\"],[0.1111111111111111,\"#46039f\"],[0.2222222222222222,\"#7201a8\"],[0.3333333333333333,\"#9c179e\"],[0.4444444444444444,\"#bd3786\"],[0.5555555555555556,\"#d8576b\"],[0.6666666666666666,\"#ed7953\"],[0.7777777777777778,\"#fb9f3a\"],[0.8888888888888888,\"#fdca26\"],[1.0,\"#f0f921\"]],\"sequentialminus\":[[0.0,\"#0d0887\"],[0.1111111111111111,\"#46039f\"],[0.2222222222222222,\"#7201a8\"],[0.3333333333333333,\"#9c179e\"],[0.4444444444444444,\"#bd3786\"],[0.5555555555555556,\"#d8576b\"],[0.6666666666666666,\"#ed7953\"],[0.7777777777777778,\"#fb9f3a\"],[0.8888888888888888,\"#fdca26\"],[1.0,\"#f0f921\"]],\"diverging\":[[0,\"#8e0152\"],[0.1,\"#c51b7d\"],[0.2,\"#de77ae\"],[0.3,\"#f1b6da\"],[0.4,\"#fde0ef\"],[0.5,\"#f7f7f7\"],[0.6,\"#e6f5d0\"],[0.7,\"#b8e186\"],[0.8,\"#7fbc41\"],[0.9,\"#4d9221\"],[1,\"#276419\"]]},\"xaxis\":{\"gridcolor\":\"white\",\"linecolor\":\"white\",\"ticks\":\"\",\"title\":{\"standoff\":15},\"zerolinecolor\":\"white\",\"automargin\":true,\"zerolinewidth\":2},\"yaxis\":{\"gridcolor\":\"white\",\"linecolor\":\"white\",\"ticks\":\"\",\"title\":{\"standoff\":15},\"zerolinecolor\":\"white\",\"automargin\":true,\"zerolinewidth\":2},\"scene\":{\"xaxis\":{\"backgroundcolor\":\"#E5ECF6\",\"gridcolor\":\"white\",\"linecolor\":\"white\",\"showbackground\":true,\"ticks\":\"\",\"zerolinecolor\":\"white\",\"gridwidth\":2},\"yaxis\":{\"backgroundcolor\":\"#E5ECF6\",\"gridcolor\":\"white\",\"linecolor\":\"white\",\"showbackground\":true,\"ticks\":\"\",\"zerolinecolor\":\"white\",\"gridwidth\":2},\"zaxis\":{\"backgroundcolor\":\"#E5ECF6\",\"gridcolor\":\"white\",\"linecolor\":\"white\",\"showbackground\":true,\"ticks\":\"\",\"zerolinecolor\":\"white\",\"gridwidth\":2}},\"shapedefaults\":{\"line\":{\"color\":\"#2a3f5f\"}},\"annotationdefaults\":{\"arrowcolor\":\"#2a3f5f\",\"arrowhead\":0,\"arrowwidth\":1},\"geo\":{\"bgcolor\":\"white\",\"landcolor\":\"#E5ECF6\",\"subunitcolor\":\"white\",\"showland\":true,\"showlakes\":true,\"lakecolor\":\"white\"},\"title\":{\"x\":0.05},\"mapbox\":{\"style\":\"light\"}}},\"annotations\":[{\"showarrow\":false,\"text\":\"Op de x-axis is de tijd te zien in jaren. Op de y-axis is het percentage mensen te zien dat zich gelukkig voelt\\u003cbr\\u003e en sociale media gebruikt. Hieruit is af te lezen dat het geluk daalt sinds naarmate het sociale media gebruik toenam.\",\"x\":0.5,\"xref\":\"paper\",\"y\":-0.57,\"yref\":\"paper\"}]},                        {\"responsive\": true}                    ).then(function(){\n",
       "                            \n",
       "var gd = document.getElementById('020a2ab9-9445-46fb-acf3-c0f0b0a4ad29');\n",
       "var x = new MutationObserver(function (mutations, observer) {{\n",
       "        var display = window.getComputedStyle(gd).display;\n",
       "        if (!display || display === 'none') {{\n",
       "            console.log([gd, 'removed!']);\n",
       "            Plotly.purge(gd);\n",
       "            observer.disconnect();\n",
       "        }}\n",
       "}});\n",
       "\n",
       "// Listen for the removal of the full notebook cells\n",
       "var notebookContainer = gd.closest('#notebook-container');\n",
       "if (notebookContainer) {{\n",
       "    x.observe(notebookContainer, {childList: true});\n",
       "}}\n",
       "\n",
       "// Listen for the clearing of the current output cell\n",
       "var outputEl = gd.closest('.output');\n",
       "if (outputEl) {{\n",
       "    x.observe(outputEl, {childList: true});\n",
       "}}\n",
       "\n",
       "                        })                };                });            </script>        </div>"
      ]
     },
     "metadata": {},
     "output_type": "display_data"
    }
   ],
   "source": [
    "data = [\n",
    "    go.Bar(x = cr['Category'],\n",
    "          y = cr['18-29'],\n",
    "          name = 'Gebruik van sociale media door jongvolwassenen',\n",
    "          legendgroup = 'Gebruik van sociale media door jongvolwassenen',\n",
    "          marker = dict(color = '#147db1')\n",
    "          ),\n",
    "    go.Bar(x = cr['Category'],\n",
    "          y = cr['Geluk, 18 tot 25 jaar'],\n",
    "          name = 'Geluk jongvolwassenen',\n",
    "          legendgroup = 'Geluk jongvolwassenen',\n",
    "          marker = dict(color = '#3a4f6d')\n",
    "          )\n",
    "]\n",
    "\n",
    "x_layout = go.Layout(title = 'Geluk vs sociale media gebruik van jongvolwassenen door de jaren heen',\n",
    "                    xaxis = dict(title = 'Jaren', \n",
    "                                gridcolor = 'lightgray'\n",
    "                                ),\n",
    "                    yaxis = dict(title = 'Percentage mensen', \n",
    "                                 tickformat = ',.0%',\n",
    "                                range = [0, 1],\n",
    "                                gridcolor = 'lightgray'),\n",
    "                    font = dict(family = 'Georgia', \n",
    "                                color = 'Black'),\n",
    "                    plot_bgcolor = 'white',\n",
    "                    paper_bgcolor = 'white' \n",
    "                    )\n",
    "\n",
    "x_figure = go.Figure(data = data, layout = x_layout)\n",
    "\n",
    "x_figure.update_layout(\n",
    "    xaxis=dict(\n",
    "        rangeselector=dict(\n",
    "            buttons=list([\n",
    "                dict(count=1,\n",
    "                     label=\"1y\",\n",
    "                     step=\"year\",\n",
    "                     stepmode=\"backward\"),\n",
    "                dict(count=5,\n",
    "                     label=\"5y\",\n",
    "                     step=\"year\",\n",
    "                     stepmode=\"backward\"),\n",
    "                dict(step=\"all\")\n",
    "            ])\n",
    "        ),\n",
    "        rangeslider=dict(\n",
    "            visible=True\n",
    "        ),\n",
    "        type=\"date\"\n",
    "    )\n",
    ")\n",
    "\n",
    "x_figure.add_annotation(\n",
    "    xref=\"paper\", yref=\"paper\",\n",
    "    x=0.5, y=-0.57,\n",
    "    text=\"Op de x-axis is de tijd te zien in jaren. Op de y-axis is het percentage mensen te zien dat zich gelukkig voelt<br> en sociale media gebruikt. Hieruit is af te lezen dat het geluk daalt sinds naarmate het sociale media gebruik toenam.\",\n",
    "    showarrow=False,\n",
    ")\n",
    "\n",
    "x_figure.show()"
   ]
  },
  {
   "cell_type": "markdown",
   "id": "02ab715b",
   "metadata": {},
   "source": [
    "**Uitleg:** De volgende dataset (https://opendata.cbs.nl/statline/portal.html?_la=nl&_catalog=CBS&tableId=81487ned&_theme=16) geeft het aantal banen weer van werknemers die tot maximaal 130% van het voor zijn of haar leeftijd geldende wettelijk minimumloon of minder verdienen.\n",
    "\n",
    "aan Deze werkgelegenheidstabel bevat gegevens over het aantal banen van werknemers, die tot maximaal 130% van het voor zijn of haar leeftijd geldende wettelijk minimumloon of minder verdienen. De gegevens zijn verder uit te splitsen naar diverse kenmerken van de werknemer (geslacht, leeftijd of nationaliteit) en cao-sector (SBI 2008). \n",
    "\n",
    "<br>\n",
    "<br>\n",
    "**Preprocessing:** "
   ]
  },
  {
   "cell_type": "code",
   "execution_count": 10,
   "id": "7fe65c98",
   "metadata": {},
   "outputs": [
    {
     "data": {
      "text/html": [
       "<div>\n",
       "<style scoped>\n",
       "    .dataframe tbody tr th:only-of-type {\n",
       "        vertical-align: middle;\n",
       "    }\n",
       "\n",
       "    .dataframe tbody tr th {\n",
       "        vertical-align: top;\n",
       "    }\n",
       "\n",
       "    .dataframe thead th {\n",
       "        text-align: right;\n",
       "    }\n",
       "</style>\n",
       "<table border=\"1\" class=\"dataframe\">\n",
       "  <thead>\n",
       "    <tr style=\"text-align: right;\">\n",
       "      <th></th>\n",
       "      <th>ID</th>\n",
       "      <th>KenmerkenWerknemer</th>\n",
       "      <th>CaoSector</th>\n",
       "      <th>Perioden</th>\n",
       "      <th>TotaalBanen_1</th>\n",
       "    </tr>\n",
       "  </thead>\n",
       "  <tbody>\n",
       "    <tr>\n",
       "      <th>0</th>\n",
       "      <td>0</td>\n",
       "      <td>T001006</td>\n",
       "      <td>T001020</td>\n",
       "      <td>2009</td>\n",
       "      <td>7818.7</td>\n",
       "    </tr>\n",
       "    <tr>\n",
       "      <th>1</th>\n",
       "      <td>1</td>\n",
       "      <td>T001006</td>\n",
       "      <td>T001020</td>\n",
       "      <td>2010</td>\n",
       "      <td>7859.8</td>\n",
       "    </tr>\n",
       "    <tr>\n",
       "      <th>2</th>\n",
       "      <td>2</td>\n",
       "      <td>T001006</td>\n",
       "      <td>T001020</td>\n",
       "      <td>2011</td>\n",
       "      <td>7926.8</td>\n",
       "    </tr>\n",
       "    <tr>\n",
       "      <th>3</th>\n",
       "      <td>3</td>\n",
       "      <td>T001006</td>\n",
       "      <td>T001020</td>\n",
       "      <td>2012</td>\n",
       "      <td>7872.1</td>\n",
       "    </tr>\n",
       "    <tr>\n",
       "      <th>4</th>\n",
       "      <td>4</td>\n",
       "      <td>T001006</td>\n",
       "      <td>T001020</td>\n",
       "      <td>2013</td>\n",
       "      <td>7745.8</td>\n",
       "    </tr>\n",
       "    <tr>\n",
       "      <th>5</th>\n",
       "      <td>5</td>\n",
       "      <td>T001006</td>\n",
       "      <td>T001020</td>\n",
       "      <td>2014</td>\n",
       "      <td>7706.0</td>\n",
       "    </tr>\n",
       "    <tr>\n",
       "      <th>6</th>\n",
       "      <td>6</td>\n",
       "      <td>T001006</td>\n",
       "      <td>T001020</td>\n",
       "      <td>2015</td>\n",
       "      <td>7782.5</td>\n",
       "    </tr>\n",
       "    <tr>\n",
       "      <th>7</th>\n",
       "      <td>7</td>\n",
       "      <td>T001006</td>\n",
       "      <td>T001020</td>\n",
       "      <td>2016</td>\n",
       "      <td>7892.5</td>\n",
       "    </tr>\n",
       "    <tr>\n",
       "      <th>8</th>\n",
       "      <td>8</td>\n",
       "      <td>T001006</td>\n",
       "      <td>T001020</td>\n",
       "      <td>2017</td>\n",
       "      <td>8096.0</td>\n",
       "    </tr>\n",
       "    <tr>\n",
       "      <th>9</th>\n",
       "      <td>9</td>\n",
       "      <td>T001006</td>\n",
       "      <td>T001020</td>\n",
       "      <td>2018</td>\n",
       "      <td>8324.2</td>\n",
       "    </tr>\n",
       "    <tr>\n",
       "      <th>10</th>\n",
       "      <td>10</td>\n",
       "      <td>T001006</td>\n",
       "      <td>T001020</td>\n",
       "      <td>2019</td>\n",
       "      <td>8500.5</td>\n",
       "    </tr>\n",
       "    <tr>\n",
       "      <th>11</th>\n",
       "      <td>11</td>\n",
       "      <td>T001006</td>\n",
       "      <td>T001020</td>\n",
       "      <td>2020</td>\n",
       "      <td>8390.8</td>\n",
       "    </tr>\n",
       "    <tr>\n",
       "      <th>12</th>\n",
       "      <td>12</td>\n",
       "      <td>T001006</td>\n",
       "      <td>T001020</td>\n",
       "      <td>2021</td>\n",
       "      <td>8561.0</td>\n",
       "    </tr>\n",
       "  </tbody>\n",
       "</table>\n",
       "</div>"
      ],
      "text/plain": [
       "    ID KenmerkenWerknemer CaoSector  Perioden  TotaalBanen_1\n",
       "0    0            T001006   T001020      2009         7818.7\n",
       "1    1            T001006   T001020      2010         7859.8\n",
       "2    2            T001006   T001020      2011         7926.8\n",
       "3    3            T001006   T001020      2012         7872.1\n",
       "4    4            T001006   T001020      2013         7745.8\n",
       "5    5            T001006   T001020      2014         7706.0\n",
       "6    6            T001006   T001020      2015         7782.5\n",
       "7    7            T001006   T001020      2016         7892.5\n",
       "8    8            T001006   T001020      2017         8096.0\n",
       "9    9            T001006   T001020      2018         8324.2\n",
       "10  10            T001006   T001020      2019         8500.5\n",
       "11  11            T001006   T001020      2020         8390.8\n",
       "12  12            T001006   T001020      2021         8561.0"
      ]
     },
     "execution_count": 10,
     "metadata": {},
     "output_type": "execute_result"
    }
   ],
   "source": [
    "werk = pd.read_csv('plswerk.csv', sep = ';')\n",
    "werk"
   ]
  },
  {
   "cell_type": "code",
   "execution_count": 43,
   "id": "386a7352",
   "metadata": {
    "scrolled": false
   },
   "outputs": [
    {
     "data": {
      "application/vnd.plotly.v1+json": {
       "config": {
        "plotlyServerURL": "https://plot.ly"
       },
       "data": [
        {
         "marker": {
          "color": "#3a4f6d"
         },
         "type": "scatter",
         "x": [
          2014,
          2015,
          2016,
          2017,
          2018,
          2019,
          2020,
          2021
         ],
         "y": [
          7706,
          7782.5,
          7892.5,
          8096,
          8324.2,
          8500.5,
          8390.8,
          8561
         ]
        }
       ],
       "layout": {
        "annotations": [
         {
          "showarrow": false,
          "text": "Op de x-axis is de tijd in jaren weergegeven. Op de y-axis is het aantal banen weergegeven in Nederland.<br> Hieruit is af te lezen dat het aantal banen in Nederland is gestegen.",
          "x": 0.5,
          "xref": "paper",
          "y": -0.22,
          "yref": "paper"
         }
        ],
        "font": {
         "color": "Black",
         "family": "Georgia"
        },
        "paper_bgcolor": "white",
        "plot_bgcolor": "white",
        "template": {
         "data": {
          "bar": [
           {
            "error_x": {
             "color": "#2a3f5f"
            },
            "error_y": {
             "color": "#2a3f5f"
            },
            "marker": {
             "line": {
              "color": "#E5ECF6",
              "width": 0.5
             },
             "pattern": {
              "fillmode": "overlay",
              "size": 10,
              "solidity": 0.2
             }
            },
            "type": "bar"
           }
          ],
          "barpolar": [
           {
            "marker": {
             "line": {
              "color": "#E5ECF6",
              "width": 0.5
             },
             "pattern": {
              "fillmode": "overlay",
              "size": 10,
              "solidity": 0.2
             }
            },
            "type": "barpolar"
           }
          ],
          "carpet": [
           {
            "aaxis": {
             "endlinecolor": "#2a3f5f",
             "gridcolor": "white",
             "linecolor": "white",
             "minorgridcolor": "white",
             "startlinecolor": "#2a3f5f"
            },
            "baxis": {
             "endlinecolor": "#2a3f5f",
             "gridcolor": "white",
             "linecolor": "white",
             "minorgridcolor": "white",
             "startlinecolor": "#2a3f5f"
            },
            "type": "carpet"
           }
          ],
          "choropleth": [
           {
            "colorbar": {
             "outlinewidth": 0,
             "ticks": ""
            },
            "type": "choropleth"
           }
          ],
          "contour": [
           {
            "colorbar": {
             "outlinewidth": 0,
             "ticks": ""
            },
            "colorscale": [
             [
              0,
              "#0d0887"
             ],
             [
              0.1111111111111111,
              "#46039f"
             ],
             [
              0.2222222222222222,
              "#7201a8"
             ],
             [
              0.3333333333333333,
              "#9c179e"
             ],
             [
              0.4444444444444444,
              "#bd3786"
             ],
             [
              0.5555555555555556,
              "#d8576b"
             ],
             [
              0.6666666666666666,
              "#ed7953"
             ],
             [
              0.7777777777777778,
              "#fb9f3a"
             ],
             [
              0.8888888888888888,
              "#fdca26"
             ],
             [
              1,
              "#f0f921"
             ]
            ],
            "type": "contour"
           }
          ],
          "contourcarpet": [
           {
            "colorbar": {
             "outlinewidth": 0,
             "ticks": ""
            },
            "type": "contourcarpet"
           }
          ],
          "heatmap": [
           {
            "colorbar": {
             "outlinewidth": 0,
             "ticks": ""
            },
            "colorscale": [
             [
              0,
              "#0d0887"
             ],
             [
              0.1111111111111111,
              "#46039f"
             ],
             [
              0.2222222222222222,
              "#7201a8"
             ],
             [
              0.3333333333333333,
              "#9c179e"
             ],
             [
              0.4444444444444444,
              "#bd3786"
             ],
             [
              0.5555555555555556,
              "#d8576b"
             ],
             [
              0.6666666666666666,
              "#ed7953"
             ],
             [
              0.7777777777777778,
              "#fb9f3a"
             ],
             [
              0.8888888888888888,
              "#fdca26"
             ],
             [
              1,
              "#f0f921"
             ]
            ],
            "type": "heatmap"
           }
          ],
          "heatmapgl": [
           {
            "colorbar": {
             "outlinewidth": 0,
             "ticks": ""
            },
            "colorscale": [
             [
              0,
              "#0d0887"
             ],
             [
              0.1111111111111111,
              "#46039f"
             ],
             [
              0.2222222222222222,
              "#7201a8"
             ],
             [
              0.3333333333333333,
              "#9c179e"
             ],
             [
              0.4444444444444444,
              "#bd3786"
             ],
             [
              0.5555555555555556,
              "#d8576b"
             ],
             [
              0.6666666666666666,
              "#ed7953"
             ],
             [
              0.7777777777777778,
              "#fb9f3a"
             ],
             [
              0.8888888888888888,
              "#fdca26"
             ],
             [
              1,
              "#f0f921"
             ]
            ],
            "type": "heatmapgl"
           }
          ],
          "histogram": [
           {
            "marker": {
             "pattern": {
              "fillmode": "overlay",
              "size": 10,
              "solidity": 0.2
             }
            },
            "type": "histogram"
           }
          ],
          "histogram2d": [
           {
            "colorbar": {
             "outlinewidth": 0,
             "ticks": ""
            },
            "colorscale": [
             [
              0,
              "#0d0887"
             ],
             [
              0.1111111111111111,
              "#46039f"
             ],
             [
              0.2222222222222222,
              "#7201a8"
             ],
             [
              0.3333333333333333,
              "#9c179e"
             ],
             [
              0.4444444444444444,
              "#bd3786"
             ],
             [
              0.5555555555555556,
              "#d8576b"
             ],
             [
              0.6666666666666666,
              "#ed7953"
             ],
             [
              0.7777777777777778,
              "#fb9f3a"
             ],
             [
              0.8888888888888888,
              "#fdca26"
             ],
             [
              1,
              "#f0f921"
             ]
            ],
            "type": "histogram2d"
           }
          ],
          "histogram2dcontour": [
           {
            "colorbar": {
             "outlinewidth": 0,
             "ticks": ""
            },
            "colorscale": [
             [
              0,
              "#0d0887"
             ],
             [
              0.1111111111111111,
              "#46039f"
             ],
             [
              0.2222222222222222,
              "#7201a8"
             ],
             [
              0.3333333333333333,
              "#9c179e"
             ],
             [
              0.4444444444444444,
              "#bd3786"
             ],
             [
              0.5555555555555556,
              "#d8576b"
             ],
             [
              0.6666666666666666,
              "#ed7953"
             ],
             [
              0.7777777777777778,
              "#fb9f3a"
             ],
             [
              0.8888888888888888,
              "#fdca26"
             ],
             [
              1,
              "#f0f921"
             ]
            ],
            "type": "histogram2dcontour"
           }
          ],
          "mesh3d": [
           {
            "colorbar": {
             "outlinewidth": 0,
             "ticks": ""
            },
            "type": "mesh3d"
           }
          ],
          "parcoords": [
           {
            "line": {
             "colorbar": {
              "outlinewidth": 0,
              "ticks": ""
             }
            },
            "type": "parcoords"
           }
          ],
          "pie": [
           {
            "automargin": true,
            "type": "pie"
           }
          ],
          "scatter": [
           {
            "fillpattern": {
             "fillmode": "overlay",
             "size": 10,
             "solidity": 0.2
            },
            "type": "scatter"
           }
          ],
          "scatter3d": [
           {
            "line": {
             "colorbar": {
              "outlinewidth": 0,
              "ticks": ""
             }
            },
            "marker": {
             "colorbar": {
              "outlinewidth": 0,
              "ticks": ""
             }
            },
            "type": "scatter3d"
           }
          ],
          "scattercarpet": [
           {
            "marker": {
             "colorbar": {
              "outlinewidth": 0,
              "ticks": ""
             }
            },
            "type": "scattercarpet"
           }
          ],
          "scattergeo": [
           {
            "marker": {
             "colorbar": {
              "outlinewidth": 0,
              "ticks": ""
             }
            },
            "type": "scattergeo"
           }
          ],
          "scattergl": [
           {
            "marker": {
             "colorbar": {
              "outlinewidth": 0,
              "ticks": ""
             }
            },
            "type": "scattergl"
           }
          ],
          "scattermapbox": [
           {
            "marker": {
             "colorbar": {
              "outlinewidth": 0,
              "ticks": ""
             }
            },
            "type": "scattermapbox"
           }
          ],
          "scatterpolar": [
           {
            "marker": {
             "colorbar": {
              "outlinewidth": 0,
              "ticks": ""
             }
            },
            "type": "scatterpolar"
           }
          ],
          "scatterpolargl": [
           {
            "marker": {
             "colorbar": {
              "outlinewidth": 0,
              "ticks": ""
             }
            },
            "type": "scatterpolargl"
           }
          ],
          "scatterternary": [
           {
            "marker": {
             "colorbar": {
              "outlinewidth": 0,
              "ticks": ""
             }
            },
            "type": "scatterternary"
           }
          ],
          "surface": [
           {
            "colorbar": {
             "outlinewidth": 0,
             "ticks": ""
            },
            "colorscale": [
             [
              0,
              "#0d0887"
             ],
             [
              0.1111111111111111,
              "#46039f"
             ],
             [
              0.2222222222222222,
              "#7201a8"
             ],
             [
              0.3333333333333333,
              "#9c179e"
             ],
             [
              0.4444444444444444,
              "#bd3786"
             ],
             [
              0.5555555555555556,
              "#d8576b"
             ],
             [
              0.6666666666666666,
              "#ed7953"
             ],
             [
              0.7777777777777778,
              "#fb9f3a"
             ],
             [
              0.8888888888888888,
              "#fdca26"
             ],
             [
              1,
              "#f0f921"
             ]
            ],
            "type": "surface"
           }
          ],
          "table": [
           {
            "cells": {
             "fill": {
              "color": "#EBF0F8"
             },
             "line": {
              "color": "white"
             }
            },
            "header": {
             "fill": {
              "color": "#C8D4E3"
             },
             "line": {
              "color": "white"
             }
            },
            "type": "table"
           }
          ]
         },
         "layout": {
          "annotationdefaults": {
           "arrowcolor": "#2a3f5f",
           "arrowhead": 0,
           "arrowwidth": 1
          },
          "autotypenumbers": "strict",
          "coloraxis": {
           "colorbar": {
            "outlinewidth": 0,
            "ticks": ""
           }
          },
          "colorscale": {
           "diverging": [
            [
             0,
             "#8e0152"
            ],
            [
             0.1,
             "#c51b7d"
            ],
            [
             0.2,
             "#de77ae"
            ],
            [
             0.3,
             "#f1b6da"
            ],
            [
             0.4,
             "#fde0ef"
            ],
            [
             0.5,
             "#f7f7f7"
            ],
            [
             0.6,
             "#e6f5d0"
            ],
            [
             0.7,
             "#b8e186"
            ],
            [
             0.8,
             "#7fbc41"
            ],
            [
             0.9,
             "#4d9221"
            ],
            [
             1,
             "#276419"
            ]
           ],
           "sequential": [
            [
             0,
             "#0d0887"
            ],
            [
             0.1111111111111111,
             "#46039f"
            ],
            [
             0.2222222222222222,
             "#7201a8"
            ],
            [
             0.3333333333333333,
             "#9c179e"
            ],
            [
             0.4444444444444444,
             "#bd3786"
            ],
            [
             0.5555555555555556,
             "#d8576b"
            ],
            [
             0.6666666666666666,
             "#ed7953"
            ],
            [
             0.7777777777777778,
             "#fb9f3a"
            ],
            [
             0.8888888888888888,
             "#fdca26"
            ],
            [
             1,
             "#f0f921"
            ]
           ],
           "sequentialminus": [
            [
             0,
             "#0d0887"
            ],
            [
             0.1111111111111111,
             "#46039f"
            ],
            [
             0.2222222222222222,
             "#7201a8"
            ],
            [
             0.3333333333333333,
             "#9c179e"
            ],
            [
             0.4444444444444444,
             "#bd3786"
            ],
            [
             0.5555555555555556,
             "#d8576b"
            ],
            [
             0.6666666666666666,
             "#ed7953"
            ],
            [
             0.7777777777777778,
             "#fb9f3a"
            ],
            [
             0.8888888888888888,
             "#fdca26"
            ],
            [
             1,
             "#f0f921"
            ]
           ]
          },
          "colorway": [
           "#636efa",
           "#EF553B",
           "#00cc96",
           "#ab63fa",
           "#FFA15A",
           "#19d3f3",
           "#FF6692",
           "#B6E880",
           "#FF97FF",
           "#FECB52"
          ],
          "font": {
           "color": "#2a3f5f"
          },
          "geo": {
           "bgcolor": "white",
           "lakecolor": "white",
           "landcolor": "#E5ECF6",
           "showlakes": true,
           "showland": true,
           "subunitcolor": "white"
          },
          "hoverlabel": {
           "align": "left"
          },
          "hovermode": "closest",
          "mapbox": {
           "style": "light"
          },
          "paper_bgcolor": "white",
          "plot_bgcolor": "#E5ECF6",
          "polar": {
           "angularaxis": {
            "gridcolor": "white",
            "linecolor": "white",
            "ticks": ""
           },
           "bgcolor": "#E5ECF6",
           "radialaxis": {
            "gridcolor": "white",
            "linecolor": "white",
            "ticks": ""
           }
          },
          "scene": {
           "xaxis": {
            "backgroundcolor": "#E5ECF6",
            "gridcolor": "white",
            "gridwidth": 2,
            "linecolor": "white",
            "showbackground": true,
            "ticks": "",
            "zerolinecolor": "white"
           },
           "yaxis": {
            "backgroundcolor": "#E5ECF6",
            "gridcolor": "white",
            "gridwidth": 2,
            "linecolor": "white",
            "showbackground": true,
            "ticks": "",
            "zerolinecolor": "white"
           },
           "zaxis": {
            "backgroundcolor": "#E5ECF6",
            "gridcolor": "white",
            "gridwidth": 2,
            "linecolor": "white",
            "showbackground": true,
            "ticks": "",
            "zerolinecolor": "white"
           }
          },
          "shapedefaults": {
           "line": {
            "color": "#2a3f5f"
           }
          },
          "ternary": {
           "aaxis": {
            "gridcolor": "white",
            "linecolor": "white",
            "ticks": ""
           },
           "baxis": {
            "gridcolor": "white",
            "linecolor": "white",
            "ticks": ""
           },
           "bgcolor": "#E5ECF6",
           "caxis": {
            "gridcolor": "white",
            "linecolor": "white",
            "ticks": ""
           }
          },
          "title": {
           "x": 0.05
          },
          "xaxis": {
           "automargin": true,
           "gridcolor": "white",
           "linecolor": "white",
           "ticks": "",
           "title": {
            "standoff": 15
           },
           "zerolinecolor": "white",
           "zerolinewidth": 2
          },
          "yaxis": {
           "automargin": true,
           "gridcolor": "white",
           "linecolor": "white",
           "ticks": "",
           "title": {
            "standoff": 15
           },
           "zerolinecolor": "white",
           "zerolinewidth": 2
          }
         }
        },
        "title": {
         "text": "Groei aantal banen Nederland 2014 - 2021"
        },
        "xaxis": {
         "gridcolor": "gray",
         "title": {
          "text": "Tijd in jaren"
         }
        },
        "yaxis": {
         "gridcolor": "gray",
         "title": {
          "text": "Aantal banen x1000"
         }
        }
       }
      },
      "text/html": [
       "<div>                            <div id=\"3738065c-aab3-403f-9d39-293ddfedd178\" class=\"plotly-graph-div\" style=\"height:525px; width:100%;\"></div>            <script type=\"text/javascript\">                require([\"plotly\"], function(Plotly) {                    window.PLOTLYENV=window.PLOTLYENV || {};                                    if (document.getElementById(\"3738065c-aab3-403f-9d39-293ddfedd178\")) {                    Plotly.newPlot(                        \"3738065c-aab3-403f-9d39-293ddfedd178\",                        [{\"marker\":{\"color\":\"#3a4f6d\"},\"x\":[2014,2015,2016,2017,2018,2019,2020,2021],\"y\":[7706.0,7782.5,7892.5,8096.0,8324.2,8500.5,8390.8,8561.0],\"type\":\"scatter\"}],                        {\"font\":{\"color\":\"Black\",\"family\":\"Georgia\"},\"paper_bgcolor\":\"white\",\"plot_bgcolor\":\"white\",\"title\":{\"text\":\"Groei aantal banen Nederland 2014 - 2021\"},\"xaxis\":{\"gridcolor\":\"gray\",\"title\":{\"text\":\"Tijd in jaren\"}},\"yaxis\":{\"gridcolor\":\"gray\",\"title\":{\"text\":\"Aantal banen x1000\"}},\"template\":{\"data\":{\"histogram2dcontour\":[{\"type\":\"histogram2dcontour\",\"colorbar\":{\"outlinewidth\":0,\"ticks\":\"\"},\"colorscale\":[[0.0,\"#0d0887\"],[0.1111111111111111,\"#46039f\"],[0.2222222222222222,\"#7201a8\"],[0.3333333333333333,\"#9c179e\"],[0.4444444444444444,\"#bd3786\"],[0.5555555555555556,\"#d8576b\"],[0.6666666666666666,\"#ed7953\"],[0.7777777777777778,\"#fb9f3a\"],[0.8888888888888888,\"#fdca26\"],[1.0,\"#f0f921\"]]}],\"choropleth\":[{\"type\":\"choropleth\",\"colorbar\":{\"outlinewidth\":0,\"ticks\":\"\"}}],\"histogram2d\":[{\"type\":\"histogram2d\",\"colorbar\":{\"outlinewidth\":0,\"ticks\":\"\"},\"colorscale\":[[0.0,\"#0d0887\"],[0.1111111111111111,\"#46039f\"],[0.2222222222222222,\"#7201a8\"],[0.3333333333333333,\"#9c179e\"],[0.4444444444444444,\"#bd3786\"],[0.5555555555555556,\"#d8576b\"],[0.6666666666666666,\"#ed7953\"],[0.7777777777777778,\"#fb9f3a\"],[0.8888888888888888,\"#fdca26\"],[1.0,\"#f0f921\"]]}],\"heatmap\":[{\"type\":\"heatmap\",\"colorbar\":{\"outlinewidth\":0,\"ticks\":\"\"},\"colorscale\":[[0.0,\"#0d0887\"],[0.1111111111111111,\"#46039f\"],[0.2222222222222222,\"#7201a8\"],[0.3333333333333333,\"#9c179e\"],[0.4444444444444444,\"#bd3786\"],[0.5555555555555556,\"#d8576b\"],[0.6666666666666666,\"#ed7953\"],[0.7777777777777778,\"#fb9f3a\"],[0.8888888888888888,\"#fdca26\"],[1.0,\"#f0f921\"]]}],\"heatmapgl\":[{\"type\":\"heatmapgl\",\"colorbar\":{\"outlinewidth\":0,\"ticks\":\"\"},\"colorscale\":[[0.0,\"#0d0887\"],[0.1111111111111111,\"#46039f\"],[0.2222222222222222,\"#7201a8\"],[0.3333333333333333,\"#9c179e\"],[0.4444444444444444,\"#bd3786\"],[0.5555555555555556,\"#d8576b\"],[0.6666666666666666,\"#ed7953\"],[0.7777777777777778,\"#fb9f3a\"],[0.8888888888888888,\"#fdca26\"],[1.0,\"#f0f921\"]]}],\"contourcarpet\":[{\"type\":\"contourcarpet\",\"colorbar\":{\"outlinewidth\":0,\"ticks\":\"\"}}],\"contour\":[{\"type\":\"contour\",\"colorbar\":{\"outlinewidth\":0,\"ticks\":\"\"},\"colorscale\":[[0.0,\"#0d0887\"],[0.1111111111111111,\"#46039f\"],[0.2222222222222222,\"#7201a8\"],[0.3333333333333333,\"#9c179e\"],[0.4444444444444444,\"#bd3786\"],[0.5555555555555556,\"#d8576b\"],[0.6666666666666666,\"#ed7953\"],[0.7777777777777778,\"#fb9f3a\"],[0.8888888888888888,\"#fdca26\"],[1.0,\"#f0f921\"]]}],\"surface\":[{\"type\":\"surface\",\"colorbar\":{\"outlinewidth\":0,\"ticks\":\"\"},\"colorscale\":[[0.0,\"#0d0887\"],[0.1111111111111111,\"#46039f\"],[0.2222222222222222,\"#7201a8\"],[0.3333333333333333,\"#9c179e\"],[0.4444444444444444,\"#bd3786\"],[0.5555555555555556,\"#d8576b\"],[0.6666666666666666,\"#ed7953\"],[0.7777777777777778,\"#fb9f3a\"],[0.8888888888888888,\"#fdca26\"],[1.0,\"#f0f921\"]]}],\"mesh3d\":[{\"type\":\"mesh3d\",\"colorbar\":{\"outlinewidth\":0,\"ticks\":\"\"}}],\"scatter\":[{\"fillpattern\":{\"fillmode\":\"overlay\",\"size\":10,\"solidity\":0.2},\"type\":\"scatter\"}],\"parcoords\":[{\"type\":\"parcoords\",\"line\":{\"colorbar\":{\"outlinewidth\":0,\"ticks\":\"\"}}}],\"scatterpolargl\":[{\"type\":\"scatterpolargl\",\"marker\":{\"colorbar\":{\"outlinewidth\":0,\"ticks\":\"\"}}}],\"bar\":[{\"error_x\":{\"color\":\"#2a3f5f\"},\"error_y\":{\"color\":\"#2a3f5f\"},\"marker\":{\"line\":{\"color\":\"#E5ECF6\",\"width\":0.5},\"pattern\":{\"fillmode\":\"overlay\",\"size\":10,\"solidity\":0.2}},\"type\":\"bar\"}],\"scattergeo\":[{\"type\":\"scattergeo\",\"marker\":{\"colorbar\":{\"outlinewidth\":0,\"ticks\":\"\"}}}],\"scatterpolar\":[{\"type\":\"scatterpolar\",\"marker\":{\"colorbar\":{\"outlinewidth\":0,\"ticks\":\"\"}}}],\"histogram\":[{\"marker\":{\"pattern\":{\"fillmode\":\"overlay\",\"size\":10,\"solidity\":0.2}},\"type\":\"histogram\"}],\"scattergl\":[{\"type\":\"scattergl\",\"marker\":{\"colorbar\":{\"outlinewidth\":0,\"ticks\":\"\"}}}],\"scatter3d\":[{\"type\":\"scatter3d\",\"line\":{\"colorbar\":{\"outlinewidth\":0,\"ticks\":\"\"}},\"marker\":{\"colorbar\":{\"outlinewidth\":0,\"ticks\":\"\"}}}],\"scattermapbox\":[{\"type\":\"scattermapbox\",\"marker\":{\"colorbar\":{\"outlinewidth\":0,\"ticks\":\"\"}}}],\"scatterternary\":[{\"type\":\"scatterternary\",\"marker\":{\"colorbar\":{\"outlinewidth\":0,\"ticks\":\"\"}}}],\"scattercarpet\":[{\"type\":\"scattercarpet\",\"marker\":{\"colorbar\":{\"outlinewidth\":0,\"ticks\":\"\"}}}],\"carpet\":[{\"aaxis\":{\"endlinecolor\":\"#2a3f5f\",\"gridcolor\":\"white\",\"linecolor\":\"white\",\"minorgridcolor\":\"white\",\"startlinecolor\":\"#2a3f5f\"},\"baxis\":{\"endlinecolor\":\"#2a3f5f\",\"gridcolor\":\"white\",\"linecolor\":\"white\",\"minorgridcolor\":\"white\",\"startlinecolor\":\"#2a3f5f\"},\"type\":\"carpet\"}],\"table\":[{\"cells\":{\"fill\":{\"color\":\"#EBF0F8\"},\"line\":{\"color\":\"white\"}},\"header\":{\"fill\":{\"color\":\"#C8D4E3\"},\"line\":{\"color\":\"white\"}},\"type\":\"table\"}],\"barpolar\":[{\"marker\":{\"line\":{\"color\":\"#E5ECF6\",\"width\":0.5},\"pattern\":{\"fillmode\":\"overlay\",\"size\":10,\"solidity\":0.2}},\"type\":\"barpolar\"}],\"pie\":[{\"automargin\":true,\"type\":\"pie\"}]},\"layout\":{\"autotypenumbers\":\"strict\",\"colorway\":[\"#636efa\",\"#EF553B\",\"#00cc96\",\"#ab63fa\",\"#FFA15A\",\"#19d3f3\",\"#FF6692\",\"#B6E880\",\"#FF97FF\",\"#FECB52\"],\"font\":{\"color\":\"#2a3f5f\"},\"hovermode\":\"closest\",\"hoverlabel\":{\"align\":\"left\"},\"paper_bgcolor\":\"white\",\"plot_bgcolor\":\"#E5ECF6\",\"polar\":{\"bgcolor\":\"#E5ECF6\",\"angularaxis\":{\"gridcolor\":\"white\",\"linecolor\":\"white\",\"ticks\":\"\"},\"radialaxis\":{\"gridcolor\":\"white\",\"linecolor\":\"white\",\"ticks\":\"\"}},\"ternary\":{\"bgcolor\":\"#E5ECF6\",\"aaxis\":{\"gridcolor\":\"white\",\"linecolor\":\"white\",\"ticks\":\"\"},\"baxis\":{\"gridcolor\":\"white\",\"linecolor\":\"white\",\"ticks\":\"\"},\"caxis\":{\"gridcolor\":\"white\",\"linecolor\":\"white\",\"ticks\":\"\"}},\"coloraxis\":{\"colorbar\":{\"outlinewidth\":0,\"ticks\":\"\"}},\"colorscale\":{\"sequential\":[[0.0,\"#0d0887\"],[0.1111111111111111,\"#46039f\"],[0.2222222222222222,\"#7201a8\"],[0.3333333333333333,\"#9c179e\"],[0.4444444444444444,\"#bd3786\"],[0.5555555555555556,\"#d8576b\"],[0.6666666666666666,\"#ed7953\"],[0.7777777777777778,\"#fb9f3a\"],[0.8888888888888888,\"#fdca26\"],[1.0,\"#f0f921\"]],\"sequentialminus\":[[0.0,\"#0d0887\"],[0.1111111111111111,\"#46039f\"],[0.2222222222222222,\"#7201a8\"],[0.3333333333333333,\"#9c179e\"],[0.4444444444444444,\"#bd3786\"],[0.5555555555555556,\"#d8576b\"],[0.6666666666666666,\"#ed7953\"],[0.7777777777777778,\"#fb9f3a\"],[0.8888888888888888,\"#fdca26\"],[1.0,\"#f0f921\"]],\"diverging\":[[0,\"#8e0152\"],[0.1,\"#c51b7d\"],[0.2,\"#de77ae\"],[0.3,\"#f1b6da\"],[0.4,\"#fde0ef\"],[0.5,\"#f7f7f7\"],[0.6,\"#e6f5d0\"],[0.7,\"#b8e186\"],[0.8,\"#7fbc41\"],[0.9,\"#4d9221\"],[1,\"#276419\"]]},\"xaxis\":{\"gridcolor\":\"white\",\"linecolor\":\"white\",\"ticks\":\"\",\"title\":{\"standoff\":15},\"zerolinecolor\":\"white\",\"automargin\":true,\"zerolinewidth\":2},\"yaxis\":{\"gridcolor\":\"white\",\"linecolor\":\"white\",\"ticks\":\"\",\"title\":{\"standoff\":15},\"zerolinecolor\":\"white\",\"automargin\":true,\"zerolinewidth\":2},\"scene\":{\"xaxis\":{\"backgroundcolor\":\"#E5ECF6\",\"gridcolor\":\"white\",\"linecolor\":\"white\",\"showbackground\":true,\"ticks\":\"\",\"zerolinecolor\":\"white\",\"gridwidth\":2},\"yaxis\":{\"backgroundcolor\":\"#E5ECF6\",\"gridcolor\":\"white\",\"linecolor\":\"white\",\"showbackground\":true,\"ticks\":\"\",\"zerolinecolor\":\"white\",\"gridwidth\":2},\"zaxis\":{\"backgroundcolor\":\"#E5ECF6\",\"gridcolor\":\"white\",\"linecolor\":\"white\",\"showbackground\":true,\"ticks\":\"\",\"zerolinecolor\":\"white\",\"gridwidth\":2}},\"shapedefaults\":{\"line\":{\"color\":\"#2a3f5f\"}},\"annotationdefaults\":{\"arrowcolor\":\"#2a3f5f\",\"arrowhead\":0,\"arrowwidth\":1},\"geo\":{\"bgcolor\":\"white\",\"landcolor\":\"#E5ECF6\",\"subunitcolor\":\"white\",\"showland\":true,\"showlakes\":true,\"lakecolor\":\"white\"},\"title\":{\"x\":0.05},\"mapbox\":{\"style\":\"light\"}}},\"annotations\":[{\"showarrow\":false,\"text\":\"Op de x-axis is de tijd in jaren weergegeven. Op de y-axis is het aantal banen weergegeven in Nederland.\\u003cbr\\u003e Hieruit is af te lezen dat het aantal banen in Nederland is gestegen.\",\"x\":0.5,\"xref\":\"paper\",\"y\":-0.22,\"yref\":\"paper\"}]},                        {\"responsive\": true}                    ).then(function(){\n",
       "                            \n",
       "var gd = document.getElementById('3738065c-aab3-403f-9d39-293ddfedd178');\n",
       "var x = new MutationObserver(function (mutations, observer) {{\n",
       "        var display = window.getComputedStyle(gd).display;\n",
       "        if (!display || display === 'none') {{\n",
       "            console.log([gd, 'removed!']);\n",
       "            Plotly.purge(gd);\n",
       "            observer.disconnect();\n",
       "        }}\n",
       "}});\n",
       "\n",
       "// Listen for the removal of the full notebook cells\n",
       "var notebookContainer = gd.closest('#notebook-container');\n",
       "if (notebookContainer) {{\n",
       "    x.observe(notebookContainer, {childList: true});\n",
       "}}\n",
       "\n",
       "// Listen for the clearing of the current output cell\n",
       "var outputEl = gd.closest('.output');\n",
       "if (outputEl) {{\n",
       "    x.observe(outputEl, {childList: true});\n",
       "}}\n",
       "\n",
       "                        })                };                });            </script>        </div>"
      ]
     },
     "metadata": {},
     "output_type": "display_data"
    }
   ],
   "source": [
    "import plotly.graph_objects as go\n",
    "\n",
    "start_year = 2014\n",
    "end_year = 2021\n",
    "selected_data = werk[(werk['Perioden'] >= start_year) & (werk['Perioden'] <= end_year)]\n",
    "\n",
    "werkd = go.Scatter(x=selected_data['Perioden'], \n",
    "                   y=selected_data['TotaalBanen_1'],\n",
    "                   marker = dict(color = '#3a4f6d'))\n",
    "\n",
    "werklayout = go.Layout(\n",
    "    title='Groei aantal banen Nederland 2014 - 2021',\n",
    "    xaxis=dict(title='Tijd in jaren', gridcolor='gray'),\n",
    "    yaxis=dict(title='Aantal banen x1000', gridcolor='gray'),\n",
    "    paper_bgcolor='white',\n",
    "    plot_bgcolor='white',\n",
    "    font=dict(family='Georgia', color='Black')\n",
    ")\n",
    "\n",
    "werkfigure = go.Figure(data=werkd, layout=werklayout)\n",
    "\n",
    "werkfigure.add_annotation(\n",
    "    xref=\"paper\", yref=\"paper\",\n",
    "    x=0.5, y=-0.22,\n",
    "    text=\"Op de x-axis is de tijd in jaren weergegeven. Op de y-axis is het aantal banen weergegeven in Nederland.<br> Hieruit is af te lezen dat het aantal banen in Nederland is gestegen.\",\n",
    "    showarrow=False,\n",
    ")\n",
    "\n",
    "werkfigure.show()\n"
   ]
  },
  {
   "cell_type": "code",
   "execution_count": 12,
   "id": "c546174a",
   "metadata": {
    "scrolled": false
   },
   "outputs": [
    {
     "data": {
      "text/html": [
       "<div>\n",
       "<style scoped>\n",
       "    .dataframe tbody tr th:only-of-type {\n",
       "        vertical-align: middle;\n",
       "    }\n",
       "\n",
       "    .dataframe tbody tr th {\n",
       "        vertical-align: top;\n",
       "    }\n",
       "\n",
       "    .dataframe thead th {\n",
       "        text-align: right;\n",
       "    }\n",
       "</style>\n",
       "<table border=\"1\" class=\"dataframe\">\n",
       "  <thead>\n",
       "    <tr style=\"text-align: right;\">\n",
       "      <th></th>\n",
       "      <th>Date</th>\n",
       "      <th>\"Revenue ($bn)\"</th>\n",
       "    </tr>\n",
       "  </thead>\n",
       "  <tbody>\n",
       "    <tr>\n",
       "      <th>0</th>\n",
       "      <td>2010</td>\n",
       "      <td>0.24</td>\n",
       "    </tr>\n",
       "    <tr>\n",
       "      <th>1</th>\n",
       "      <td>2011</td>\n",
       "      <td>0.52</td>\n",
       "    </tr>\n",
       "    <tr>\n",
       "      <th>2</th>\n",
       "      <td>2012</td>\n",
       "      <td>0.97</td>\n",
       "    </tr>\n",
       "    <tr>\n",
       "      <th>3</th>\n",
       "      <td>2013</td>\n",
       "      <td>1.52</td>\n",
       "    </tr>\n",
       "    <tr>\n",
       "      <th>4</th>\n",
       "      <td>2014</td>\n",
       "      <td>2.21</td>\n",
       "    </tr>\n",
       "    <tr>\n",
       "      <th>5</th>\n",
       "      <td>2015</td>\n",
       "      <td>2.98</td>\n",
       "    </tr>\n",
       "    <tr>\n",
       "      <th>6</th>\n",
       "      <td>2016</td>\n",
       "      <td>2.97</td>\n",
       "    </tr>\n",
       "    <tr>\n",
       "      <th>7</th>\n",
       "      <td>2017</td>\n",
       "      <td>4.50</td>\n",
       "    </tr>\n",
       "    <tr>\n",
       "      <th>8</th>\n",
       "      <td>2018</td>\n",
       "      <td>6.02</td>\n",
       "    </tr>\n",
       "    <tr>\n",
       "      <th>9</th>\n",
       "      <td>2019</td>\n",
       "      <td>7.13</td>\n",
       "    </tr>\n",
       "    <tr>\n",
       "      <th>10</th>\n",
       "      <td>2020</td>\n",
       "      <td>8.37</td>\n",
       "    </tr>\n",
       "    <tr>\n",
       "      <th>11</th>\n",
       "      <td>2021</td>\n",
       "      <td>11.56</td>\n",
       "    </tr>\n",
       "    <tr>\n",
       "      <th>12</th>\n",
       "      <td>2022</td>\n",
       "      <td>14.59</td>\n",
       "    </tr>\n",
       "  </tbody>\n",
       "</table>\n",
       "</div>"
      ],
      "text/plain": [
       "    Date   \"Revenue ($bn)\"\n",
       "0   2010              0.24\n",
       "1   2011              0.52\n",
       "2   2012              0.97\n",
       "3   2013              1.52\n",
       "4   2014              2.21\n",
       "5   2015              2.98\n",
       "6   2016              2.97\n",
       "7   2017              4.50\n",
       "8   2018              6.02\n",
       "9   2019              7.13\n",
       "10  2020              8.37\n",
       "11  2021             11.56\n",
       "12  2022             14.59"
      ]
     },
     "execution_count": 12,
     "metadata": {},
     "output_type": "execute_result"
    }
   ],
   "source": [
    "link = pd.read_csv('LinkDin.csv')\n",
    "link"
   ]
  },
  {
   "cell_type": "markdown",
   "id": "d9c96e43",
   "metadata": {},
   "source": [
    "Age-usage.csv gemiddelde gepakt vanaf 2022 per leeftijd vanwege gebrek aan data"
   ]
  },
  {
   "cell_type": "markdown",
   "id": "5f2ac434",
   "metadata": {},
   "source": [
    "## Werkverdeling\n",
    "* Introductie: Lex\n",
    "* Argumenten:\n",
    "  * Argument 1:\n",
    "    * Visualisatie: Simon\n",
    "    * Geschreven: Chen\n",
    "    * Bedacht: Chen\n",
    "  * Argument 2:\n",
    "    * Visualisatie: Simon\n",
    "    * Geschreven: Chen\n",
    "    * Bedacht: Chen\n",
    "  * Argument 3:\n",
    "    * Visualisatie: Chen\n",
    "    * Geschreven: Chen\n",
    "    * Bedacht: Chen\n",
    "  * Argument 4:\n",
    "    * Visualisatie: Lex\n",
    "    * Geschreven: Lex\n",
    "    * Bedacht: Lex\n",
    "  * Argument 5:\n",
    "    * Visualisatie: \n",
    "    * Geschreven: \n",
    "    * Bedacht: \n",
    "  * Argument 6:\n",
    "    * Visualisatie: \n",
    "    * Geschreven: \n",
    "    * Bedacht: \n",
    "* Perspectieven: Lex\n",
    "* Reflectie: Chen, Lex, Simon\n",
    "* Werkverdeling: Simon"
   ]
  },
  {
   "cell_type": "code",
   "execution_count": null,
   "id": "661468f7",
   "metadata": {},
   "outputs": [],
   "source": []
  }
 ],
 "metadata": {
  "celltoolbar": "Geen",
  "kernelspec": {
   "display_name": "Python 3 (ipykernel)",
   "language": "python",
   "name": "python3"
  },
  "language_info": {
   "codemirror_mode": {
    "name": "ipython",
    "version": 3
   },
   "file_extension": ".py",
   "mimetype": "text/x-python",
   "name": "python",
   "nbconvert_exporter": "python",
   "pygments_lexer": "ipython3",
   "version": "3.11.0"
  }
 },
 "nbformat": 4,
 "nbformat_minor": 5
}
