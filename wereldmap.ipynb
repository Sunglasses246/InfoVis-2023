{
 "cells": [
  {
   "cell_type": "code",
   "execution_count": 2,
   "id": "d35cd192",
   "metadata": {},
   "outputs": [],
   "source": [
    "import pandas as pd\n",
    "import plotly.graph_objects as go"
   ]
  },
  {
   "cell_type": "code",
   "execution_count": 6,
   "id": "03ccd1f0",
   "metadata": {
    "scrolled": false
   },
   "outputs": [
    {
     "data": {
      "application/vnd.plotly.v1+json": {
       "config": {
        "plotlyServerURL": "https://plot.ly"
       },
       "data": [
        {
         "colorbar": {
          "title": {
           "text": "% Kinderen die<br>cyberbullying ervaren"
          }
         },
         "colorscale": [
          [
           0,
           "rgb(255,245,240)"
          ],
          [
           0.125,
           "rgb(254,224,210)"
          ],
          [
           0.25,
           "rgb(252,187,161)"
          ],
          [
           0.375,
           "rgb(252,146,114)"
          ],
          [
           0.5,
           "rgb(251,106,74)"
          ],
          [
           0.625,
           "rgb(239,59,44)"
          ],
          [
           0.75,
           "rgb(203,24,29)"
          ],
          [
           0.875,
           "rgb(165,15,21)"
          ],
          [
           1,
           "rgb(103,0,13)"
          ]
         ],
         "locations": [
          "IND",
          "BRA",
          "USA",
          "BEL",
          "ZAF",
          "MYS",
          "SWE",
          "CAN",
          "TUR",
          "SAU",
          "AUS",
          "MEX",
          "GBR",
          "CHN",
          "SRB",
          "DEU",
          "ARG",
          "PER",
          "KOR",
          "ITA",
          "POL",
          "ROU",
          "HUN",
          "ESP",
          "FRA",
          "CHL",
          "JPN",
          "RUS"
         ],
         "text": [
          "India",
          "Brazilië",
          "Verenigde Staten",
          "België",
          "Zuid-Afrika",
          "Maleisië",
          "Zweden",
          "Canada",
          "Turkije",
          "Saudi-Arabië",
          "Australië",
          "Mexico",
          "Verenigd Koninkrijk",
          "China",
          "Servië",
          "Duitsland",
          "Argentinië",
          "Peru",
          "Zuid-Korea",
          "Italië",
          "Polen",
          "Roemenië",
          "Hongarije",
          "Spanje",
          "Frankrijk",
          "Chili",
          "Japan",
          "Rusland"
         ],
         "type": "choropleth",
         "z": [
          37,
          29,
          26,
          25,
          26,
          23,
          23,
          20,
          20,
          19,
          19,
          18,
          18,
          17,
          16,
          14,
          14,
          14,
          13,
          12,
          12,
          11,
          10,
          9,
          9,
          8,
          5,
          1
         ]
        },
        {
         "colorbar": {
          "title": {
           "text": "% Kinderen die<br>cyberbullying ervaren"
          }
         },
         "colorscale": [
          [
           0,
           "rgb(255,245,240)"
          ],
          [
           0.125,
           "rgb(254,224,210)"
          ],
          [
           0.25,
           "rgb(252,187,161)"
          ],
          [
           0.375,
           "rgb(252,146,114)"
          ],
          [
           0.5,
           "rgb(251,106,74)"
          ],
          [
           0.625,
           "rgb(239,59,44)"
          ],
          [
           0.75,
           "rgb(203,24,29)"
          ],
          [
           0.875,
           "rgb(165,15,21)"
          ],
          [
           1,
           "rgb(103,0,13)"
          ]
         ],
         "locations": [
          "IND",
          "BRA",
          "USA",
          "BEL",
          "ZAF",
          "MYS",
          "SWE",
          "CAN",
          "TUR",
          "SAU",
          "AUS",
          "MEX",
          "GBR",
          "CHN",
          "SRB",
          "DEU",
          "ARG",
          "PER",
          "KOR",
          "ITA",
          "POL",
          "ROU",
          "HUN",
          "ESP",
          "FRA",
          "CHL",
          "JPN",
          "RUS"
         ],
         "text": [
          "India",
          "Brazilië",
          "Verenigde Staten",
          "België",
          "Zuid-Afrika",
          "Maleisië",
          "Zweden",
          "Canada",
          "Turkije",
          "Saudi-Arabië",
          "Australië",
          "Mexico",
          "Verenigd Koninkrijk",
          "China",
          "Servië",
          "Duitsland",
          "Argentinië",
          "Peru",
          "Zuid-Korea",
          "Italië",
          "Polen",
          "Roemenië",
          "Hongarije",
          "Spanje",
          "Frankrijk",
          "Chili",
          "Japan",
          "Rusland"
         ],
         "type": "choropleth",
         "visible": false,
         "z": [
          " 32",
          "19",
          "34",
          "13",
          "25",
          "--",
          "20",
          "17",
          "14",
          "17",
          "20",
          "20",
          "15",
          "20",
          "--",
          "9",
          "10",
          "13",
          "9",
          "11",
          "18",
          "--",
          "11",
          "10",
          "7",
          "--",
          "7",
          "9"
         ]
        },
        {
         "colorbar": {
          "title": {
           "text": "% Kinderen die<br>cyberbullying ervaren"
          }
         },
         "colorscale": [
          [
           0,
           "rgb(255,245,240)"
          ],
          [
           0.125,
           "rgb(254,224,210)"
          ],
          [
           0.25,
           "rgb(252,187,161)"
          ],
          [
           0.375,
           "rgb(252,146,114)"
          ],
          [
           0.5,
           "rgb(251,106,74)"
          ],
          [
           0.625,
           "rgb(239,59,44)"
          ],
          [
           0.75,
           "rgb(203,24,29)"
          ],
          [
           0.875,
           "rgb(165,15,21)"
          ],
          [
           1,
           "rgb(103,0,13)"
          ]
         ],
         "locations": [
          "IND",
          "BRA",
          "USA",
          "BEL",
          "ZAF",
          "MYS",
          "SWE",
          "CAN",
          "TUR",
          "SAU",
          "AUS",
          "MEX",
          "GBR",
          "CHN",
          "SRB",
          "DEU",
          "ARG",
          "PER",
          "KOR",
          "ITA",
          "POL",
          "ROU",
          "HUN",
          "ESP",
          "FRA",
          "CHL",
          "JPN",
          "RUS"
         ],
         "text": [
          "India",
          "Brazilië",
          "Verenigde Staten",
          "België",
          "Zuid-Afrika",
          "Maleisië",
          "Zweden",
          "Canada",
          "Turkije",
          "Saudi-Arabië",
          "Australië",
          "Mexico",
          "Verenigd Koninkrijk",
          "China",
          "Servië",
          "Duitsland",
          "Argentinië",
          "Peru",
          "Zuid-Korea",
          "Italië",
          "Polen",
          "Roemenië",
          "Hongarije",
          "Spanje",
          "Frankrijk",
          "Chili",
          "Japan",
          "Rusland"
         ],
         "type": "choropleth",
         "visible": false,
         "z": [
          " 32",
          "20",
          "15",
          "12",
          "10",
          "--",
          "14",
          "18",
          "5",
          "18",
          "13",
          "8",
          "11",
          "11",
          "--",
          "7",
          "9",
          "--",
          "8",
          "3",
          "12",
          "--",
          "7",
          "5",
          "5",
          "--",
          "7",
          "5"
         ]
        }
       ],
       "layout": {
        "font": {
         "color": "Black",
         "family": "Georgia"
        },
        "paper_bgcolor": "white",
        "plot_bgcolor": "white",
        "template": {
         "data": {
          "bar": [
           {
            "error_x": {
             "color": "#2a3f5f"
            },
            "error_y": {
             "color": "#2a3f5f"
            },
            "marker": {
             "line": {
              "color": "#E5ECF6",
              "width": 0.5
             },
             "pattern": {
              "fillmode": "overlay",
              "size": 10,
              "solidity": 0.2
             }
            },
            "type": "bar"
           }
          ],
          "barpolar": [
           {
            "marker": {
             "line": {
              "color": "#E5ECF6",
              "width": 0.5
             },
             "pattern": {
              "fillmode": "overlay",
              "size": 10,
              "solidity": 0.2
             }
            },
            "type": "barpolar"
           }
          ],
          "carpet": [
           {
            "aaxis": {
             "endlinecolor": "#2a3f5f",
             "gridcolor": "white",
             "linecolor": "white",
             "minorgridcolor": "white",
             "startlinecolor": "#2a3f5f"
            },
            "baxis": {
             "endlinecolor": "#2a3f5f",
             "gridcolor": "white",
             "linecolor": "white",
             "minorgridcolor": "white",
             "startlinecolor": "#2a3f5f"
            },
            "type": "carpet"
           }
          ],
          "choropleth": [
           {
            "colorbar": {
             "outlinewidth": 0,
             "ticks": ""
            },
            "type": "choropleth"
           }
          ],
          "contour": [
           {
            "colorbar": {
             "outlinewidth": 0,
             "ticks": ""
            },
            "colorscale": [
             [
              0,
              "#0d0887"
             ],
             [
              0.1111111111111111,
              "#46039f"
             ],
             [
              0.2222222222222222,
              "#7201a8"
             ],
             [
              0.3333333333333333,
              "#9c179e"
             ],
             [
              0.4444444444444444,
              "#bd3786"
             ],
             [
              0.5555555555555556,
              "#d8576b"
             ],
             [
              0.6666666666666666,
              "#ed7953"
             ],
             [
              0.7777777777777778,
              "#fb9f3a"
             ],
             [
              0.8888888888888888,
              "#fdca26"
             ],
             [
              1,
              "#f0f921"
             ]
            ],
            "type": "contour"
           }
          ],
          "contourcarpet": [
           {
            "colorbar": {
             "outlinewidth": 0,
             "ticks": ""
            },
            "type": "contourcarpet"
           }
          ],
          "heatmap": [
           {
            "colorbar": {
             "outlinewidth": 0,
             "ticks": ""
            },
            "colorscale": [
             [
              0,
              "#0d0887"
             ],
             [
              0.1111111111111111,
              "#46039f"
             ],
             [
              0.2222222222222222,
              "#7201a8"
             ],
             [
              0.3333333333333333,
              "#9c179e"
             ],
             [
              0.4444444444444444,
              "#bd3786"
             ],
             [
              0.5555555555555556,
              "#d8576b"
             ],
             [
              0.6666666666666666,
              "#ed7953"
             ],
             [
              0.7777777777777778,
              "#fb9f3a"
             ],
             [
              0.8888888888888888,
              "#fdca26"
             ],
             [
              1,
              "#f0f921"
             ]
            ],
            "type": "heatmap"
           }
          ],
          "heatmapgl": [
           {
            "colorbar": {
             "outlinewidth": 0,
             "ticks": ""
            },
            "colorscale": [
             [
              0,
              "#0d0887"
             ],
             [
              0.1111111111111111,
              "#46039f"
             ],
             [
              0.2222222222222222,
              "#7201a8"
             ],
             [
              0.3333333333333333,
              "#9c179e"
             ],
             [
              0.4444444444444444,
              "#bd3786"
             ],
             [
              0.5555555555555556,
              "#d8576b"
             ],
             [
              0.6666666666666666,
              "#ed7953"
             ],
             [
              0.7777777777777778,
              "#fb9f3a"
             ],
             [
              0.8888888888888888,
              "#fdca26"
             ],
             [
              1,
              "#f0f921"
             ]
            ],
            "type": "heatmapgl"
           }
          ],
          "histogram": [
           {
            "marker": {
             "pattern": {
              "fillmode": "overlay",
              "size": 10,
              "solidity": 0.2
             }
            },
            "type": "histogram"
           }
          ],
          "histogram2d": [
           {
            "colorbar": {
             "outlinewidth": 0,
             "ticks": ""
            },
            "colorscale": [
             [
              0,
              "#0d0887"
             ],
             [
              0.1111111111111111,
              "#46039f"
             ],
             [
              0.2222222222222222,
              "#7201a8"
             ],
             [
              0.3333333333333333,
              "#9c179e"
             ],
             [
              0.4444444444444444,
              "#bd3786"
             ],
             [
              0.5555555555555556,
              "#d8576b"
             ],
             [
              0.6666666666666666,
              "#ed7953"
             ],
             [
              0.7777777777777778,
              "#fb9f3a"
             ],
             [
              0.8888888888888888,
              "#fdca26"
             ],
             [
              1,
              "#f0f921"
             ]
            ],
            "type": "histogram2d"
           }
          ],
          "histogram2dcontour": [
           {
            "colorbar": {
             "outlinewidth": 0,
             "ticks": ""
            },
            "colorscale": [
             [
              0,
              "#0d0887"
             ],
             [
              0.1111111111111111,
              "#46039f"
             ],
             [
              0.2222222222222222,
              "#7201a8"
             ],
             [
              0.3333333333333333,
              "#9c179e"
             ],
             [
              0.4444444444444444,
              "#bd3786"
             ],
             [
              0.5555555555555556,
              "#d8576b"
             ],
             [
              0.6666666666666666,
              "#ed7953"
             ],
             [
              0.7777777777777778,
              "#fb9f3a"
             ],
             [
              0.8888888888888888,
              "#fdca26"
             ],
             [
              1,
              "#f0f921"
             ]
            ],
            "type": "histogram2dcontour"
           }
          ],
          "mesh3d": [
           {
            "colorbar": {
             "outlinewidth": 0,
             "ticks": ""
            },
            "type": "mesh3d"
           }
          ],
          "parcoords": [
           {
            "line": {
             "colorbar": {
              "outlinewidth": 0,
              "ticks": ""
             }
            },
            "type": "parcoords"
           }
          ],
          "pie": [
           {
            "automargin": true,
            "type": "pie"
           }
          ],
          "scatter": [
           {
            "fillpattern": {
             "fillmode": "overlay",
             "size": 10,
             "solidity": 0.2
            },
            "type": "scatter"
           }
          ],
          "scatter3d": [
           {
            "line": {
             "colorbar": {
              "outlinewidth": 0,
              "ticks": ""
             }
            },
            "marker": {
             "colorbar": {
              "outlinewidth": 0,
              "ticks": ""
             }
            },
            "type": "scatter3d"
           }
          ],
          "scattercarpet": [
           {
            "marker": {
             "colorbar": {
              "outlinewidth": 0,
              "ticks": ""
             }
            },
            "type": "scattercarpet"
           }
          ],
          "scattergeo": [
           {
            "marker": {
             "colorbar": {
              "outlinewidth": 0,
              "ticks": ""
             }
            },
            "type": "scattergeo"
           }
          ],
          "scattergl": [
           {
            "marker": {
             "colorbar": {
              "outlinewidth": 0,
              "ticks": ""
             }
            },
            "type": "scattergl"
           }
          ],
          "scattermapbox": [
           {
            "marker": {
             "colorbar": {
              "outlinewidth": 0,
              "ticks": ""
             }
            },
            "type": "scattermapbox"
           }
          ],
          "scatterpolar": [
           {
            "marker": {
             "colorbar": {
              "outlinewidth": 0,
              "ticks": ""
             }
            },
            "type": "scatterpolar"
           }
          ],
          "scatterpolargl": [
           {
            "marker": {
             "colorbar": {
              "outlinewidth": 0,
              "ticks": ""
             }
            },
            "type": "scatterpolargl"
           }
          ],
          "scatterternary": [
           {
            "marker": {
             "colorbar": {
              "outlinewidth": 0,
              "ticks": ""
             }
            },
            "type": "scatterternary"
           }
          ],
          "surface": [
           {
            "colorbar": {
             "outlinewidth": 0,
             "ticks": ""
            },
            "colorscale": [
             [
              0,
              "#0d0887"
             ],
             [
              0.1111111111111111,
              "#46039f"
             ],
             [
              0.2222222222222222,
              "#7201a8"
             ],
             [
              0.3333333333333333,
              "#9c179e"
             ],
             [
              0.4444444444444444,
              "#bd3786"
             ],
             [
              0.5555555555555556,
              "#d8576b"
             ],
             [
              0.6666666666666666,
              "#ed7953"
             ],
             [
              0.7777777777777778,
              "#fb9f3a"
             ],
             [
              0.8888888888888888,
              "#fdca26"
             ],
             [
              1,
              "#f0f921"
             ]
            ],
            "type": "surface"
           }
          ],
          "table": [
           {
            "cells": {
             "fill": {
              "color": "#EBF0F8"
             },
             "line": {
              "color": "white"
             }
            },
            "header": {
             "fill": {
              "color": "#C8D4E3"
             },
             "line": {
              "color": "white"
             }
            },
            "type": "table"
           }
          ]
         },
         "layout": {
          "annotationdefaults": {
           "arrowcolor": "#2a3f5f",
           "arrowhead": 0,
           "arrowwidth": 1
          },
          "autotypenumbers": "strict",
          "coloraxis": {
           "colorbar": {
            "outlinewidth": 0,
            "ticks": ""
           }
          },
          "colorscale": {
           "diverging": [
            [
             0,
             "#8e0152"
            ],
            [
             0.1,
             "#c51b7d"
            ],
            [
             0.2,
             "#de77ae"
            ],
            [
             0.3,
             "#f1b6da"
            ],
            [
             0.4,
             "#fde0ef"
            ],
            [
             0.5,
             "#f7f7f7"
            ],
            [
             0.6,
             "#e6f5d0"
            ],
            [
             0.7,
             "#b8e186"
            ],
            [
             0.8,
             "#7fbc41"
            ],
            [
             0.9,
             "#4d9221"
            ],
            [
             1,
             "#276419"
            ]
           ],
           "sequential": [
            [
             0,
             "#0d0887"
            ],
            [
             0.1111111111111111,
             "#46039f"
            ],
            [
             0.2222222222222222,
             "#7201a8"
            ],
            [
             0.3333333333333333,
             "#9c179e"
            ],
            [
             0.4444444444444444,
             "#bd3786"
            ],
            [
             0.5555555555555556,
             "#d8576b"
            ],
            [
             0.6666666666666666,
             "#ed7953"
            ],
            [
             0.7777777777777778,
             "#fb9f3a"
            ],
            [
             0.8888888888888888,
             "#fdca26"
            ],
            [
             1,
             "#f0f921"
            ]
           ],
           "sequentialminus": [
            [
             0,
             "#0d0887"
            ],
            [
             0.1111111111111111,
             "#46039f"
            ],
            [
             0.2222222222222222,
             "#7201a8"
            ],
            [
             0.3333333333333333,
             "#9c179e"
            ],
            [
             0.4444444444444444,
             "#bd3786"
            ],
            [
             0.5555555555555556,
             "#d8576b"
            ],
            [
             0.6666666666666666,
             "#ed7953"
            ],
            [
             0.7777777777777778,
             "#fb9f3a"
            ],
            [
             0.8888888888888888,
             "#fdca26"
            ],
            [
             1,
             "#f0f921"
            ]
           ]
          },
          "colorway": [
           "#636efa",
           "#EF553B",
           "#00cc96",
           "#ab63fa",
           "#FFA15A",
           "#19d3f3",
           "#FF6692",
           "#B6E880",
           "#FF97FF",
           "#FECB52"
          ],
          "font": {
           "color": "#2a3f5f"
          },
          "geo": {
           "bgcolor": "white",
           "lakecolor": "white",
           "landcolor": "#E5ECF6",
           "showlakes": true,
           "showland": true,
           "subunitcolor": "white"
          },
          "hoverlabel": {
           "align": "left"
          },
          "hovermode": "closest",
          "mapbox": {
           "style": "light"
          },
          "paper_bgcolor": "white",
          "plot_bgcolor": "#E5ECF6",
          "polar": {
           "angularaxis": {
            "gridcolor": "white",
            "linecolor": "white",
            "ticks": ""
           },
           "bgcolor": "#E5ECF6",
           "radialaxis": {
            "gridcolor": "white",
            "linecolor": "white",
            "ticks": ""
           }
          },
          "scene": {
           "xaxis": {
            "backgroundcolor": "#E5ECF6",
            "gridcolor": "white",
            "gridwidth": 2,
            "linecolor": "white",
            "showbackground": true,
            "ticks": "",
            "zerolinecolor": "white"
           },
           "yaxis": {
            "backgroundcolor": "#E5ECF6",
            "gridcolor": "white",
            "gridwidth": 2,
            "linecolor": "white",
            "showbackground": true,
            "ticks": "",
            "zerolinecolor": "white"
           },
           "zaxis": {
            "backgroundcolor": "#E5ECF6",
            "gridcolor": "white",
            "gridwidth": 2,
            "linecolor": "white",
            "showbackground": true,
            "ticks": "",
            "zerolinecolor": "white"
           }
          },
          "shapedefaults": {
           "line": {
            "color": "#2a3f5f"
           }
          },
          "ternary": {
           "aaxis": {
            "gridcolor": "white",
            "linecolor": "white",
            "ticks": ""
           },
           "baxis": {
            "gridcolor": "white",
            "linecolor": "white",
            "ticks": ""
           },
           "bgcolor": "#E5ECF6",
           "caxis": {
            "gridcolor": "white",
            "linecolor": "white",
            "ticks": ""
           }
          },
          "title": {
           "x": 0.05
          },
          "xaxis": {
           "automargin": true,
           "gridcolor": "white",
           "linecolor": "white",
           "ticks": "",
           "title": {
            "standoff": 15
           },
           "zerolinecolor": "white",
           "zerolinewidth": 2
          },
          "yaxis": {
           "automargin": true,
           "gridcolor": "white",
           "linecolor": "white",
           "ticks": "",
           "title": {
            "standoff": 15
           },
           "zerolinecolor": "white",
           "zerolinewidth": 2
          }
         }
        },
        "title": {
         "text": "Cyberbullying over de wereld door de jaren heen"
        },
        "updatemenus": [
         {
          "buttons": [
           {
            "args": [
             {
              "visible": [
               true,
               false,
               false
              ]
             }
            ],
            "label": "2018",
            "method": "update"
           },
           {
            "args": [
             {
              "visible": [
               false,
               true,
               false
              ]
             }
            ],
            "label": "2016",
            "method": "update"
           },
           {
            "args": [
             {
              "visible": [
               false,
               false,
               true
              ]
             }
            ],
            "label": "2011",
            "method": "update"
           }
          ],
          "direction": "left",
          "pad": {
           "r": 10,
           "t": 10
          },
          "showactive": true,
          "type": "buttons",
          "x": 0.11,
          "xanchor": "right",
          "y": 1.1,
          "yanchor": "top"
         }
        ]
       }
      },
      "text/html": [
       "<div>                            <div id=\"f4d816e9-0dda-4273-83e3-b7a0fbb42db9\" class=\"plotly-graph-div\" style=\"height:525px; width:100%;\"></div>            <script type=\"text/javascript\">                require([\"plotly\"], function(Plotly) {                    window.PLOTLYENV=window.PLOTLYENV || {};                                    if (document.getElementById(\"f4d816e9-0dda-4273-83e3-b7a0fbb42db9\")) {                    Plotly.newPlot(                        \"f4d816e9-0dda-4273-83e3-b7a0fbb42db9\",                        [{\"colorbar\":{\"title\":{\"text\":\"% Kinderen die<br>cyberbullying ervaren\"}},\"colorscale\":[[0.0,\"rgb(255,245,240)\"],[0.125,\"rgb(254,224,210)\"],[0.25,\"rgb(252,187,161)\"],[0.375,\"rgb(252,146,114)\"],[0.5,\"rgb(251,106,74)\"],[0.625,\"rgb(239,59,44)\"],[0.75,\"rgb(203,24,29)\"],[0.875,\"rgb(165,15,21)\"],[1.0,\"rgb(103,0,13)\"]],\"locations\":[\"IND\",\"BRA\",\"USA\",\"BEL\",\"ZAF\",\"MYS\",\"SWE\",\"CAN\",\"TUR\",\"SAU\",\"AUS\",\"MEX\",\"GBR\",\"CHN\",\"SRB\",\"DEU\",\"ARG\",\"PER\",\"KOR\",\"ITA\",\"POL\",\"ROU\",\"HUN\",\"ESP\",\"FRA\",\"CHL\",\"JPN\",\"RUS\"],\"text\":[\"India\",\"Brazili\\u00eb\",\"Verenigde Staten\",\"Belgi\\u00eb\",\"Zuid-Afrika\",\"Maleisi\\u00eb\",\"Zweden\",\"Canada\",\"Turkije\",\"Saudi-Arabi\\u00eb\",\"Australi\\u00eb\",\"Mexico\",\"Verenigd Koninkrijk\",\"China\",\"Servi\\u00eb\",\"Duitsland\",\"Argentini\\u00eb\",\"Peru\",\"Zuid-Korea\",\"Itali\\u00eb\",\"Polen\",\"Roemeni\\u00eb\",\"Hongarije\",\"Spanje\",\"Frankrijk\",\"Chili\",\"Japan\",\"Rusland\"],\"z\":[37,29,26,25,26,23,23,20,20,19,19,18,18,17,16,14,14,14,13,12,12,11,10,9,9,8,5,1],\"type\":\"choropleth\"},{\"colorbar\":{\"title\":{\"text\":\"% Kinderen die<br>cyberbullying ervaren\"}},\"colorscale\":[[0.0,\"rgb(255,245,240)\"],[0.125,\"rgb(254,224,210)\"],[0.25,\"rgb(252,187,161)\"],[0.375,\"rgb(252,146,114)\"],[0.5,\"rgb(251,106,74)\"],[0.625,\"rgb(239,59,44)\"],[0.75,\"rgb(203,24,29)\"],[0.875,\"rgb(165,15,21)\"],[1.0,\"rgb(103,0,13)\"]],\"locations\":[\"IND\",\"BRA\",\"USA\",\"BEL\",\"ZAF\",\"MYS\",\"SWE\",\"CAN\",\"TUR\",\"SAU\",\"AUS\",\"MEX\",\"GBR\",\"CHN\",\"SRB\",\"DEU\",\"ARG\",\"PER\",\"KOR\",\"ITA\",\"POL\",\"ROU\",\"HUN\",\"ESP\",\"FRA\",\"CHL\",\"JPN\",\"RUS\"],\"text\":[\"India\",\"Brazili\\u00eb\",\"Verenigde Staten\",\"Belgi\\u00eb\",\"Zuid-Afrika\",\"Maleisi\\u00eb\",\"Zweden\",\"Canada\",\"Turkije\",\"Saudi-Arabi\\u00eb\",\"Australi\\u00eb\",\"Mexico\",\"Verenigd Koninkrijk\",\"China\",\"Servi\\u00eb\",\"Duitsland\",\"Argentini\\u00eb\",\"Peru\",\"Zuid-Korea\",\"Itali\\u00eb\",\"Polen\",\"Roemeni\\u00eb\",\"Hongarije\",\"Spanje\",\"Frankrijk\",\"Chili\",\"Japan\",\"Rusland\"],\"visible\":false,\"z\":[\" 32\",\"19\",\"34\",\"13\",\"25\",\"--\",\"20\",\"17\",\"14\",\"17\",\"20\",\"20\",\"15\",\"20\",\"--\",\"9\",\"10\",\"13\",\"9\",\"11\",\"18\",\"--\",\"11\",\"10\",\"7\",\"--\",\"7\",\"9\"],\"type\":\"choropleth\"},{\"colorbar\":{\"title\":{\"text\":\"% Kinderen die<br>cyberbullying ervaren\"}},\"colorscale\":[[0.0,\"rgb(255,245,240)\"],[0.125,\"rgb(254,224,210)\"],[0.25,\"rgb(252,187,161)\"],[0.375,\"rgb(252,146,114)\"],[0.5,\"rgb(251,106,74)\"],[0.625,\"rgb(239,59,44)\"],[0.75,\"rgb(203,24,29)\"],[0.875,\"rgb(165,15,21)\"],[1.0,\"rgb(103,0,13)\"]],\"locations\":[\"IND\",\"BRA\",\"USA\",\"BEL\",\"ZAF\",\"MYS\",\"SWE\",\"CAN\",\"TUR\",\"SAU\",\"AUS\",\"MEX\",\"GBR\",\"CHN\",\"SRB\",\"DEU\",\"ARG\",\"PER\",\"KOR\",\"ITA\",\"POL\",\"ROU\",\"HUN\",\"ESP\",\"FRA\",\"CHL\",\"JPN\",\"RUS\"],\"text\":[\"India\",\"Brazili\\u00eb\",\"Verenigde Staten\",\"Belgi\\u00eb\",\"Zuid-Afrika\",\"Maleisi\\u00eb\",\"Zweden\",\"Canada\",\"Turkije\",\"Saudi-Arabi\\u00eb\",\"Australi\\u00eb\",\"Mexico\",\"Verenigd Koninkrijk\",\"China\",\"Servi\\u00eb\",\"Duitsland\",\"Argentini\\u00eb\",\"Peru\",\"Zuid-Korea\",\"Itali\\u00eb\",\"Polen\",\"Roemeni\\u00eb\",\"Hongarije\",\"Spanje\",\"Frankrijk\",\"Chili\",\"Japan\",\"Rusland\"],\"visible\":false,\"z\":[\" 32\",\"20\",\"15\",\"12\",\"10\",\"--\",\"14\",\"18\",\"5\",\"18\",\"13\",\"8\",\"11\",\"11\",\"--\",\"7\",\"9\",\"--\",\"8\",\"3\",\"12\",\"--\",\"7\",\"5\",\"5\",\"--\",\"7\",\"5\"],\"type\":\"choropleth\"}],                        {\"font\":{\"color\":\"Black\",\"family\":\"Georgia\"},\"paper_bgcolor\":\"white\",\"plot_bgcolor\":\"white\",\"title\":{\"text\":\"Cyberbullying over de wereld door de jaren heen\"},\"template\":{\"data\":{\"histogram2dcontour\":[{\"type\":\"histogram2dcontour\",\"colorbar\":{\"outlinewidth\":0,\"ticks\":\"\"},\"colorscale\":[[0.0,\"#0d0887\"],[0.1111111111111111,\"#46039f\"],[0.2222222222222222,\"#7201a8\"],[0.3333333333333333,\"#9c179e\"],[0.4444444444444444,\"#bd3786\"],[0.5555555555555556,\"#d8576b\"],[0.6666666666666666,\"#ed7953\"],[0.7777777777777778,\"#fb9f3a\"],[0.8888888888888888,\"#fdca26\"],[1.0,\"#f0f921\"]]}],\"choropleth\":[{\"type\":\"choropleth\",\"colorbar\":{\"outlinewidth\":0,\"ticks\":\"\"}}],\"histogram2d\":[{\"type\":\"histogram2d\",\"colorbar\":{\"outlinewidth\":0,\"ticks\":\"\"},\"colorscale\":[[0.0,\"#0d0887\"],[0.1111111111111111,\"#46039f\"],[0.2222222222222222,\"#7201a8\"],[0.3333333333333333,\"#9c179e\"],[0.4444444444444444,\"#bd3786\"],[0.5555555555555556,\"#d8576b\"],[0.6666666666666666,\"#ed7953\"],[0.7777777777777778,\"#fb9f3a\"],[0.8888888888888888,\"#fdca26\"],[1.0,\"#f0f921\"]]}],\"heatmap\":[{\"type\":\"heatmap\",\"colorbar\":{\"outlinewidth\":0,\"ticks\":\"\"},\"colorscale\":[[0.0,\"#0d0887\"],[0.1111111111111111,\"#46039f\"],[0.2222222222222222,\"#7201a8\"],[0.3333333333333333,\"#9c179e\"],[0.4444444444444444,\"#bd3786\"],[0.5555555555555556,\"#d8576b\"],[0.6666666666666666,\"#ed7953\"],[0.7777777777777778,\"#fb9f3a\"],[0.8888888888888888,\"#fdca26\"],[1.0,\"#f0f921\"]]}],\"heatmapgl\":[{\"type\":\"heatmapgl\",\"colorbar\":{\"outlinewidth\":0,\"ticks\":\"\"},\"colorscale\":[[0.0,\"#0d0887\"],[0.1111111111111111,\"#46039f\"],[0.2222222222222222,\"#7201a8\"],[0.3333333333333333,\"#9c179e\"],[0.4444444444444444,\"#bd3786\"],[0.5555555555555556,\"#d8576b\"],[0.6666666666666666,\"#ed7953\"],[0.7777777777777778,\"#fb9f3a\"],[0.8888888888888888,\"#fdca26\"],[1.0,\"#f0f921\"]]}],\"contourcarpet\":[{\"type\":\"contourcarpet\",\"colorbar\":{\"outlinewidth\":0,\"ticks\":\"\"}}],\"contour\":[{\"type\":\"contour\",\"colorbar\":{\"outlinewidth\":0,\"ticks\":\"\"},\"colorscale\":[[0.0,\"#0d0887\"],[0.1111111111111111,\"#46039f\"],[0.2222222222222222,\"#7201a8\"],[0.3333333333333333,\"#9c179e\"],[0.4444444444444444,\"#bd3786\"],[0.5555555555555556,\"#d8576b\"],[0.6666666666666666,\"#ed7953\"],[0.7777777777777778,\"#fb9f3a\"],[0.8888888888888888,\"#fdca26\"],[1.0,\"#f0f921\"]]}],\"surface\":[{\"type\":\"surface\",\"colorbar\":{\"outlinewidth\":0,\"ticks\":\"\"},\"colorscale\":[[0.0,\"#0d0887\"],[0.1111111111111111,\"#46039f\"],[0.2222222222222222,\"#7201a8\"],[0.3333333333333333,\"#9c179e\"],[0.4444444444444444,\"#bd3786\"],[0.5555555555555556,\"#d8576b\"],[0.6666666666666666,\"#ed7953\"],[0.7777777777777778,\"#fb9f3a\"],[0.8888888888888888,\"#fdca26\"],[1.0,\"#f0f921\"]]}],\"mesh3d\":[{\"type\":\"mesh3d\",\"colorbar\":{\"outlinewidth\":0,\"ticks\":\"\"}}],\"scatter\":[{\"fillpattern\":{\"fillmode\":\"overlay\",\"size\":10,\"solidity\":0.2},\"type\":\"scatter\"}],\"parcoords\":[{\"type\":\"parcoords\",\"line\":{\"colorbar\":{\"outlinewidth\":0,\"ticks\":\"\"}}}],\"scatterpolargl\":[{\"type\":\"scatterpolargl\",\"marker\":{\"colorbar\":{\"outlinewidth\":0,\"ticks\":\"\"}}}],\"bar\":[{\"error_x\":{\"color\":\"#2a3f5f\"},\"error_y\":{\"color\":\"#2a3f5f\"},\"marker\":{\"line\":{\"color\":\"#E5ECF6\",\"width\":0.5},\"pattern\":{\"fillmode\":\"overlay\",\"size\":10,\"solidity\":0.2}},\"type\":\"bar\"}],\"scattergeo\":[{\"type\":\"scattergeo\",\"marker\":{\"colorbar\":{\"outlinewidth\":0,\"ticks\":\"\"}}}],\"scatterpolar\":[{\"type\":\"scatterpolar\",\"marker\":{\"colorbar\":{\"outlinewidth\":0,\"ticks\":\"\"}}}],\"histogram\":[{\"marker\":{\"pattern\":{\"fillmode\":\"overlay\",\"size\":10,\"solidity\":0.2}},\"type\":\"histogram\"}],\"scattergl\":[{\"type\":\"scattergl\",\"marker\":{\"colorbar\":{\"outlinewidth\":0,\"ticks\":\"\"}}}],\"scatter3d\":[{\"type\":\"scatter3d\",\"line\":{\"colorbar\":{\"outlinewidth\":0,\"ticks\":\"\"}},\"marker\":{\"colorbar\":{\"outlinewidth\":0,\"ticks\":\"\"}}}],\"scattermapbox\":[{\"type\":\"scattermapbox\",\"marker\":{\"colorbar\":{\"outlinewidth\":0,\"ticks\":\"\"}}}],\"scatterternary\":[{\"type\":\"scatterternary\",\"marker\":{\"colorbar\":{\"outlinewidth\":0,\"ticks\":\"\"}}}],\"scattercarpet\":[{\"type\":\"scattercarpet\",\"marker\":{\"colorbar\":{\"outlinewidth\":0,\"ticks\":\"\"}}}],\"carpet\":[{\"aaxis\":{\"endlinecolor\":\"#2a3f5f\",\"gridcolor\":\"white\",\"linecolor\":\"white\",\"minorgridcolor\":\"white\",\"startlinecolor\":\"#2a3f5f\"},\"baxis\":{\"endlinecolor\":\"#2a3f5f\",\"gridcolor\":\"white\",\"linecolor\":\"white\",\"minorgridcolor\":\"white\",\"startlinecolor\":\"#2a3f5f\"},\"type\":\"carpet\"}],\"table\":[{\"cells\":{\"fill\":{\"color\":\"#EBF0F8\"},\"line\":{\"color\":\"white\"}},\"header\":{\"fill\":{\"color\":\"#C8D4E3\"},\"line\":{\"color\":\"white\"}},\"type\":\"table\"}],\"barpolar\":[{\"marker\":{\"line\":{\"color\":\"#E5ECF6\",\"width\":0.5},\"pattern\":{\"fillmode\":\"overlay\",\"size\":10,\"solidity\":0.2}},\"type\":\"barpolar\"}],\"pie\":[{\"automargin\":true,\"type\":\"pie\"}]},\"layout\":{\"autotypenumbers\":\"strict\",\"colorway\":[\"#636efa\",\"#EF553B\",\"#00cc96\",\"#ab63fa\",\"#FFA15A\",\"#19d3f3\",\"#FF6692\",\"#B6E880\",\"#FF97FF\",\"#FECB52\"],\"font\":{\"color\":\"#2a3f5f\"},\"hovermode\":\"closest\",\"hoverlabel\":{\"align\":\"left\"},\"paper_bgcolor\":\"white\",\"plot_bgcolor\":\"#E5ECF6\",\"polar\":{\"bgcolor\":\"#E5ECF6\",\"angularaxis\":{\"gridcolor\":\"white\",\"linecolor\":\"white\",\"ticks\":\"\"},\"radialaxis\":{\"gridcolor\":\"white\",\"linecolor\":\"white\",\"ticks\":\"\"}},\"ternary\":{\"bgcolor\":\"#E5ECF6\",\"aaxis\":{\"gridcolor\":\"white\",\"linecolor\":\"white\",\"ticks\":\"\"},\"baxis\":{\"gridcolor\":\"white\",\"linecolor\":\"white\",\"ticks\":\"\"},\"caxis\":{\"gridcolor\":\"white\",\"linecolor\":\"white\",\"ticks\":\"\"}},\"coloraxis\":{\"colorbar\":{\"outlinewidth\":0,\"ticks\":\"\"}},\"colorscale\":{\"sequential\":[[0.0,\"#0d0887\"],[0.1111111111111111,\"#46039f\"],[0.2222222222222222,\"#7201a8\"],[0.3333333333333333,\"#9c179e\"],[0.4444444444444444,\"#bd3786\"],[0.5555555555555556,\"#d8576b\"],[0.6666666666666666,\"#ed7953\"],[0.7777777777777778,\"#fb9f3a\"],[0.8888888888888888,\"#fdca26\"],[1.0,\"#f0f921\"]],\"sequentialminus\":[[0.0,\"#0d0887\"],[0.1111111111111111,\"#46039f\"],[0.2222222222222222,\"#7201a8\"],[0.3333333333333333,\"#9c179e\"],[0.4444444444444444,\"#bd3786\"],[0.5555555555555556,\"#d8576b\"],[0.6666666666666666,\"#ed7953\"],[0.7777777777777778,\"#fb9f3a\"],[0.8888888888888888,\"#fdca26\"],[1.0,\"#f0f921\"]],\"diverging\":[[0,\"#8e0152\"],[0.1,\"#c51b7d\"],[0.2,\"#de77ae\"],[0.3,\"#f1b6da\"],[0.4,\"#fde0ef\"],[0.5,\"#f7f7f7\"],[0.6,\"#e6f5d0\"],[0.7,\"#b8e186\"],[0.8,\"#7fbc41\"],[0.9,\"#4d9221\"],[1,\"#276419\"]]},\"xaxis\":{\"gridcolor\":\"white\",\"linecolor\":\"white\",\"ticks\":\"\",\"title\":{\"standoff\":15},\"zerolinecolor\":\"white\",\"automargin\":true,\"zerolinewidth\":2},\"yaxis\":{\"gridcolor\":\"white\",\"linecolor\":\"white\",\"ticks\":\"\",\"title\":{\"standoff\":15},\"zerolinecolor\":\"white\",\"automargin\":true,\"zerolinewidth\":2},\"scene\":{\"xaxis\":{\"backgroundcolor\":\"#E5ECF6\",\"gridcolor\":\"white\",\"linecolor\":\"white\",\"showbackground\":true,\"ticks\":\"\",\"zerolinecolor\":\"white\",\"gridwidth\":2},\"yaxis\":{\"backgroundcolor\":\"#E5ECF6\",\"gridcolor\":\"white\",\"linecolor\":\"white\",\"showbackground\":true,\"ticks\":\"\",\"zerolinecolor\":\"white\",\"gridwidth\":2},\"zaxis\":{\"backgroundcolor\":\"#E5ECF6\",\"gridcolor\":\"white\",\"linecolor\":\"white\",\"showbackground\":true,\"ticks\":\"\",\"zerolinecolor\":\"white\",\"gridwidth\":2}},\"shapedefaults\":{\"line\":{\"color\":\"#2a3f5f\"}},\"annotationdefaults\":{\"arrowcolor\":\"#2a3f5f\",\"arrowhead\":0,\"arrowwidth\":1},\"geo\":{\"bgcolor\":\"white\",\"landcolor\":\"#E5ECF6\",\"subunitcolor\":\"white\",\"showland\":true,\"showlakes\":true,\"lakecolor\":\"white\"},\"title\":{\"x\":0.05},\"mapbox\":{\"style\":\"light\"}}},\"updatemenus\":[{\"buttons\":[{\"args\":[{\"visible\":[true,false,false]}],\"label\":\"2018\",\"method\":\"update\"},{\"args\":[{\"visible\":[false,true,false]}],\"label\":\"2016\",\"method\":\"update\"},{\"args\":[{\"visible\":[false,false,true]}],\"label\":\"2011\",\"method\":\"update\"}],\"direction\":\"left\",\"pad\":{\"r\":10,\"t\":10},\"showactive\":true,\"type\":\"buttons\",\"x\":0.11,\"xanchor\":\"right\",\"y\":1.1,\"yanchor\":\"top\"}]},                        {\"responsive\": true}                    ).then(function(){\n",
       "                            \n",
       "var gd = document.getElementById('f4d816e9-0dda-4273-83e3-b7a0fbb42db9');\n",
       "var x = new MutationObserver(function (mutations, observer) {{\n",
       "        var display = window.getComputedStyle(gd).display;\n",
       "        if (!display || display === 'none') {{\n",
       "            console.log([gd, 'removed!']);\n",
       "            Plotly.purge(gd);\n",
       "            observer.disconnect();\n",
       "        }}\n",
       "}});\n",
       "\n",
       "// Listen for the removal of the full notebook cells\n",
       "var notebookContainer = gd.closest('#notebook-container');\n",
       "if (notebookContainer) {{\n",
       "    x.observe(notebookContainer, {childList: true});\n",
       "}}\n",
       "\n",
       "// Listen for the clearing of the current output cell\n",
       "var outputEl = gd.closest('.output');\n",
       "if (outputEl) {{\n",
       "    x.observe(outputEl, {childList: true});\n",
       "}}\n",
       "\n",
       "                        })                };                });            </script>        </div>"
      ]
     },
     "metadata": {},
     "output_type": "display_data"
    },
    {
     "data": {
      "text/html": [
       "<div>\n",
       "<style scoped>\n",
       "    .dataframe tbody tr th:only-of-type {\n",
       "        vertical-align: middle;\n",
       "    }\n",
       "\n",
       "    .dataframe tbody tr th {\n",
       "        vertical-align: top;\n",
       "    }\n",
       "\n",
       "    .dataframe thead th {\n",
       "        text-align: right;\n",
       "    }\n",
       "</style>\n",
       "<table border=\"1\" class=\"dataframe\">\n",
       "  <thead>\n",
       "    <tr style=\"text-align: right;\">\n",
       "      <th></th>\n",
       "      <th>Country</th>\n",
       "      <th>2018</th>\n",
       "      <th>2016</th>\n",
       "      <th>2011</th>\n",
       "      <th>Code</th>\n",
       "    </tr>\n",
       "  </thead>\n",
       "  <tbody>\n",
       "    <tr>\n",
       "      <th>0</th>\n",
       "      <td>India</td>\n",
       "      <td>37</td>\n",
       "      <td>32</td>\n",
       "      <td>32</td>\n",
       "      <td>IND</td>\n",
       "    </tr>\n",
       "    <tr>\n",
       "      <th>1</th>\n",
       "      <td>Brazilië</td>\n",
       "      <td>29</td>\n",
       "      <td>19</td>\n",
       "      <td>20</td>\n",
       "      <td>BRA</td>\n",
       "    </tr>\n",
       "    <tr>\n",
       "      <th>2</th>\n",
       "      <td>Verenigde Staten</td>\n",
       "      <td>26</td>\n",
       "      <td>34</td>\n",
       "      <td>15</td>\n",
       "      <td>USA</td>\n",
       "    </tr>\n",
       "    <tr>\n",
       "      <th>3</th>\n",
       "      <td>België</td>\n",
       "      <td>25</td>\n",
       "      <td>13</td>\n",
       "      <td>12</td>\n",
       "      <td>BEL</td>\n",
       "    </tr>\n",
       "    <tr>\n",
       "      <th>4</th>\n",
       "      <td>Zuid-Afrika</td>\n",
       "      <td>26</td>\n",
       "      <td>25</td>\n",
       "      <td>10</td>\n",
       "      <td>ZAF</td>\n",
       "    </tr>\n",
       "    <tr>\n",
       "      <th>5</th>\n",
       "      <td>Maleisië</td>\n",
       "      <td>23</td>\n",
       "      <td>--</td>\n",
       "      <td>--</td>\n",
       "      <td>MYS</td>\n",
       "    </tr>\n",
       "    <tr>\n",
       "      <th>6</th>\n",
       "      <td>Zweden</td>\n",
       "      <td>23</td>\n",
       "      <td>20</td>\n",
       "      <td>14</td>\n",
       "      <td>SWE</td>\n",
       "    </tr>\n",
       "    <tr>\n",
       "      <th>7</th>\n",
       "      <td>Canada</td>\n",
       "      <td>20</td>\n",
       "      <td>17</td>\n",
       "      <td>18</td>\n",
       "      <td>CAN</td>\n",
       "    </tr>\n",
       "    <tr>\n",
       "      <th>8</th>\n",
       "      <td>Turkije</td>\n",
       "      <td>20</td>\n",
       "      <td>14</td>\n",
       "      <td>5</td>\n",
       "      <td>TUR</td>\n",
       "    </tr>\n",
       "    <tr>\n",
       "      <th>9</th>\n",
       "      <td>Saudi-Arabië</td>\n",
       "      <td>19</td>\n",
       "      <td>17</td>\n",
       "      <td>18</td>\n",
       "      <td>SAU</td>\n",
       "    </tr>\n",
       "    <tr>\n",
       "      <th>10</th>\n",
       "      <td>Australië</td>\n",
       "      <td>19</td>\n",
       "      <td>20</td>\n",
       "      <td>13</td>\n",
       "      <td>AUS</td>\n",
       "    </tr>\n",
       "    <tr>\n",
       "      <th>11</th>\n",
       "      <td>Mexico</td>\n",
       "      <td>18</td>\n",
       "      <td>20</td>\n",
       "      <td>8</td>\n",
       "      <td>MEX</td>\n",
       "    </tr>\n",
       "    <tr>\n",
       "      <th>12</th>\n",
       "      <td>Verenigd Koninkrijk</td>\n",
       "      <td>18</td>\n",
       "      <td>15</td>\n",
       "      <td>11</td>\n",
       "      <td>GBR</td>\n",
       "    </tr>\n",
       "    <tr>\n",
       "      <th>13</th>\n",
       "      <td>China</td>\n",
       "      <td>17</td>\n",
       "      <td>20</td>\n",
       "      <td>11</td>\n",
       "      <td>CHN</td>\n",
       "    </tr>\n",
       "    <tr>\n",
       "      <th>14</th>\n",
       "      <td>Servië</td>\n",
       "      <td>16</td>\n",
       "      <td>--</td>\n",
       "      <td>--</td>\n",
       "      <td>SRB</td>\n",
       "    </tr>\n",
       "    <tr>\n",
       "      <th>15</th>\n",
       "      <td>Duitsland</td>\n",
       "      <td>14</td>\n",
       "      <td>9</td>\n",
       "      <td>7</td>\n",
       "      <td>DEU</td>\n",
       "    </tr>\n",
       "    <tr>\n",
       "      <th>16</th>\n",
       "      <td>Argentinië</td>\n",
       "      <td>14</td>\n",
       "      <td>10</td>\n",
       "      <td>9</td>\n",
       "      <td>ARG</td>\n",
       "    </tr>\n",
       "    <tr>\n",
       "      <th>17</th>\n",
       "      <td>Peru</td>\n",
       "      <td>14</td>\n",
       "      <td>13</td>\n",
       "      <td>--</td>\n",
       "      <td>PER</td>\n",
       "    </tr>\n",
       "    <tr>\n",
       "      <th>18</th>\n",
       "      <td>Zuid-Korea</td>\n",
       "      <td>13</td>\n",
       "      <td>9</td>\n",
       "      <td>8</td>\n",
       "      <td>KOR</td>\n",
       "    </tr>\n",
       "    <tr>\n",
       "      <th>19</th>\n",
       "      <td>Italië</td>\n",
       "      <td>12</td>\n",
       "      <td>11</td>\n",
       "      <td>3</td>\n",
       "      <td>ITA</td>\n",
       "    </tr>\n",
       "    <tr>\n",
       "      <th>20</th>\n",
       "      <td>Polen</td>\n",
       "      <td>12</td>\n",
       "      <td>18</td>\n",
       "      <td>12</td>\n",
       "      <td>POL</td>\n",
       "    </tr>\n",
       "    <tr>\n",
       "      <th>21</th>\n",
       "      <td>Roemenië</td>\n",
       "      <td>11</td>\n",
       "      <td>--</td>\n",
       "      <td>--</td>\n",
       "      <td>ROU</td>\n",
       "    </tr>\n",
       "    <tr>\n",
       "      <th>22</th>\n",
       "      <td>Hongarije</td>\n",
       "      <td>10</td>\n",
       "      <td>11</td>\n",
       "      <td>7</td>\n",
       "      <td>HUN</td>\n",
       "    </tr>\n",
       "    <tr>\n",
       "      <th>23</th>\n",
       "      <td>Spanje</td>\n",
       "      <td>9</td>\n",
       "      <td>10</td>\n",
       "      <td>5</td>\n",
       "      <td>ESP</td>\n",
       "    </tr>\n",
       "    <tr>\n",
       "      <th>24</th>\n",
       "      <td>Frankrijk</td>\n",
       "      <td>9</td>\n",
       "      <td>7</td>\n",
       "      <td>5</td>\n",
       "      <td>FRA</td>\n",
       "    </tr>\n",
       "    <tr>\n",
       "      <th>25</th>\n",
       "      <td>Chili</td>\n",
       "      <td>8</td>\n",
       "      <td>--</td>\n",
       "      <td>--</td>\n",
       "      <td>CHL</td>\n",
       "    </tr>\n",
       "    <tr>\n",
       "      <th>26</th>\n",
       "      <td>Japan</td>\n",
       "      <td>5</td>\n",
       "      <td>7</td>\n",
       "      <td>7</td>\n",
       "      <td>JPN</td>\n",
       "    </tr>\n",
       "    <tr>\n",
       "      <th>27</th>\n",
       "      <td>Rusland</td>\n",
       "      <td>1</td>\n",
       "      <td>9</td>\n",
       "      <td>5</td>\n",
       "      <td>RUS</td>\n",
       "    </tr>\n",
       "  </tbody>\n",
       "</table>\n",
       "</div>"
      ],
      "text/plain": [
       "                Country  2018 2016 2011 Code\n",
       "0                 India    37   32   32  IND\n",
       "1              Brazilië    29   19   20  BRA\n",
       "2      Verenigde Staten    26   34   15  USA\n",
       "3                België    25   13   12  BEL\n",
       "4           Zuid-Afrika    26   25   10  ZAF\n",
       "5              Maleisië    23   --   --  MYS\n",
       "6                Zweden    23   20   14  SWE\n",
       "7                Canada    20   17   18  CAN\n",
       "8               Turkije    20   14    5  TUR\n",
       "9          Saudi-Arabië    19   17   18  SAU\n",
       "10            Australië    19   20   13  AUS\n",
       "11               Mexico    18   20    8  MEX\n",
       "12  Verenigd Koninkrijk    18   15   11  GBR\n",
       "13                China    17   20   11  CHN\n",
       "14               Servië    16   --   --  SRB\n",
       "15            Duitsland    14    9    7  DEU\n",
       "16           Argentinië    14   10    9  ARG\n",
       "17                 Peru    14   13   --  PER\n",
       "18           Zuid-Korea    13    9    8  KOR\n",
       "19               Italië    12   11    3  ITA\n",
       "20                Polen    12   18   12  POL\n",
       "21             Roemenië    11   --   --  ROU\n",
       "22            Hongarije    10   11    7  HUN\n",
       "23               Spanje     9   10    5  ESP\n",
       "24            Frankrijk     9    7    5  FRA\n",
       "25                Chili     8   --   --  CHL\n",
       "26                Japan     5    7    7  JPN\n",
       "27              Rusland     1    9    5  RUS"
      ]
     },
     "execution_count": 6,
     "metadata": {},
     "output_type": "execute_result"
    }
   ],
   "source": [
    "bully = pd.read_csv('/Users/chenleicha/School/periode6/bully.csv')\n",
    "\n",
    "bully.head()\n",
    "\n",
    "worldmap1 = go.Choropleth(\n",
    "    locations = bully['Code'],\n",
    "    z = bully['2018'],\n",
    "    text = bully['Country'],\n",
    "    colorscale = \"Reds\",\n",
    "    colorbar_title=\"% Kinderen die<br>cyberbullying ervaren\")\n",
    "\n",
    "worldmap2 = go.Choropleth(\n",
    "    locations = bully['Code'],\n",
    "    z = bully['2016'],\n",
    "    text = bully['Country'],\n",
    "    visible=False,\n",
    "    colorscale = \"Reds\",\n",
    "    colorbar_title=\"% Kinderen die<br>cyberbullying ervaren\")\n",
    "\n",
    "worldmap3 = go.Choropleth(\n",
    "    locations = bully['Code'],\n",
    "    z = bully['2011'],\n",
    "    text = bully['Country'],\n",
    "    visible=False,\n",
    "    colorscale = \"Reds\",\n",
    "    colorbar_title=\"% Kinderen die<br>cyberbullying ervaren\"\n",
    ")\n",
    "\n",
    "maplayout = go.Layout(\n",
    "    title = 'Cyberbullying over de wereld door de jaren heen',\n",
    "    font = dict(family = 'Georgia', color = 'Black'),\n",
    "    plot_bgcolor = 'white',\n",
    "    paper_bgcolor = 'white')\n",
    "\n",
    "worldmap1_layout = dict(title='2018')\n",
    "\n",
    "kaart = go.Figure(data = [worldmap1, worldmap2, worldmap3], layout=maplayout)\n",
    "\n",
    "kaart.update_layout(\n",
    "    updatemenus=[\n",
    "        dict(\n",
    "            type = \"buttons\",\n",
    "            direction = \"left\",\n",
    "            buttons=list([\n",
    "                dict(\n",
    "                    args=[{'visible': [True,False,False]}],\n",
    "                    label=\"2018\",\n",
    "                    method=\"update\",\n",
    "                ),\n",
    "                dict(\n",
    "                    args=[{'visible': [False,True,False]}],\n",
    "                    label=\"2016\",\n",
    "                    method=\"update\"\n",
    "                ),\n",
    "                dict(\n",
    "                    args=[{'visible': [False,False,True]}],\n",
    "                    label=\"2011\",\n",
    "                    method=\"update\")\n",
    "            ],\n",
    "            ),\n",
    "            pad={\"r\": 10, \"t\": 10},\n",
    "            showactive=True,\n",
    "            x=0.11,\n",
    "            xanchor=\"right\",\n",
    "            y=1.1,\n",
    "            yanchor=\"top\"\n",
    "        ),\n",
    "    ]\n",
    "    \n",
    ")\n",
    "\n",
    "kaart.show()\n",
    "\n",
    "bully.head(30)"
   ]
  },
  {
   "cell_type": "markdown",
   "id": "4716932c",
   "metadata": {},
   "source": [
    "Uitleg: Met de data van https://www.ipsos.com/sites/default/files/ct/news/documents/2018-06/cyberbullying_june2018.pdf kon deze visualisatie gemaakt worden. De visualisatie geeft een wereldkaart weer met van een aantal landen het percentage kinderen die cyberbullying hebben ervaren. Hoe donkerder rood de kleur van het land is, hoe hoger het percentage cyberbullying. Met de knoppen links kan het jaartal veranderd worden. Het doel van deze visualisatie is om te tonen dat cyberbullying door de jaren heen is gestegen.\n",
    "\n",
    "Dataset and preprocessing: Om de data te kunnen gebruiken was het vereist om de data om te zetten naar een .csv bestand. De originele data bestaat uit een aantal variabelen, namelijk de naam van het land en de percentages van drie verschillende jaren. Om de homogeniteit van de datastory te behouden zijn alle landen naar het Nederlands vertaald. Verder is er voor elk land de bijbehorende landcode toegevoegd. Op deze wijze kon de data op een choropletenkaart gezet worden. \n",
    "\n",
    "Argumenten: Een ander nadeel van de opkomst van social media is de toename van cyberbullying. Met behulp van onder andere social media kunnen er bijvoorbeeld leugens of beledigende en bedreigende berichten verzonden worden. Cyberbullying wordt vaak gelinkt met het gebruik van social media (Garett et al., 2016). Gevolgen van cyberbullying zijn vaak mentale problemen, gedragsproblemen en in sommige gevallen kan ook zelfmoord het resultaat zijn. In de visualisatie is een wereldkaart te zien met een aantal ingekleurde landen. Met de visualisatie is te zien dat veel landen meer donker zijn geworden door de jaren heen. Dit betekent dat cyberbullying is gestegen, wat een probleem vormt voor de gezondheid van jongeren.\n",
    "\n",
    "\n",
    "Referenties: \n",
    "Garett, R., Lord, L., & Young, S. D. (2016). Associations between social media and cyberbullying: a review of the literature. mHealth, 2, 46. https://doi.org/10.21037/mhealth.2016.12.01\n",
    "\n",
    "\n",
    "Dataset and preprocessing (banendataset): De dataset was vrij eenvoudig om te verkregen. Met de website van het CBS konden er namelijk al variabelen gefilterd worden. De originele dataset is namelijk vrij groot, waarbij veel data niet specifiek relevant is voor het argument. Zo kon er via de website variabelen zoals minimumloon, geslacht, leeftijd en nationaliteit gefilterd worden. De overgebleven dataset bevat een aantal ingewikkeld geschreven, maar vrij eenvoudige variabelen. 'KenmerkenWerknemer' geeft een code aan waarmee aangegeven wordt wat voor type persoon het is, bijvoorbeeld man of vrouw of de leeftijd. 'CaoSector' geeft een code aan die aangeeft in welke sector de cao zit. De 'Perioden' kolom betreft het jaartal. Deze was eerst ingewikkeld geschreven, dus is deze kolom vereenvoudigd tot alleen het jaartal. Tenslotte geeft 'TotaalBanen_1' het totale aantal banen in een bepaald jaar. "
   ]
  }
 ],
 "metadata": {
  "kernelspec": {
   "display_name": "Python 3 (ipykernel)",
   "language": "python",
   "name": "python3"
  },
  "language_info": {
   "codemirror_mode": {
    "name": "ipython",
    "version": 3
   },
   "file_extension": ".py",
   "mimetype": "text/x-python",
   "name": "python",
   "nbconvert_exporter": "python",
   "pygments_lexer": "ipython3",
   "version": "3.9.12"
  }
 },
 "nbformat": 4,
 "nbformat_minor": 5
}
